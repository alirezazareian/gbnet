{
 "cells": [
  {
   "cell_type": "code",
   "execution_count": 9,
   "id": "eba8d895",
   "metadata": {},
   "outputs": [],
   "source": [
    "%load_ext autoreload\n",
    "%autoreload 2"
   ]
  },
  {
   "cell_type": "code",
   "execution_count": 20,
   "id": "affbd931",
   "metadata": {},
   "outputs": [],
   "source": [
    "import json\n",
    "with open('VG-SGG-dicts.json', 'r') as fin:\n",
    "    scene_graph_meta_zareian = json.load(fin)\n",
    "\n",
    "with open('VG-SGG-dicts_combined_176_20211107.json', 'r') as fin:\n",
    "    scene_graph_meta_wiki_51 = json.load(fin)\n",
    "\n",
    "# labels_new = sorted(list(scene_graph_meta_150['label_to_idx'].keys()))\n",
    "\n",
    "# new_labels2order = scene_graph_meta['label_to_idx'].copy()\n",
    "# labels_new = sorted(list(new_labels2order.keys()) + ['__background__'])\n",
    "# new_preds2order = scene_graph_meta['predicate_to_idx'].copy()\n",
    "# preds_new = sorted(list(new_preds2order.keys()) + ['__background__'])\n"
   ]
  },
  {
   "cell_type": "code",
   "execution_count": 21,
   "id": "8f1635b8",
   "metadata": {},
   "outputs": [],
   "source": [
    "labels_sorted_150 = sorted(list(scene_graph_meta_zareian['label_to_idx'].keys())) # 150\n",
    "labels_sorted_176 = sorted(list(scene_graph_meta_wiki_51['label_to_idx'].keys())) # 176"
   ]
  },
  {
   "cell_type": "code",
   "execution_count": null,
   "id": "7acb8259",
   "metadata": {},
   "outputs": [],
   "source": [
    "label2synset_combined = load_obj('label2synset_combined')\n",
    "idx2label_177 = {str(v): k for k, v in sorted(scene_graph_meta_177['label_to_idx'].items(), key=lambda item: item[1])}\n",
    "labels_new = sorted(list(scene_graph_meta_177['label_to_idx'].keys()))\n"
   ]
  },
  {
   "cell_type": "code",
   "execution_count": 13,
   "id": "466a71b4",
   "metadata": {},
   "outputs": [
    {
     "name": "stdout",
     "output_type": "stream",
     "text": [
      "(151, 300)\n",
      "(51, 300)\n"
     ]
    }
   ],
   "source": [
    "from utils import save_obj, load_obj\n",
    "emb_txt = load_obj('../emb_mtx')\n",
    "emb_ent = emb_txt[0]\n",
    "emb_preds = emb_txt[1]\n",
    "print(emb_ent.shape)\n",
    "print(emb_preds.shape)"
   ]
  },
  {
   "cell_type": "code",
   "execution_count": 63,
   "id": "b040254b",
   "metadata": {},
   "outputs": [
    {
     "data": {
      "text/plain": [
       "array([[ 0.      ,  0.      ,  0.      , ...,  0.      ,  0.      ,\n",
       "         0.      ],\n",
       "       [ 0.6211  , -0.39874 ,  0.14321 , ...,  0.48462 ,  0.40693 ,\n",
       "         0.30929 ],\n",
       "       [-0.47727 , -0.013122, -0.33529 , ...,  0.17792 , -0.29661 ,\n",
       "        -0.013497],\n",
       "       ...,\n",
       "       [ 0.14546 ,  0.62681 ,  0.57661 , ...,  0.023874, -0.29355 ,\n",
       "         0.50647 ],\n",
       "       [ 0.025567,  0.27885 , -0.16992 , ..., -0.018582, -0.10128 ,\n",
       "        -0.34728 ],\n",
       "       [ 0.032498, -0.086628, -0.53464 , ...,  0.8099  , -0.3427  ,\n",
       "        -0.2495  ]], dtype=float32)"
      ]
     },
     "execution_count": 63,
     "metadata": {},
     "output_type": "execute_result"
    }
   ],
   "source": [
    "emb_ent"
   ]
  },
  {
   "cell_type": "code",
   "execution_count": 22,
   "id": "0398fdce",
   "metadata": {},
   "outputs": [],
   "source": [
    "labels_150 = list(scene_graph_meta_zareian['label_to_idx'].keys())\n",
    "preds_50 = list(scene_graph_meta_zareian['predicate_to_idx'].keys())"
   ]
  },
  {
   "cell_type": "code",
   "execution_count": 62,
   "id": "68d2feae",
   "metadata": {},
   "outputs": [
    {
     "name": "stdout",
     "output_type": "stream",
     "text": [
      "Loaded 1917494 words\n"
     ]
    }
   ],
   "source": [
    "import torch\n",
    "import torchtext.vocab as vocab\n",
    "\n",
    "glove_840B = vocab.GloVe(name='840B', dim=300)\n",
    "\n",
    "print('Loaded {} words'.format(len(glove.itos)))\n",
    "\n",
    "# def get_word(word):\n",
    "#     return glove_840B.vectors[glove.stoi[word]]\n",
    "\n",
    "labels_zareian = sorted(scene_graph_meta_zareian['label_to_idx'].keys())\n",
    "emb_151 = glove_840B.get_vecs_by_tokens(['__background__'] + labels_zareian, lower_case_backup=True)\n",
    "\n",
    "# Assume labels_new is sorted\n",
    "labels_new = sorted(scene_graph_meta_wiki_51['label_to_idx'].keys())\n",
    "emb_177 = glove_840B.get_vecs_by_tokens(['__background__'] + labels_new, lower_case_backup=True)\n"
   ]
  },
  {
   "cell_type": "code",
   "execution_count": 66,
   "id": "45b44249",
   "metadata": {},
   "outputs": [],
   "source": [
    "emb_177_np = emb_177.numpy()"
   ]
  },
  {
   "cell_type": "code",
   "execution_count": 68,
   "id": "46a3a645",
   "metadata": {},
   "outputs": [
    {
     "data": {
      "text/plain": [
       "(177, 300)"
      ]
     },
     "execution_count": 68,
     "metadata": {},
     "output_type": "execute_result"
    }
   ],
   "source": [
    "emb_177_np.shape"
   ]
  },
  {
   "cell_type": "markdown",
   "id": "effc7aba",
   "metadata": {},
   "source": [
    "# Can do the preds later"
   ]
  },
  {
   "cell_type": "code",
   "execution_count": 77,
   "id": "b376112f",
   "metadata": {},
   "outputs": [],
   "source": [
    "# save_obj((emb_177_np, emb_preds), 'emb_txt_wiki_51')"
   ]
  },
  {
   "cell_type": "markdown",
   "id": "5ef52e71",
   "metadata": {},
   "source": [
    "# Verify Zareian-TorchText Match"
   ]
  },
  {
   "cell_type": "code",
   "execution_count": 74,
   "id": "c7d02b08",
   "metadata": {},
   "outputs": [
    {
     "name": "stdout",
     "output_type": "stream",
     "text": [
      "23.505192\n",
      "tensor(23.5052)\n",
      "82.076355\n",
      "82.076355\n"
     ]
    }
   ],
   "source": [
    "import numpy as np\n",
    "\n",
    "print(emb_ent.sum()) # 23.505192\n",
    "print(emb_151.sum()) # 23.5052\n",
    "\n",
    "print(np.linalg.norm(emb_ent)) #82.076355\n",
    "print(np.linalg.norm(emb_151)) # 82.076355\n"
   ]
  },
  {
   "cell_type": "code",
   "execution_count": null,
   "id": "102d61f8",
   "metadata": {},
   "outputs": [],
   "source": []
  }
 ],
 "metadata": {
  "kernelspec": {
   "display_name": "Python 3 (ipykernel)",
   "language": "python",
   "name": "python3"
  },
  "language_info": {
   "codemirror_mode": {
    "name": "ipython",
    "version": 3
   },
   "file_extension": ".py",
   "mimetype": "text/x-python",
   "name": "python",
   "nbconvert_exporter": "python",
   "pygments_lexer": "ipython3",
   "version": "3.9.7"
  }
 },
 "nbformat": 4,
 "nbformat_minor": 5
}
