{
 "cells": [
  {
   "cell_type": "markdown",
   "metadata": {},
   "source": [
    "# Remember to do it for preds\n",
    "# Also, need to limit languages"
   ]
  },
  {
   "cell_type": "code",
   "execution_count": 1,
   "metadata": {},
   "outputs": [],
   "source": [
    "%load_ext autoreload\n",
    "%autoreload 2"
   ]
  },
  {
   "cell_type": "code",
   "execution_count": 2,
   "metadata": {
    "scrolled": true
   },
   "outputs": [],
   "source": [
    "from utils import save_obj, load_obj, get_cn_url, get_cn_json"
   ]
  },
  {
   "cell_type": "code",
   "execution_count": 48,
   "metadata": {},
   "outputs": [],
   "source": [
    "import pickle\n",
    "\n",
    "def save_obj(obj, name ):\n",
    "    with open('obj/'+ name + '.pkl', 'wb') as f:\n",
    "        pickle.dump(obj, f, pickle.HIGHEST_PROTOCOL)\n",
    "\n",
    "def load_obj(name ):\n",
    "    with open('obj/' + name + '.pkl', 'rb') as f:\n",
    "        return pickle.load(f)\n",
    "    \n",
    "label2id_zareian = load_obj('label2id_150_zareian_code_20211017')\n",
    "pred2id = load_obj('pred2id_old')"
   ]
  },
  {
   "cell_type": "code",
   "execution_count": 4,
   "metadata": {
    "scrolled": true
   },
   "outputs": [
    {
     "data": {
      "text/plain": [
       "{'kite': '/c/en/kite/n',\n",
       " 'pant': '/c/en/trouser/n',\n",
       " 'bowl': '/c/en/bowl/n',\n",
       " 'laptop': '/c/en/laptop/n',\n",
       " 'paper': '/c/en/paper/n',\n",
       " 'motorcycle': '/c/en/motorcycle/n',\n",
       " 'railing': '/c/en/railing/n',\n",
       " 'chair': '/c/en/chair/n',\n",
       " 'windshield': '/c/en/windshield/n',\n",
       " 'tire': '/c/en/tire/n',\n",
       " 'cup': '/c/en/cup/n',\n",
       " 'bench': '/c/en/bench/n',\n",
       " 'tail': '/c/en/tail/n',\n",
       " 'bike': '/c/en/bicycle/n',\n",
       " 'board': '/c/en/board/n',\n",
       " 'orange': '/c/en/orange/n',\n",
       " 'hat': '/c/en/hat/n',\n",
       " 'finger': '/c/en/finger/n',\n",
       " 'plate': '/c/en/plate/n',\n",
       " 'woman': '/c/en/woman/n',\n",
       " 'handle': '/c/en/handle/n',\n",
       " 'branch': '/c/en/branch/n',\n",
       " 'food': '/c/en/food/n',\n",
       " 'bear': '/c/en/bear/n',\n",
       " 'vase': '/c/en/vase/n',\n",
       " 'vegetable': '/c/en/vegetable/n',\n",
       " 'giraffe': '/c/en/giraffe/n',\n",
       " 'desk': '/c/en/desk/n',\n",
       " 'lady': '/c/en/lady/n',\n",
       " 'towel': '/c/en/towel/n',\n",
       " 'glove': '/c/en/glove/n',\n",
       " 'bag': '/c/en/bag/n',\n",
       " 'nose': '/c/en/nose/n',\n",
       " 'rock': '/c/en/rock/n',\n",
       " 'guy': '/c/en/guy/n',\n",
       " 'shoe': '/c/en/shoe/n',\n",
       " 'sneaker': '/c/en/gym_shoe/n',\n",
       " 'fence': '/c/en/fence/n',\n",
       " 'people': '/c/en/people/n',\n",
       " 'house': '/c/en/house/n',\n",
       " 'seat': '/c/en/seat/n',\n",
       " 'hair': '/c/en/hair/n',\n",
       " 'street': '/c/en/street/n',\n",
       " 'roof': '/c/en/roof/n',\n",
       " 'racket': '/c/en/racket/n',\n",
       " 'logo': '/c/en/logo/n',\n",
       " 'girl': '/c/en/female_child/n',\n",
       " 'arm': '/c/en/arm/n',\n",
       " 'flower': '/c/en/flower/n',\n",
       " 'leaf': '/c/en/leaf/n',\n",
       " 'clock': '/c/en/clock/n',\n",
       " 'hill': '/c/en/hill/n',\n",
       " 'bird': '/c/en/bird/n',\n",
       " 'umbrella': '/c/en/umbrella/n',\n",
       " 'leg': '/c/en/leg/n',\n",
       " 'screen': '/c/en/screen/n',\n",
       " 'men': '/c/en/man/n',\n",
       " 'sink': '/c/en/sink/n',\n",
       " 'trunk': '/c/en/trunk/n',\n",
       " 'post': '/c/en/post/n',\n",
       " 'sidewalk': '/c/en/sidewalk/n',\n",
       " 'box': '/c/en/box/n',\n",
       " 'boy': '/c/en/male_child/n',\n",
       " 'cow': '/c/en/cow/n',\n",
       " 'skateboard': '/c/en/skateboard/n',\n",
       " 'plane': '/c/en/airplane/n',\n",
       " 'stand': '/c/en/stand/n',\n",
       " 'pillow': '/c/en/pillow/n',\n",
       " 'ski': '/c/en/ski/n',\n",
       " 'wire': '/c/en/wire/n',\n",
       " 'toilet': '/c/en/toilet/n',\n",
       " 'pot': '/c/en/pot/n',\n",
       " 'sign': '/c/en/sign/n',\n",
       " 'number': '/c/en/numeral/n',\n",
       " 'pole': '/c/en/pole/n',\n",
       " 'table': '/c/en/table/n',\n",
       " 'boat': '/c/en/boat/n',\n",
       " 'sheep': '/c/en/sheep/n',\n",
       " 'horse': '/c/en/horse/n',\n",
       " 'eye': '/c/en/eye/n',\n",
       " 'sock': '/c/en/sock/n',\n",
       " 'window': '/c/en/window/n',\n",
       " 'vehicle': '/c/en/vehicle/n',\n",
       " 'curtain': '/c/en/curtain/n',\n",
       " 'kid': '/c/en/child/n',\n",
       " 'banana': '/c/en/banana/n',\n",
       " 'engine': '/c/en/engine/n',\n",
       " 'head': '/c/en/head/n',\n",
       " 'door': '/c/en/door/n',\n",
       " 'bus': '/c/en/bus/n',\n",
       " 'cabinet': '/c/en/cabinet/n',\n",
       " 'glass': '/c/en/glass/n',\n",
       " 'flag': '/c/en/flag/n',\n",
       " 'train': '/c/en/train/n',\n",
       " 'child': '/c/en/child/n',\n",
       " 'ear': '/c/en/ear/n',\n",
       " 'surfboard': '/c/en/surfboard/n',\n",
       " 'room': '/c/en/room/n',\n",
       " 'player': '/c/en/player/n',\n",
       " 'car': '/c/en/car/n',\n",
       " 'cap': '/c/en/cap/n',\n",
       " 'tree': '/c/en/tree/n',\n",
       " 'bed': '/c/en/bed/n',\n",
       " 'cat': '/c/en/cat/n',\n",
       " 'coat': '/c/en/coat/n',\n",
       " 'skier': '/c/en/skier/n',\n",
       " 'zebra': '/c/en/zebra/n',\n",
       " 'fork': '/c/en/fork/n',\n",
       " 'drawer': '/c/en/drawer/n',\n",
       " 'airplane': '/c/en/airplane/n',\n",
       " 'helmet': '/c/en/helmet/n',\n",
       " 'shirt': '/c/en/shirt/n',\n",
       " 'paw': '/c/en/paw/n',\n",
       " 'boot': '/c/en/boot/n',\n",
       " 'snow': '/c/en/snow/n',\n",
       " 'lamp': '/c/en/lamp/n',\n",
       " 'book': '/c/en/book/n',\n",
       " 'animal': '/c/en/animal/n',\n",
       " 'elephant': '/c/en/elephant/n',\n",
       " 'tile': '/c/en/tile/n',\n",
       " 'tie': '/c/en/necktie/n',\n",
       " 'beach': '/c/en/beach/n',\n",
       " 'pizza': '/c/en/pizza/n',\n",
       " 'wheel': '/c/en/wheel/n',\n",
       " 'plant': '/c/en/plant/n',\n",
       " 'tower': '/c/en/tower/n',\n",
       " 'mountain': '/c/en/mountain/n',\n",
       " 'track': '/c/en/path/n',\n",
       " 'hand': '/c/en/hand/n',\n",
       " 'fruit': '/c/en/fruit/n',\n",
       " 'mouth': '/c/en/mouth/n',\n",
       " 'letter': '/c/en/letter/n',\n",
       " 'shelf': '/c/en/shelf/n',\n",
       " 'wave': '/c/en/wave/n',\n",
       " 'man': '/c/en/man/n',\n",
       " 'building': '/c/en/building/n',\n",
       " 'short': '/c/en/short_pants/n',\n",
       " 'neck': '/c/en/neck/n',\n",
       " 'phone': '/c/en/telephone/n',\n",
       " 'light': '/c/en/light/n',\n",
       " 'counter': '/c/en/counter/n',\n",
       " 'dog': '/c/en/dog/n',\n",
       " 'face': '/c/en/face/n',\n",
       " 'jacket': '/c/en/jacket/n',\n",
       " 'person': '/c/en/person/n',\n",
       " 'truck': '/c/en/truck/n',\n",
       " 'bottle': '/c/en/bottle/n',\n",
       " 'basket': '/c/en/basket/n',\n",
       " 'jean': '/c/en/jean/n',\n",
       " 'wing': '/c/en/wing/n'}"
      ]
     },
     "execution_count": 4,
     "metadata": {},
     "output_type": "execute_result"
    }
   ],
   "source": [
    "label2id_zareian"
   ]
  },
  {
   "cell_type": "code",
   "execution_count": 49,
   "metadata": {},
   "outputs": [
    {
     "data": {
      "text/plain": [
       "{'and': '/c/en/and',\n",
       " 'says': '/c/en/say/v',\n",
       " 'belonging to': '/c/en/belong/v',\n",
       " 'over': '/c/en/over/r',\n",
       " 'parked on': '/c/en/park/v',\n",
       " 'growing on': '/c/en/grow/v',\n",
       " 'standing on': '/c/en/stand/v',\n",
       " 'made of': '/c/en/make/v',\n",
       " 'attached to': '/c/en/attach/v',\n",
       " 'at': '/c/en/at',\n",
       " 'in': '/c/en/in/r',\n",
       " 'hanging from': '/c/en/hang/v',\n",
       " 'wears': '/c/en/wear/v',\n",
       " 'in front of': '/c/en/ahead/r',\n",
       " 'from': '/c/en/from',\n",
       " 'for': '/c/en/belong/v',\n",
       " 'watching': '/c/en/watch/v',\n",
       " 'lying on': '/c/en/lie/v',\n",
       " 'to': '/c/en/to',\n",
       " 'behind': '/c/en/behind/r',\n",
       " 'flying in': '/c/en/fly/v',\n",
       " 'looking at': '/c/en/look/v',\n",
       " 'on back of': '/c/en/on_back_of',\n",
       " 'holding': '/c/en/hold/v',\n",
       " 'between': '/c/en/between/r',\n",
       " 'laying on': '/c/en/lie/v',\n",
       " 'riding': '/c/en/ride/v',\n",
       " 'has': '/c/en/have/v',\n",
       " 'across': '/c/en/across/r',\n",
       " 'wearing': '/c/en/wear/v',\n",
       " 'walking on': '/c/en/walk/v',\n",
       " 'eating': '/c/en/eat/v',\n",
       " 'above': '/c/en/above/r',\n",
       " 'part of': '/c/en/constitute/v',\n",
       " 'walking in': '/c/en/walk/v',\n",
       " 'sitting on': '/c/en/sit/v',\n",
       " 'under': '/c/en/under',\n",
       " 'covered in': '/c/en/covered/a',\n",
       " 'carrying': '/c/en/transport/v',\n",
       " 'using': '/c/en/use/v',\n",
       " 'along': '/c/en/along',\n",
       " 'with': '/c/en/with',\n",
       " 'on': '/c/en/on',\n",
       " 'covering': '/c/en/cover/v',\n",
       " 'of': '/c/en/belong/v',\n",
       " 'against': '/c/en/against',\n",
       " 'playing': '/c/en/play/v',\n",
       " 'near': '/c/en/near/r',\n",
       " 'painted on': '/c/en/paint/v',\n",
       " 'mounted on': '/c/en/mount/v'}"
      ]
     },
     "execution_count": 49,
     "metadata": {},
     "output_type": "execute_result"
    }
   ],
   "source": [
    "pred2id"
   ]
  },
  {
   "cell_type": "code",
   "execution_count": 7,
   "metadata": {},
   "outputs": [],
   "source": [
    "# [get_cn_url(cn_id) for cn_id in label2id_zareian.values()]"
   ]
  },
  {
   "cell_type": "code",
   "execution_count": 8,
   "metadata": {},
   "outputs": [],
   "source": [
    "# label2id_zareian"
   ]
  },
  {
   "cell_type": "code",
   "execution_count": 9,
   "metadata": {},
   "outputs": [],
   "source": [
    "from time import sleep"
   ]
  },
  {
   "cell_type": "code",
   "execution_count": 10,
   "metadata": {},
   "outputs": [],
   "source": [
    "import requests"
   ]
  },
  {
   "cell_type": "code",
   "execution_count": 447,
   "metadata": {},
   "outputs": [],
   "source": [
    "from collections import defaultdict\n",
    "import warnings\n",
    "# from warnings import warnings.warn, formatwarning\n",
    "warnings.formatwarning = lambda msg, *args, **kwargs: f'{msg}\\n'\n",
    "import pandas as pd\n",
    "\n",
    "# columns = [\n",
    "#     'cn_id',\n",
    "#     'edge_id',\n",
    "#     'edge_start_raw',\n",
    "#     'edge_end_raw',\n",
    "#     'predicate',\n",
    "#     'edge_start_matched',\n",
    "#     'edge_pd_matched',\n",
    "# ]\n",
    "class EdgeBuilder:\n",
    "    def __init__(self, cn_ids):\n",
    "#         self.edges = pd.DataFrame(data, columns=['A', 'B', 'C']\n",
    "        self.edges = []\n",
    "        self.cn_ids = cn_ids\n",
    "#         self.visited = defaultdict(lambda: defaultdict(str)) # avoid exact duplicates lol['start']['end'] = ['/r/isA']\n",
    "#         self.visited = defaultdict(lambda: defaultdict(list(str)))\n",
    "#         self.visited = {}\n",
    "        self.visited = []\n",
    "        self.duplicated_ids = set()\n",
    "\n",
    "    def is_edge_visited_directed(self, edge):\n",
    "        return edge['@id'] in self.visited # this reduced edges from 72 to 46 \n",
    "#         e1, e2, r = edge\n",
    "#         try:\n",
    "#             return r in self.visited[e1][e2]\n",
    "#         except KeyError:\n",
    "#             return False\n",
    "#         if e1 not in self.visited:\n",
    "#             return False\n",
    "#         if e2 not in self.visited[e1]:\n",
    "#             return False\n",
    "    \n",
    "    def visit_edge_id(self, edge_id):\n",
    "        self.visited.append(edge_id)\n",
    "#         e1, e2, r = edge\n",
    "#         if e1 not in self.visited:\n",
    "#             self.visited[e1] = {e2:[r]}\n",
    "#             return\n",
    "#         if e2 not in self.visited[e1]:\n",
    "#             self.visited[e1][e2] = [r]\n",
    "#             return\n",
    "#         if r not in self.visited[e1][e2]:\n",
    "#             self.visited[e1][e2].append(r)\n",
    "# #             return False\n",
    "# #         if e2 not in self.visited[e1]:\n",
    "# #             return False\n",
    "#         self.visited[e1][e2].append(r)\n",
    "\n",
    "    def is_edge_relevant(self, edge):\n",
    "        entity_1, entity_2, _ = self.get_fact_from_response(edge)\n",
    "        return entity_1 is not None and entity_2 is not None and entity_1 != entity_2\n",
    "\n",
    "    def get_page_edges_objects(self, cn_id):\n",
    "        '''Get the edges of the current cn_id'''\n",
    "        response_json = get_cn_json(cn_id)\n",
    "#         sleep(0.5) # 120 calls per min\n",
    "        edges = response_json['edges']\n",
    "#         self.add_page_edges(response_json)\n",
    "        # Navigate next pages\n",
    "        while 'view' in response_json and 'nextPage' in response_json['view']:\n",
    "            next_page = response_json['view']['nextPage']\n",
    "            response_json = get_cn_json(next_page)\n",
    "            edges.extend(response_json['edges'])\n",
    "            \n",
    "        return edges\n",
    "    \n",
    "    def dfs_relevant_plus(self, cn_id, hops=0, plus=0):  #function for dfs \n",
    "        '''Adds edges to an empty tree. This version will walk only irrelevant edges and add them'''\n",
    "        response_json = get_cn_json(cn_id)\n",
    "        self.add_page_edges()\n",
    "        e1, e2, r = self.get_fact_from_response(response_json)\n",
    "        if self.is_edge_visited((e1, e2, r)):\n",
    "            print(cn_id)\n",
    "#             e1, e2, r = cn_id\n",
    "#             e1, e2, r = get_cn_json(cn_id)\n",
    "            is_plus = plus>=1 or plus==-1 # add edge if there's a positive plus or a negative plus (for irrelevant mode)\n",
    "            is_relevant = self.add_one_edge_relevant((e1, e2, r), is_plus)\n",
    "            if is_relevant:\n",
    "                self.visited[e1][e2] = r\n",
    "                if hops >= 1:\n",
    "                    for child in self.get_children(cn_id):\n",
    "                        self.dfs_relevant_plus(child, hops-1, plus-1)\n",
    "\n",
    "    def find_match(self, new_edge):\n",
    "        matched_ids = []\n",
    "        for item in self.cn_ids:\n",
    "            if new_edge == item:\n",
    "                matched_ids.append(item)\n",
    "            elif new_edge.startswith(item + '/'):            \n",
    "                matched_ids.append(item)\n",
    "        if len(matched_ids) > 1:\n",
    "            raise ValueError(f'find_match: nonunique matched_ids={matched_ids}')\n",
    "        return matched_ids[0] if len(matched_ids) > 0 else None\n",
    "\n",
    "    def add_one_edge(self, edge):\n",
    "        entity_1 = self.find_match(edge['start']['@id'])\n",
    "        entity_2 = self.find_match(edge['end']['@id'])\n",
    "        entity_predicate = edge['rel']['@id']\n",
    "#         if entity_1 is not None and entity_2 is not None and entity_1 != entity_2: # check relevance before\n",
    "        print(f'trying to add {(entity_1, entity_2, entity_predicate)}')\n",
    "        self.edges.append((entity_1, entity_2, entity_predicate))\n",
    "#         print('add_to_edges: added edge ({}, {}, {})'.format(entity_1, entity_2, entity_predicate))\n",
    "\n",
    "    def add_one_edge_raw(self, edge_raw):\n",
    "        self.edges.append(edge_raw)\n",
    "#         e1, e2, r = edge_raw\n",
    "# #         if entity_1 is not None and entity_2 is not None and entity_1 != entity_2: # check relevance before\n",
    "#         print(f'trying to add {(e1, e2, r)}')\n",
    "#         self.edges.append((e1, e2, r))\n",
    "#         print('add_to_edges: added edge ({}, {}, {})'.format(entity_1, entity_2, entity_predicate))\n",
    "\n",
    "    def get_raw_fact_from_response(self, response_json):\n",
    "#         breakpoint()\n",
    "        cn_id_start = response_json['start']['@id']\n",
    "        cn_id_end = response_json['end']['@id']\n",
    "        entity_predicate = response_json['rel']['@id']\n",
    "        return cn_id_start, cn_id_end, entity_predicate\n",
    "\n",
    "    def get_fact_from_response(self, response_json):\n",
    "#         breakpoint()\n",
    "        cn_id_start = response_json['start']['@id']\n",
    "        entity_1 = self.find_match(cn_id_start)\n",
    "        cn_id_end = response_json['end']['@id']\n",
    "        entity_2 = self.find_match(cn_id_end)\n",
    "        entity_predicate = response_json['rel']['@id']\n",
    "        return entity_1, entity_2, entity_predicate\n",
    "\n",
    "    def run_dfs_relevant_plus(self, hops=1, plus=0):\n",
    "        # hops is for how many levels of relevant hops\n",
    "        # plus is for how many levels of hops regardless of relevance.\n",
    "        for cn_id in self.cn_ids:\n",
    "            self.explore_cn_id(cn_id, hops, plus)\n",
    "            \n",
    "    def explore_cn_id(self, cn_id, hops, plus):\n",
    "        edges = self.get_page_edges_objects(cn_id)\n",
    "        for edge in edges:\n",
    "            e1_raw, e2_raw, r = self.get_raw_fact_from_response(edge)\n",
    "            \n",
    "            # Ditch non-English concepts for now\n",
    "            if not e1_raw.startswith('/c/en') or not e2_raw.startswith('/c/en'):\n",
    "                continue\n",
    "#             if edge['@id'] == '/a/[/r/PartOf/,/c/en/drawer/n/wn/artifact/,/c/en/desk/n/wn/artifact/]':\n",
    "#                 breakpoint()\n",
    "#             if cn_id == '/c/en/drawer/n':\n",
    "#                 breakpoint()\n",
    "\n",
    "#             if self.is_edge_visited_directed((e1_raw, e2_raw, r)):\n",
    "#                 continue\n",
    "#             self.visit((e1_raw, e2_raw, r))\n",
    "\n",
    "#             print(f'explore_cn_id: cn_id={cn_id}, e1_raw={e1_raw}, e2_raw={e2_raw}')\n",
    "            e1_matched = self.find_match(e1_raw)\n",
    "            e2_matched = self.find_match(e2_raw)\n",
    "        \n",
    "#             breakpoint()\n",
    "            if e1_matched is None or e2_matched is None:\n",
    "                warnings.warn(eval(f\"f'''e1_matched={e1_matched} is None or e2_matched={e2_matched} is None'''\"))\n",
    "                continue\n",
    "            if e1_matched == e2_matched:\n",
    "                warnings.warn(eval(f\"f'''e1_matched=e2_matched={e2_matched}'''\"))\n",
    "                continue\n",
    "\n",
    "            # Decide to go down the start vs the end node in this edge\n",
    "            # TODO: use matched instead in checks or assignment?\n",
    "            if e1_raw.startswith(cn_id):\n",
    "#                 prev_node, next_node = e1_raw, e2_raw\n",
    "                prev_node, next_node = e1_matched, e2_matched\n",
    "            elif e2_raw.startswith(cn_id):\n",
    "#                 prev_node, next_node = e2_raw, e1_raw\n",
    "                prev_node, next_node = e2_matched, e1_matched\n",
    "            else:\n",
    "                raise ValueError(f'run_dfs_relevant_plus: Error mismatch cn_id={cn_id}, e1_raw={e1_raw}, e2={e2_raw}')\n",
    "            \n",
    "            \n",
    "                \n",
    "#             if edge['@id'] == '/a/[/r/Synonym/,/c/en/branch/n/wn/artifact/,/c/en/arm/n/wn/artifact/]':\n",
    "#                 breakpoint()\n",
    "#             if e1_matched =='/c/en/arm/n' or e2_matched == '/c/en/arm/n':\n",
    "#                 breakpoint()\n",
    "# #             if self.is_edge_visited_directed((prev_node, next_node, r)):\n",
    "            \n",
    "            edge_id = edge['@id']\n",
    "            if self.is_edge_visited_directed(edge):\n",
    "                self.duplicated_ids.add(edge_id)\n",
    "                warnings.warn(eval(f\"f'''skipping visited edge {edge['@id']}'''\"))\n",
    "                continue\n",
    "#             self.visit((prev_node, next_node, r))\n",
    "            \n",
    "            is_relevant = bool(e1_matched) and bool(e2_matched)\n",
    "#             new_edge = (e1_raw, e2_raw, r)\n",
    "#             new_edge = (e1_matched, e2_matched, r)\n",
    "            new_edge = {\n",
    "                'cn_id': cn_id,\n",
    "                'edge_id': edge_id,\n",
    "                'edge_start_raw': e1_raw,\n",
    "                'edge_end_raw': e2_raw,\n",
    "                'predicate': r,\n",
    "                'edge_start_matched': e1_matched,\n",
    "                'edge_pd_matched': e2_matched,\n",
    "            }\n",
    "            # 8 scenarios: \n",
    "            # 1: relevant edge, no hops, no plus => x\n",
    "            # 2: relevant edge, no hops, yes plus => √\n",
    "            # 3: relevant edge, yes hops, no plus => √\n",
    "            # 4: relevant edge, yes hops, yes plus => √\n",
    "            # 5: irrelevant edge, no hops, no plus => x\n",
    "            # 6: irrelevant edge, no hops, yes plus => √\n",
    "            # 7: irrelevant edge, yes hops, no plus => x\n",
    "            # 8: irrelevant edge, yes hops, yes plus => √\n",
    "            \n",
    "            if hops==0 and plus==0:\n",
    "                # Covers cases 1 and 5\n",
    "                continue\n",
    "            elif is_relevant and hops==0 and plus>=1:\n",
    "                # Covers cases 2\n",
    "                print(f'cn_id={cn_id}, new_edge={new_edge}')\n",
    "                self.visit_edge_id(edge_id)\n",
    "                self.add_one_edge_raw(new_edge)\n",
    "                self.explore_cn_id(next_node, hops, plus-1)\n",
    "            elif is_relevant and hops>=1:\n",
    "                # Covers cases 3 and 4\n",
    "                print(f'cn_id={cn_id}, new_edge={new_edge}')\n",
    "                self.visit_edge_id(edge_id)\n",
    "                self.add_one_edge_raw(new_edge)\n",
    "                self.explore_cn_id(next_node, hops-1, plus)\n",
    "            elif not is_relevant and plus==0:\n",
    "                # Covers cases 5 and 7\n",
    "                continue\n",
    "            elif not is_relevant and plus>=1:\n",
    "                # Covers cases 6 and 8\n",
    "                print(f'cn_id={cn_id}, new_edge={new_edge}')\n",
    "                self.visit_edge_id(edge_id)\n",
    "                self.add_one_edge_raw(new_edge)\n",
    "                self.explore_cn_id(next_node, hops, plus-1)\n",
    "            else:\n",
    "                raise ValueError(f'other cases encountered. is_relevant={is_relevant}, hops={hops}, plus={plus}')\n"
   ]
  },
  {
   "cell_type": "code",
   "execution_count": 298,
   "metadata": {
    "scrolled": true
   },
   "outputs": [
    {
     "name": "stdout",
     "output_type": "stream",
     "text": [
      "150\n",
      "147\n"
     ]
    }
   ],
   "source": [
    "print(len(label2id_zareian)) # 150\n",
    "print(len(set(label2id_zareian.values()))) # 147\n",
    "# 3 labels are mapped to the same  ['/c/en/man/n', '/c/en/airplane/n', '/c/en/child/n']"
   ]
  },
  {
   "cell_type": "code",
   "execution_count": 473,
   "metadata": {},
   "outputs": [],
   "source": [
    "cn_ids = sorted(list(set(label2id_zareian.values()).union(set(pred2id.values()))))\n",
    "# cn_ids = sorted(list(set(label2id_zareian.values()))) #.union(set(pred2id.values())))"
   ]
  },
  {
   "cell_type": "code",
   "execution_count": 437,
   "metadata": {},
   "outputs": [],
   "source": [
    "cn_ids = ['/c/en/drawer/n']"
   ]
  },
  {
   "cell_type": "code",
   "execution_count": 379,
   "metadata": {},
   "outputs": [
    {
     "name": "stdout",
     "output_type": "stream",
     "text": [
      "1\n"
     ]
    }
   ],
   "source": [
    "print(len(cn_ids))"
   ]
  },
  {
   "cell_type": "code",
   "execution_count": 380,
   "metadata": {
    "scrolled": true
   },
   "outputs": [
    {
     "data": {
      "text/plain": [
       "'/c/en/bear/n'"
      ]
     },
     "execution_count": 380,
     "metadata": {},
     "output_type": "execute_result"
    }
   ],
   "source": [
    "cn_ids[0]"
   ]
  },
  {
   "cell_type": "code",
   "execution_count": 474,
   "metadata": {},
   "outputs": [],
   "source": [
    "test = EdgeBuilder(cn_ids)"
   ]
  },
  {
   "cell_type": "code",
   "execution_count": 442,
   "metadata": {},
   "outputs": [],
   "source": [
    "# test.get_page_edges_objects('/c/en/man/n')"
   ]
  },
  {
   "cell_type": "code",
   "execution_count": 475,
   "metadata": {
    "scrolled": true
   },
   "outputs": [
    {
     "name": "stderr",
     "output_type": "stream",
     "text": [
      "e1_matched=/c/en/above/r is None or e2_matched=None is None\n",
      "e1_matched=/c/en/across/r is None or e2_matched=None is None\n",
      "e1_matched=None is None or e2_matched=/c/en/across/r is None\n",
      "e1_matched=None is None or e2_matched=/c/en/against is None\n",
      "e1_matched=/c/en/against is None or e2_matched=None is None\n"
     ]
    },
    {
     "name": "stdout",
     "output_type": "stream",
     "text": [
      "cn_id=/c/en/against, new_edge={'cn_id': '/c/en/against', 'edge_id': '/a/[/r/Antonym/,/c/en/against/,/c/en/with/]', 'edge_start_raw': '/c/en/against', 'edge_end_raw': '/c/en/with', 'predicate': '/r/Antonym', 'edge_start_matched': '/c/en/against', 'edge_pd_matched': '/c/en/with'}\n"
     ]
    },
    {
     "name": "stderr",
     "output_type": "stream",
     "text": [
      "skipping visited edge /a/[/r/Antonym/,/c/en/against/,/c/en/with/]\n",
      "e1_matched=None is None or e2_matched=/c/en/with is None\n",
      "e1_matched=/c/en/with is None or e2_matched=None is None\n"
     ]
    },
    {
     "name": "stdout",
     "output_type": "stream",
     "text": [
      "cn_id=/c/en/against, new_edge={'cn_id': '/c/en/against', 'edge_id': '/a/[/r/RelatedTo/,/c/en/with/,/c/en/against/]', 'edge_start_raw': '/c/en/with', 'edge_end_raw': '/c/en/against', 'predicate': '/r/RelatedTo', 'edge_start_matched': '/c/en/with', 'edge_pd_matched': '/c/en/against'}\n"
     ]
    },
    {
     "name": "stderr",
     "output_type": "stream",
     "text": [
      "skipping visited edge /a/[/r/RelatedTo/,/c/en/with/,/c/en/against/]\n"
     ]
    },
    {
     "name": "stdout",
     "output_type": "stream",
     "text": [
      "cn_id=/c/en/against, new_edge={'cn_id': '/c/en/against', 'edge_id': '/a/[/r/Antonym/,/c/en/with/,/c/en/against/]', 'edge_start_raw': '/c/en/with', 'edge_end_raw': '/c/en/against', 'predicate': '/r/Antonym', 'edge_start_matched': '/c/en/with', 'edge_pd_matched': '/c/en/against'}\n"
     ]
    },
    {
     "name": "stderr",
     "output_type": "stream",
     "text": [
      "skipping visited edge /a/[/r/Antonym/,/c/en/with/,/c/en/against/]\n"
     ]
    },
    {
     "name": "stdout",
     "output_type": "stream",
     "text": [
      "cn_id=/c/en/against, new_edge={'cn_id': '/c/en/against', 'edge_id': '/a/[/r/DistinctFrom/,/c/en/against/,/c/en/along/]', 'edge_start_raw': '/c/en/against', 'edge_end_raw': '/c/en/along', 'predicate': '/r/DistinctFrom', 'edge_start_matched': '/c/en/against', 'edge_pd_matched': '/c/en/along'}\n"
     ]
    },
    {
     "name": "stderr",
     "output_type": "stream",
     "text": [
      "e1_matched=None is None or e2_matched=/c/en/along is None\n",
      "e1_matched=/c/en/along is None or e2_matched=None is None\n",
      "skipping visited edge /a/[/r/DistinctFrom/,/c/en/against/,/c/en/along/]\n"
     ]
    },
    {
     "name": "stdout",
     "output_type": "stream",
     "text": [
      "cn_id=/c/en/against, new_edge={'cn_id': '/c/en/against', 'edge_id': '/a/[/r/DistinctFrom/,/c/en/against/,/c/en/with/]', 'edge_start_raw': '/c/en/against', 'edge_end_raw': '/c/en/with', 'predicate': '/r/DistinctFrom', 'edge_start_matched': '/c/en/against', 'edge_pd_matched': '/c/en/with'}\n"
     ]
    },
    {
     "name": "stderr",
     "output_type": "stream",
     "text": [
      "skipping visited edge /a/[/r/DistinctFrom/,/c/en/against/,/c/en/with/]\n",
      "e1_matched=/c/en/ahead/r is None or e2_matched=None is None\n",
      "e1_matched=None is None or e2_matched=/c/en/ahead/r is None\n",
      "e1_matched=None is None or e2_matched=/c/en/airplane/n is None\n"
     ]
    },
    {
     "name": "stdout",
     "output_type": "stream",
     "text": [
      "cn_id=/c/en/airplane/n, new_edge={'cn_id': '/c/en/airplane/n', 'edge_id': '/a/[/r/PartOf/,/c/en/windshield/n/wn/artifact/,/c/en/airplane/n/wn/artifact/]', 'edge_start_raw': '/c/en/windshield/n/wn/artifact', 'edge_end_raw': '/c/en/airplane/n/wn/artifact', 'predicate': '/r/PartOf', 'edge_start_matched': '/c/en/windshield/n', 'edge_pd_matched': '/c/en/airplane/n'}\n"
     ]
    },
    {
     "name": "stderr",
     "output_type": "stream",
     "text": [
      "e1_matched=/c/en/windshield/n is None or e2_matched=None is None\n",
      "skipping visited edge /a/[/r/PartOf/,/c/en/windshield/n/wn/artifact/,/c/en/airplane/n/wn/artifact/]\n",
      "e1_matched=None is None or e2_matched=/c/en/windshield/n is None\n"
     ]
    },
    {
     "name": "stdout",
     "output_type": "stream",
     "text": [
      "cn_id=/c/en/airplane/n, new_edge={'cn_id': '/c/en/airplane/n', 'edge_id': '/a/[/r/PartOf/,/c/en/wing/n/wn/artifact/,/c/en/airplane/n/wn/artifact/]', 'edge_start_raw': '/c/en/wing/n/wn/artifact', 'edge_end_raw': '/c/en/airplane/n/wn/artifact', 'predicate': '/r/PartOf', 'edge_start_matched': '/c/en/wing/n', 'edge_pd_matched': '/c/en/airplane/n'}\n"
     ]
    },
    {
     "name": "stderr",
     "output_type": "stream",
     "text": [
      "e1_matched=/c/en/wing/n is None or e2_matched=None is None\n",
      "e1_matched=None is None or e2_matched=/c/en/wing/n is None\n",
      "skipping visited edge /a/[/r/PartOf/,/c/en/wing/n/wn/artifact/,/c/en/airplane/n/wn/artifact/]\n",
      "e1_matched=e2_matched=/c/en/wing/n\n"
     ]
    },
    {
     "name": "stdout",
     "output_type": "stream",
     "text": [
      "cn_id=/c/en/airplane/n, new_edge={'cn_id': '/c/en/airplane/n', 'edge_id': '/a/[/r/HasContext/,/c/en/seat/n/wn/dramaturgy/,/c/en/airplane/n/wn/artifact/]', 'edge_start_raw': '/c/en/seat/n/wn/dramaturgy', 'edge_end_raw': '/c/en/airplane/n/wn/artifact', 'predicate': '/r/HasContext', 'edge_start_matched': '/c/en/seat/n', 'edge_pd_matched': '/c/en/airplane/n'}\n"
     ]
    },
    {
     "name": "stderr",
     "output_type": "stream",
     "text": [
      "e1_matched=None is None or e2_matched=/c/en/seat/n is None\n",
      "e1_matched=/c/en/seat/n is None or e2_matched=None is None\n",
      "e1_matched=e2_matched=/c/en/seat/n\n",
      "skipping visited edge /a/[/r/HasContext/,/c/en/seat/n/wn/dramaturgy/,/c/en/airplane/n/wn/artifact/]\n",
      "e1_matched=/c/en/airplane/n is None or e2_matched=None is None\n"
     ]
    },
    {
     "name": "stdout",
     "output_type": "stream",
     "text": [
      "cn_id=/c/en/along, new_edge={'cn_id': '/c/en/along', 'edge_id': '/a/[/r/Synonym/,/c/en/on/r/wn/,/c/en/along/r/wn/]', 'edge_start_raw': '/c/en/on/r/wn', 'edge_end_raw': '/c/en/along/r/wn', 'predicate': '/r/Synonym', 'edge_start_matched': '/c/en/on', 'edge_pd_matched': '/c/en/along'}\n"
     ]
    },
    {
     "name": "stderr",
     "output_type": "stream",
     "text": [
      "e1_matched=None is None or e2_matched=/c/en/on is None\n",
      "e1_matched=/c/en/on is None or e2_matched=None is None\n",
      "skipping visited edge /a/[/r/Synonym/,/c/en/on/r/wn/,/c/en/along/r/wn/]\n"
     ]
    },
    {
     "name": "stdout",
     "output_type": "stream",
     "text": [
      "cn_id=/c/en/along, new_edge={'cn_id': '/c/en/along', 'edge_id': '/a/[/r/RelatedTo/,/c/en/with/r/wikt/en_1/,/c/en/along/]', 'edge_start_raw': '/c/en/with/r/wikt/en_1', 'edge_end_raw': '/c/en/along', 'predicate': '/r/RelatedTo', 'edge_start_matched': '/c/en/with', 'edge_pd_matched': '/c/en/along'}\n"
     ]
    },
    {
     "name": "stderr",
     "output_type": "stream",
     "text": [
      "skipping visited edge /a/[/r/RelatedTo/,/c/en/with/r/wikt/en_1/,/c/en/along/]\n"
     ]
    },
    {
     "name": "stdout",
     "output_type": "stream",
     "text": [
      "cn_id=/c/en/along, new_edge={'cn_id': '/c/en/along', 'edge_id': '/a/[/r/RelatedTo/,/c/en/along/,/c/en/with/]', 'edge_start_raw': '/c/en/along', 'edge_end_raw': '/c/en/with', 'predicate': '/r/RelatedTo', 'edge_start_matched': '/c/en/along', 'edge_pd_matched': '/c/en/with'}\n"
     ]
    },
    {
     "name": "stderr",
     "output_type": "stream",
     "text": [
      "skipping visited edge /a/[/r/RelatedTo/,/c/en/along/,/c/en/with/]\n",
      "e1_matched=/c/en/and is None or e2_matched=None is None\n",
      "e1_matched=None is None or e2_matched=/c/en/and is None\n"
     ]
    },
    {
     "name": "stdout",
     "output_type": "stream",
     "text": [
      "cn_id=/c/en/and, new_edge={'cn_id': '/c/en/and', 'edge_id': '/a/[/r/RelatedTo/,/c/en/and/,/c/en/to/]', 'edge_start_raw': '/c/en/and', 'edge_end_raw': '/c/en/to', 'predicate': '/r/RelatedTo', 'edge_start_matched': '/c/en/and', 'edge_pd_matched': '/c/en/to'}\n"
     ]
    },
    {
     "name": "stderr",
     "output_type": "stream",
     "text": [
      "e1_matched=None is None or e2_matched=/c/en/to is None\n",
      "e1_matched=/c/en/to is None or e2_matched=None is None\n",
      "skipping visited edge /a/[/r/RelatedTo/,/c/en/and/,/c/en/to/]\n"
     ]
    },
    {
     "name": "stdout",
     "output_type": "stream",
     "text": [
      "cn_id=/c/en/and, new_edge={'cn_id': '/c/en/and', 'edge_id': '/a/[/r/RelatedTo/,/c/en/from/,/c/en/and/]', 'edge_start_raw': '/c/en/from', 'edge_end_raw': '/c/en/and', 'predicate': '/r/RelatedTo', 'edge_start_matched': '/c/en/from', 'edge_pd_matched': '/c/en/and'}\n"
     ]
    },
    {
     "name": "stderr",
     "output_type": "stream",
     "text": [
      "e1_matched=/c/en/from is None or e2_matched=None is None\n",
      "e1_matched=None is None or e2_matched=/c/en/from is None\n",
      "skipping visited edge /a/[/r/RelatedTo/,/c/en/from/,/c/en/and/]\n",
      "e1_matched=None is None or e2_matched=/c/en/animal/n is None\n",
      "e1_matched=/c/en/animal/n is None or e2_matched=None is None\n"
     ]
    },
    {
     "name": "stdout",
     "output_type": "stream",
     "text": [
      "cn_id=/c/en/animal/n, new_edge={'cn_id': '/c/en/animal/n', 'edge_id': '/a/[/r/PartOf/,/c/en/head/n/wn/body/,/c/en/animal/n/wn/]', 'edge_start_raw': '/c/en/head/n/wn/body', 'edge_end_raw': '/c/en/animal/n/wn', 'predicate': '/r/PartOf', 'edge_start_matched': '/c/en/head/n', 'edge_pd_matched': '/c/en/animal/n'}\n"
     ]
    },
    {
     "name": "stderr",
     "output_type": "stream",
     "text": [
      "e1_matched=None is None or e2_matched=/c/en/head/n is None\n",
      "e1_matched=/c/en/head/n is None or e2_matched=None is None\n",
      "skipping visited edge /a/[/r/PartOf/,/c/en/head/n/wn/body/,/c/en/animal/n/wn/]\n",
      "e1_matched=e2_matched=/c/en/head/n\n"
     ]
    },
    {
     "name": "stdout",
     "output_type": "stream",
     "text": [
      "cn_id=/c/en/animal/n, new_edge={'cn_id': '/c/en/animal/n', 'edge_id': '/a/[/r/HasContext/,/c/en/nose/n/wn/animal/,/c/en/animal/n/wn/]', 'edge_start_raw': '/c/en/nose/n/wn/animal', 'edge_end_raw': '/c/en/animal/n/wn', 'predicate': '/r/HasContext', 'edge_start_matched': '/c/en/nose/n', 'edge_pd_matched': '/c/en/animal/n'}\n"
     ]
    },
    {
     "name": "stderr",
     "output_type": "stream",
     "text": [
      "e1_matched=/c/en/nose/n is None or e2_matched=None is None\n",
      "e1_matched=None is None or e2_matched=/c/en/nose/n is None\n",
      "skipping visited edge /a/[/r/HasContext/,/c/en/nose/n/wn/animal/,/c/en/animal/n/wn/]\n",
      "e1_matched=e2_matched=/c/en/nose/n\n"
     ]
    },
    {
     "name": "stdout",
     "output_type": "stream",
     "text": [
      "cn_id=/c/en/animal/n, new_edge={'cn_id': '/c/en/animal/n', 'edge_id': '/a/[/r/PartOf/,/c/en/face/n/wn/body/,/c/en/animal/n/wn/]', 'edge_start_raw': '/c/en/face/n/wn/body', 'edge_end_raw': '/c/en/animal/n/wn', 'predicate': '/r/PartOf', 'edge_start_matched': '/c/en/face/n', 'edge_pd_matched': '/c/en/animal/n'}\n"
     ]
    },
    {
     "name": "stderr",
     "output_type": "stream",
     "text": [
      "e1_matched=/c/en/face/n is None or e2_matched=None is None\n",
      "e1_matched=None is None or e2_matched=/c/en/face/n is None\n",
      "skipping visited edge /a/[/r/PartOf/,/c/en/face/n/wn/body/,/c/en/animal/n/wn/]\n"
     ]
    },
    {
     "name": "stdout",
     "output_type": "stream",
     "text": [
      "cn_id=/c/en/animal/n, new_edge={'cn_id': '/c/en/animal/n', 'edge_id': '/a/[/r/IsA/,/c/en/horse/n/,/c/en/animal/n/]', 'edge_start_raw': '/c/en/horse/n', 'edge_end_raw': '/c/en/animal/n', 'predicate': '/r/IsA', 'edge_start_matched': '/c/en/horse/n', 'edge_pd_matched': '/c/en/animal/n'}\n"
     ]
    },
    {
     "name": "stderr",
     "output_type": "stream",
     "text": [
      "e1_matched=None is None or e2_matched=/c/en/horse/n is None\n",
      "e1_matched=/c/en/horse/n is None or e2_matched=None is None\n",
      "skipping visited edge /a/[/r/IsA/,/c/en/horse/n/,/c/en/animal/n/]\n"
     ]
    },
    {
     "name": "stdout",
     "output_type": "stream",
     "text": [
      "cn_id=/c/en/animal/n, new_edge={'cn_id': '/c/en/animal/n', 'edge_id': '/a/[/r/IsA/,/c/en/bear/n/opencyc/bear_animal/,/c/en/animal/n/]', 'edge_start_raw': '/c/en/bear/n/opencyc/bear_animal', 'edge_end_raw': '/c/en/animal/n', 'predicate': '/r/IsA', 'edge_start_matched': '/c/en/bear/n', 'edge_pd_matched': '/c/en/animal/n'}\n"
     ]
    },
    {
     "name": "stderr",
     "output_type": "stream",
     "text": [
      "e1_matched=None is None or e2_matched=/c/en/bear/n is None\n",
      "e1_matched=/c/en/bear/n is None or e2_matched=None is None\n",
      "skipping visited edge /a/[/r/IsA/,/c/en/bear/n/opencyc/bear_animal/,/c/en/animal/n/]\n"
     ]
    },
    {
     "name": "stdout",
     "output_type": "stream",
     "text": [
      "cn_id=/c/en/animal/n, new_edge={'cn_id': '/c/en/animal/n', 'edge_id': '/a/[/r/IsA/,/c/en/child/n/,/c/en/animal/n/]', 'edge_start_raw': '/c/en/child/n', 'edge_end_raw': '/c/en/animal/n', 'predicate': '/r/IsA', 'edge_start_matched': '/c/en/child/n', 'edge_pd_matched': '/c/en/animal/n'}\n"
     ]
    },
    {
     "name": "stderr",
     "output_type": "stream",
     "text": [
      "e1_matched=/c/en/child/n is None or e2_matched=None is None\n",
      "e1_matched=None is None or e2_matched=/c/en/child/n is None\n",
      "skipping visited edge /a/[/r/IsA/,/c/en/child/n/,/c/en/animal/n/]\n",
      "e1_matched=e2_matched=/c/en/animal/n\n"
     ]
    },
    {
     "name": "stdout",
     "output_type": "stream",
     "text": [
      "cn_id=/c/en/arm/n, new_edge={'cn_id': '/c/en/arm/n', 'edge_id': '/a/[/r/PartOf/,/c/en/hand/n/wn/body/,/c/en/arm/n/wn/body/]', 'edge_start_raw': '/c/en/hand/n/wn/body', 'edge_end_raw': '/c/en/arm/n/wn/body', 'predicate': '/r/PartOf', 'edge_start_matched': '/c/en/hand/n', 'edge_pd_matched': '/c/en/arm/n'}\n"
     ]
    },
    {
     "name": "stderr",
     "output_type": "stream",
     "text": [
      "e1_matched=None is None or e2_matched=/c/en/hand/n is None\n",
      "e1_matched=/c/en/hand/n is None or e2_matched=None is None\n",
      "skipping visited edge /a/[/r/PartOf/,/c/en/hand/n/wn/body/,/c/en/arm/n/wn/body/]\n"
     ]
    },
    {
     "name": "stdout",
     "output_type": "stream",
     "text": [
      "cn_id=/c/en/arm/n, new_edge={'cn_id': '/c/en/arm/n', 'edge_id': '/a/[/r/Synonym/,/c/en/arm/n/wn/group/,/c/en/branch/n/wn/group/]', 'edge_start_raw': '/c/en/arm/n/wn/group', 'edge_end_raw': '/c/en/branch/n/wn/group', 'predicate': '/r/Synonym', 'edge_start_matched': '/c/en/arm/n', 'edge_pd_matched': '/c/en/branch/n'}\n"
     ]
    },
    {
     "name": "stderr",
     "output_type": "stream",
     "text": [
      "e1_matched=None is None or e2_matched=/c/en/branch/n is None\n",
      "e1_matched=/c/en/branch/n is None or e2_matched=None is None\n",
      "skipping visited edge /a/[/r/Synonym/,/c/en/arm/n/wn/group/,/c/en/branch/n/wn/group/]\n",
      "e1_matched=None is None or e2_matched=/c/en/arm/n is None\n",
      "e1_matched=/c/en/arm/n is None or e2_matched=None is None\n"
     ]
    },
    {
     "name": "stdout",
     "output_type": "stream",
     "text": [
      "cn_id=/c/en/arm/n, new_edge={'cn_id': '/c/en/arm/n', 'edge_id': '/a/[/r/Synonym/,/c/en/branch/n/wn/artifact/,/c/en/arm/n/wn/artifact/]', 'edge_start_raw': '/c/en/branch/n/wn/artifact', 'edge_end_raw': '/c/en/arm/n/wn/artifact', 'predicate': '/r/Synonym', 'edge_start_matched': '/c/en/branch/n', 'edge_pd_matched': '/c/en/arm/n'}\n"
     ]
    },
    {
     "name": "stderr",
     "output_type": "stream",
     "text": [
      "skipping visited edge /a/[/r/Synonym/,/c/en/branch/n/wn/artifact/,/c/en/arm/n/wn/artifact/]\n",
      "e1_matched=/c/en/at is None or e2_matched=None is None\n",
      "e1_matched=None is None or e2_matched=/c/en/at is None\n"
     ]
    },
    {
     "name": "stdout",
     "output_type": "stream",
     "text": [
      "cn_id=/c/en/at, new_edge={'cn_id': '/c/en/at', 'edge_id': '/a/[/r/RelatedTo/,/c/en/to/,/c/en/at/]', 'edge_start_raw': '/c/en/to', 'edge_end_raw': '/c/en/at', 'predicate': '/r/RelatedTo', 'edge_start_matched': '/c/en/to', 'edge_pd_matched': '/c/en/at'}\n"
     ]
    },
    {
     "name": "stderr",
     "output_type": "stream",
     "text": [
      "skipping visited edge /a/[/r/RelatedTo/,/c/en/to/,/c/en/at/]\n",
      "e1_matched=None is None or e2_matched=/c/en/attach/v is None\n",
      "e1_matched=/c/en/attach/v is None or e2_matched=None is None\n",
      "e1_matched=e2_matched=/c/en/attach/v\n"
     ]
    },
    {
     "name": "stdout",
     "output_type": "stream",
     "text": [
      "cn_id=/c/en/attach/v, new_edge={'cn_id': '/c/en/attach/v', 'edge_id': '/a/[/r/MannerOf/,/c/en/mount/v/wn/contact/,/c/en/attach/v/wn/contact/]', 'edge_start_raw': '/c/en/mount/v/wn/contact', 'edge_end_raw': '/c/en/attach/v/wn/contact', 'predicate': '/r/MannerOf', 'edge_start_matched': '/c/en/mount/v', 'edge_pd_matched': '/c/en/attach/v'}\n"
     ]
    },
    {
     "name": "stderr",
     "output_type": "stream",
     "text": [
      "e1_matched=None is None or e2_matched=/c/en/mount/v is None\n",
      "e1_matched=/c/en/mount/v is None or e2_matched=None is None\n",
      "skipping visited edge /a/[/r/MannerOf/,/c/en/mount/v/wn/contact/,/c/en/attach/v/wn/contact/]\n",
      "e1_matched=None is None or e2_matched=/c/en/bag/n is None\n"
     ]
    },
    {
     "name": "stdout",
     "output_type": "stream",
     "text": [
      "cn_id=/c/en/bag/n, new_edge={'cn_id': '/c/en/bag/n', 'edge_id': '/a/[/r/UsedFor/,/c/en/bag/n/wn/artifact/,/c/en/transport/v/wn/contact/]', 'edge_start_raw': '/c/en/bag/n/wn/artifact', 'edge_end_raw': '/c/en/transport/v/wn/contact', 'predicate': '/r/UsedFor', 'edge_start_matched': '/c/en/bag/n', 'edge_pd_matched': '/c/en/transport/v'}\n"
     ]
    },
    {
     "name": "stderr",
     "output_type": "stream",
     "text": [
      "e1_matched=None is None or e2_matched=/c/en/transport/v is None\n",
      "e1_matched=/c/en/transport/v is None or e2_matched=None is None\n",
      "skipping visited edge /a/[/r/UsedFor/,/c/en/bag/n/wn/artifact/,/c/en/transport/v/wn/contact/]\n",
      "e1_matched=/c/en/bag/n is None or e2_matched=None is None\n"
     ]
    },
    {
     "name": "stdout",
     "output_type": "stream",
     "text": [
      "cn_id=/c/en/bag/n, new_edge={'cn_id': '/c/en/bag/n', 'edge_id': '/a/[/r/UsedFor/,/c/en/bag/n/wn/artifact/,/c/en/hold/v/wn/stative/]', 'edge_start_raw': '/c/en/bag/n/wn/artifact', 'edge_end_raw': '/c/en/hold/v/wn/stative', 'predicate': '/r/UsedFor', 'edge_start_matched': '/c/en/bag/n', 'edge_pd_matched': '/c/en/hold/v'}\n"
     ]
    },
    {
     "name": "stderr",
     "output_type": "stream",
     "text": [
      "e1_matched=None is None or e2_matched=/c/en/hold/v is None\n",
      "e1_matched=/c/en/hold/v is None or e2_matched=None is None\n",
      "skipping visited edge /a/[/r/UsedFor/,/c/en/bag/n/wn/artifact/,/c/en/hold/v/wn/stative/]\n",
      "e1_matched=/c/en/banana/n is None or e2_matched=None is None\n",
      "e1_matched=None is None or e2_matched=/c/en/banana/n is None\n",
      "e1_matched=None is None or e2_matched=/c/en/basket/n is None\n",
      "e1_matched=/c/en/basket/n is None or e2_matched=None is None\n"
     ]
    },
    {
     "name": "stdout",
     "output_type": "stream",
     "text": [
      "cn_id=/c/en/basket/n, new_edge={'cn_id': '/c/en/basket/n', 'edge_id': '/a/[/r/UsedFor/,/c/en/basket/n/wn/artifact/,/c/en/hold/v/wn/stative/]', 'edge_start_raw': '/c/en/basket/n/wn/artifact', 'edge_end_raw': '/c/en/hold/v/wn/stative', 'predicate': '/r/UsedFor', 'edge_start_matched': '/c/en/basket/n', 'edge_pd_matched': '/c/en/hold/v'}\n"
     ]
    },
    {
     "name": "stderr",
     "output_type": "stream",
     "text": [
      "skipping visited edge /a/[/r/UsedFor/,/c/en/basket/n/wn/artifact/,/c/en/hold/v/wn/stative/]\n",
      "e1_matched=None is None or e2_matched=/c/en/beach/n is None\n",
      "e1_matched=/c/en/beach/n is None or e2_matched=None is None\n"
     ]
    },
    {
     "name": "stdout",
     "output_type": "stream",
     "text": [
      "cn_id=/c/en/bear/n, new_edge={'cn_id': '/c/en/bear/n', 'edge_id': '/a/[/r/IsA/,/c/en/bear/n/opencyc/dispositionally_pessimistic_securities_trader/,/c/en/person/n/]', 'edge_start_raw': '/c/en/bear/n/opencyc/dispositionally_pessimistic_securities_trader', 'edge_end_raw': '/c/en/person/n', 'predicate': '/r/IsA', 'edge_start_matched': '/c/en/bear/n', 'edge_pd_matched': '/c/en/person/n'}\n"
     ]
    },
    {
     "name": "stderr",
     "output_type": "stream",
     "text": [
      "e1_matched=None is None or e2_matched=/c/en/person/n is None\n",
      "e1_matched=/c/en/person/n is None or e2_matched=None is None\n",
      "e1_matched=None is None or e2_matched=/c/en/bed/n is None\n",
      "e1_matched=/c/en/bed/n is None or e2_matched=None is None\n"
     ]
    },
    {
     "name": "stdout",
     "output_type": "stream",
     "text": [
      "cn_id=/c/en/bed/n, new_edge={'cn_id': '/c/en/bed/n', 'edge_id': '/a/[/r/UsedFor/,/c/en/bed/n/wn/artifact/,/c/en/hold/v/wn/stative/]', 'edge_start_raw': '/c/en/bed/n/wn/artifact', 'edge_end_raw': '/c/en/hold/v/wn/stative', 'predicate': '/r/UsedFor', 'edge_start_matched': '/c/en/bed/n', 'edge_pd_matched': '/c/en/hold/v'}\n"
     ]
    },
    {
     "name": "stderr",
     "output_type": "stream",
     "text": [
      "skipping visited edge /a/[/r/UsedFor/,/c/en/bed/n/wn/artifact/,/c/en/hold/v/wn/stative/]\n"
     ]
    },
    {
     "name": "stdout",
     "output_type": "stream",
     "text": [
      "cn_id=/c/en/bed/n, new_edge={'cn_id': '/c/en/bed/n', 'edge_id': '/a/[/r/RelatedTo/,/c/en/bed/n/wn/artifact/,/c/en/plant/n/wn/botany/]', 'edge_start_raw': '/c/en/bed/n/wn/artifact', 'edge_end_raw': '/c/en/plant/n/wn/botany', 'predicate': '/r/RelatedTo', 'edge_start_matched': '/c/en/bed/n', 'edge_pd_matched': '/c/en/plant/n'}\n"
     ]
    },
    {
     "name": "stderr",
     "output_type": "stream",
     "text": [
      "e1_matched=None is None or e2_matched=/c/en/plant/n is None\n",
      "e1_matched=/c/en/plant/n is None or e2_matched=None is None\n",
      "skipping visited edge /a/[/r/RelatedTo/,/c/en/bed/n/wn/artifact/,/c/en/plant/n/wn/botany/]\n"
     ]
    },
    {
     "name": "stdout",
     "output_type": "stream",
     "text": [
      "cn_id=/c/en/bed/n, new_edge={'cn_id': '/c/en/bed/n', 'edge_id': '/a/[/r/RelatedTo/,/c/en/bed/n/wn/artifact/,/c/en/person/n/wn/]', 'edge_start_raw': '/c/en/bed/n/wn/artifact', 'edge_end_raw': '/c/en/person/n/wn', 'predicate': '/r/RelatedTo', 'edge_start_matched': '/c/en/bed/n', 'edge_pd_matched': '/c/en/person/n'}\n"
     ]
    },
    {
     "name": "stderr",
     "output_type": "stream",
     "text": [
      "skipping visited edge /a/[/r/RelatedTo/,/c/en/bed/n/wn/artifact/,/c/en/person/n/wn/]\n",
      "e1_matched=/c/en/behind/r is None or e2_matched=None is None\n",
      "e1_matched=None is None or e2_matched=/c/en/behind/r is None\n",
      "e1_matched=None is None or e2_matched=/c/en/belong/v is None\n",
      "e1_matched=/c/en/belong/v is None or e2_matched=None is None\n",
      "e1_matched=/c/en/bench/n is None or e2_matched=None is None\n"
     ]
    },
    {
     "name": "stdout",
     "output_type": "stream",
     "text": [
      "cn_id=/c/en/bench/n, new_edge={'cn_id': '/c/en/bench/n', 'edge_id': '/a/[/r/IsA/,/c/en/bench/n/wn/artifact/,/c/en/seat/n/wn/artifact/]', 'edge_start_raw': '/c/en/bench/n/wn/artifact', 'edge_end_raw': '/c/en/seat/n/wn/artifact', 'predicate': '/r/IsA', 'edge_start_matched': '/c/en/bench/n', 'edge_pd_matched': '/c/en/seat/n'}\n"
     ]
    },
    {
     "name": "stderr",
     "output_type": "stream",
     "text": [
      "skipping visited edge /a/[/r/IsA/,/c/en/bench/n/wn/artifact/,/c/en/seat/n/wn/artifact/]\n",
      "e1_matched=None is None or e2_matched=/c/en/bench/n is None\n"
     ]
    },
    {
     "name": "stdout",
     "output_type": "stream",
     "text": [
      "cn_id=/c/en/bench/n, new_edge={'cn_id': '/c/en/bench/n', 'edge_id': '/a/[/r/IsA/,/c/en/bench/n/wn/law/,/c/en/seat/n/wn/artifact/]', 'edge_start_raw': '/c/en/bench/n/wn/law', 'edge_end_raw': '/c/en/seat/n/wn/artifact', 'predicate': '/r/IsA', 'edge_start_matched': '/c/en/bench/n', 'edge_pd_matched': '/c/en/seat/n'}\n"
     ]
    },
    {
     "name": "stderr",
     "output_type": "stream",
     "text": [
      "skipping visited edge /a/[/r/IsA/,/c/en/bench/n/wn/law/,/c/en/seat/n/wn/artifact/]\n"
     ]
    },
    {
     "name": "stdout",
     "output_type": "stream",
     "text": [
      "cn_id=/c/en/bench/n, new_edge={'cn_id': '/c/en/bench/n', 'edge_id': '/a/[/r/RelatedTo/,/c/en/bench/n/wn/artifact/,/c/en/people/n/wn/group/]', 'edge_start_raw': '/c/en/bench/n/wn/artifact', 'edge_end_raw': '/c/en/people/n/wn/group', 'predicate': '/r/RelatedTo', 'edge_start_matched': '/c/en/bench/n', 'edge_pd_matched': '/c/en/people/n'}\n"
     ]
    },
    {
     "name": "stderr",
     "output_type": "stream",
     "text": [
      "e1_matched=None is None or e2_matched=/c/en/people/n is None\n",
      "e1_matched=/c/en/people/n is None or e2_matched=None is None\n",
      "skipping visited edge /a/[/r/RelatedTo/,/c/en/bench/n/wn/artifact/,/c/en/people/n/wn/group/]\n",
      "e1_matched=e2_matched=/c/en/people/n\n"
     ]
    },
    {
     "name": "stdout",
     "output_type": "stream",
     "text": [
      "cn_id=/c/en/bench/n, new_edge={'cn_id': '/c/en/bench/n', 'edge_id': '/a/[/r/IsA/,/c/en/bench/n/opencyc/bench_piece_of_furniture/,/c/en/seat/n/opencyc/seating_device/]', 'edge_start_raw': '/c/en/bench/n/opencyc/bench_piece_of_furniture', 'edge_end_raw': '/c/en/seat/n/opencyc/seating_device', 'predicate': '/r/IsA', 'edge_start_matched': '/c/en/bench/n', 'edge_pd_matched': '/c/en/seat/n'}\n"
     ]
    },
    {
     "name": "stderr",
     "output_type": "stream",
     "text": [
      "skipping visited edge /a/[/r/IsA/,/c/en/bench/n/opencyc/bench_piece_of_furniture/,/c/en/seat/n/opencyc/seating_device/]\n",
      "e1_matched=e2_matched=/c/en/bench/n\n",
      "e1_matched=None is None or e2_matched=/c/en/between/r is None\n",
      "e1_matched=/c/en/between/r is None or e2_matched=None is None\n",
      "e1_matched=/c/en/bicycle/n is None or e2_matched=None is None\n",
      "e1_matched=None is None or e2_matched=/c/en/bicycle/n is None\n"
     ]
    },
    {
     "name": "stdout",
     "output_type": "stream",
     "text": [
      "cn_id=/c/en/bicycle/n, new_edge={'cn_id': '/c/en/bicycle/n', 'edge_id': '/a/[/r/UsedFor/,/c/en/bicycle/n/wn/artifact/,/c/en/ride/v/wn/motion/]', 'edge_start_raw': '/c/en/bicycle/n/wn/artifact', 'edge_end_raw': '/c/en/ride/v/wn/motion', 'predicate': '/r/UsedFor', 'edge_start_matched': '/c/en/bicycle/n', 'edge_pd_matched': '/c/en/ride/v'}\n"
     ]
    },
    {
     "name": "stderr",
     "output_type": "stream",
     "text": [
      "e1_matched=None is None or e2_matched=/c/en/ride/v is None\n",
      "e1_matched=/c/en/ride/v is None or e2_matched=None is None\n",
      "skipping visited edge /a/[/r/UsedFor/,/c/en/bicycle/n/wn/artifact/,/c/en/ride/v/wn/motion/]\n"
     ]
    },
    {
     "name": "stdout",
     "output_type": "stream",
     "text": [
      "cn_id=/c/en/bicycle/n, new_edge={'cn_id': '/c/en/bicycle/n', 'edge_id': '/a/[/r/Synonym/,/c/en/wheel/n/wn/artifact/,/c/en/bicycle/n/wn/artifact/]', 'edge_start_raw': '/c/en/wheel/n/wn/artifact', 'edge_end_raw': '/c/en/bicycle/n/wn/artifact', 'predicate': '/r/Synonym', 'edge_start_matched': '/c/en/wheel/n', 'edge_pd_matched': '/c/en/bicycle/n'}\n"
     ]
    },
    {
     "name": "stderr",
     "output_type": "stream",
     "text": [
      "e1_matched=None is None or e2_matched=/c/en/wheel/n is None\n",
      "skipping visited edge /a/[/r/Synonym/,/c/en/wheel/n/wn/artifact/,/c/en/bicycle/n/wn/artifact/]\n",
      "e1_matched=/c/en/wheel/n is None or e2_matched=None is None\n",
      "e1_matched=None is None or e2_matched=/c/en/bird/n is None\n"
     ]
    },
    {
     "name": "stdout",
     "output_type": "stream",
     "text": [
      "cn_id=/c/en/bird/n, new_edge={'cn_id': '/c/en/bird/n', 'edge_id': '/a/[/r/PartOf/,/c/en/wing/n/wn/animal/,/c/en/bird/n/wn/animal/]', 'edge_start_raw': '/c/en/wing/n/wn/animal', 'edge_end_raw': '/c/en/bird/n/wn/animal', 'predicate': '/r/PartOf', 'edge_start_matched': '/c/en/wing/n', 'edge_pd_matched': '/c/en/bird/n'}\n"
     ]
    },
    {
     "name": "stderr",
     "output_type": "stream",
     "text": [
      "skipping visited edge /a/[/r/PartOf/,/c/en/wing/n/wn/animal/,/c/en/bird/n/wn/animal/]\n",
      "e1_matched=/c/en/bird/n is None or e2_matched=None is None\n",
      "e1_matched=e2_matched=/c/en/bird/n\n"
     ]
    },
    {
     "name": "stdout",
     "output_type": "stream",
     "text": [
      "cn_id=/c/en/bird/n, new_edge={'cn_id': '/c/en/bird/n', 'edge_id': '/a/[/r/PartOf/,/c/en/wing/n/wn/food/,/c/en/bird/n/wn/food/]', 'edge_start_raw': '/c/en/wing/n/wn/food', 'edge_end_raw': '/c/en/bird/n/wn/food', 'predicate': '/r/PartOf', 'edge_start_matched': '/c/en/wing/n', 'edge_pd_matched': '/c/en/bird/n'}\n"
     ]
    },
    {
     "name": "stderr",
     "output_type": "stream",
     "text": [
      "skipping visited edge /a/[/r/PartOf/,/c/en/wing/n/wn/food/,/c/en/bird/n/wn/food/]\n"
     ]
    },
    {
     "name": "stdout",
     "output_type": "stream",
     "text": [
      "cn_id=/c/en/bird/n, new_edge={'cn_id': '/c/en/bird/n', 'edge_id': '/a/[/r/IsA/,/c/en/kite/n/wp/bird/,/c/en/bird/n/]', 'edge_start_raw': '/c/en/kite/n/wp/bird', 'edge_end_raw': '/c/en/bird/n', 'predicate': '/r/IsA', 'edge_start_matched': '/c/en/kite/n', 'edge_pd_matched': '/c/en/bird/n'}\n"
     ]
    },
    {
     "name": "stderr",
     "output_type": "stream",
     "text": [
      "e1_matched=None is None or e2_matched=/c/en/kite/n is None\n",
      "e1_matched=/c/en/kite/n is None or e2_matched=None is None\n",
      "e1_matched=e2_matched=/c/en/kite/n\n",
      "skipping visited edge /a/[/r/IsA/,/c/en/kite/n/wp/bird/,/c/en/bird/n/]\n",
      "e1_matched=None is None or e2_matched=/c/en/board/n is None\n",
      "e1_matched=/c/en/board/n is None or e2_matched=None is None\n"
     ]
    },
    {
     "name": "stdout",
     "output_type": "stream",
     "text": [
      "cn_id=/c/en/board/n, new_edge={'cn_id': '/c/en/board/n', 'edge_id': '/a/[/r/Synonym/,/c/en/table/n/wn/food/,/c/en/board/n/wn/food/]', 'edge_start_raw': '/c/en/table/n/wn/food', 'edge_end_raw': '/c/en/board/n/wn/food', 'predicate': '/r/Synonym', 'edge_start_matched': '/c/en/table/n', 'edge_pd_matched': '/c/en/board/n'}\n"
     ]
    },
    {
     "name": "stderr",
     "output_type": "stream",
     "text": [
      "e1_matched=None is None or e2_matched=/c/en/table/n is None\n",
      "e1_matched=/c/en/table/n is None or e2_matched=None is None\n",
      "skipping visited edge /a/[/r/Synonym/,/c/en/table/n/wn/food/,/c/en/board/n/wn/food/]\n",
      "e1_matched=e2_matched=/c/en/table/n\n"
     ]
    },
    {
     "name": "stdout",
     "output_type": "stream",
     "text": [
      "cn_id=/c/en/board/n, new_edge={'cn_id': '/c/en/board/n', 'edge_id': '/a/[/r/IsA/,/c/en/surfboard/n/wn/artifact/,/c/en/board/n/wn/artifact/]', 'edge_start_raw': '/c/en/surfboard/n/wn/artifact', 'edge_end_raw': '/c/en/board/n/wn/artifact', 'predicate': '/r/IsA', 'edge_start_matched': '/c/en/surfboard/n', 'edge_pd_matched': '/c/en/board/n'}\n"
     ]
    },
    {
     "name": "stderr",
     "output_type": "stream",
     "text": [
      "e1_matched=/c/en/surfboard/n is None or e2_matched=None is None\n",
      "skipping visited edge /a/[/r/IsA/,/c/en/surfboard/n/wn/artifact/,/c/en/board/n/wn/artifact/]\n",
      "e1_matched=None is None or e2_matched=/c/en/surfboard/n is None\n"
     ]
    },
    {
     "name": "stdout",
     "output_type": "stream",
     "text": [
      "cn_id=/c/en/board/n, new_edge={'cn_id': '/c/en/board/n', 'edge_id': '/a/[/r/IsA/,/c/en/skateboard/n/wn/artifact/,/c/en/board/n/wn/artifact/]', 'edge_start_raw': '/c/en/skateboard/n/wn/artifact', 'edge_end_raw': '/c/en/board/n/wn/artifact', 'predicate': '/r/IsA', 'edge_start_matched': '/c/en/skateboard/n', 'edge_pd_matched': '/c/en/board/n'}\n"
     ]
    },
    {
     "name": "stderr",
     "output_type": "stream",
     "text": [
      "skipping visited edge /a/[/r/IsA/,/c/en/skateboard/n/wn/artifact/,/c/en/board/n/wn/artifact/]\n",
      "e1_matched=/c/en/skateboard/n is None or e2_matched=None is None\n",
      "e1_matched=None is None or e2_matched=/c/en/skateboard/n is None\n",
      "e1_matched=None is None or e2_matched=/c/en/boat/n is None\n"
     ]
    },
    {
     "name": "stdout",
     "output_type": "stream",
     "text": [
      "cn_id=/c/en/boat/n, new_edge={'cn_id': '/c/en/boat/n', 'edge_id': '/a/[/r/UsedFor/,/c/en/boat/n/wn/artifact/,/c/en/transport/v/wn/contact/]', 'edge_start_raw': '/c/en/boat/n/wn/artifact', 'edge_end_raw': '/c/en/transport/v/wn/contact', 'predicate': '/r/UsedFor', 'edge_start_matched': '/c/en/boat/n', 'edge_pd_matched': '/c/en/transport/v'}\n"
     ]
    },
    {
     "name": "stderr",
     "output_type": "stream",
     "text": [
      "skipping visited edge /a/[/r/UsedFor/,/c/en/boat/n/wn/artifact/,/c/en/transport/v/wn/contact/]\n",
      "e1_matched=/c/en/boat/n is None or e2_matched=None is None\n",
      "e1_matched=None is None or e2_matched=/c/en/book/n is None\n",
      "e1_matched=/c/en/book/n is None or e2_matched=None is None\n"
     ]
    },
    {
     "name": "stdout",
     "output_type": "stream",
     "text": [
      "cn_id=/c/en/book/n, new_edge={'cn_id': '/c/en/book/n', 'edge_id': '/a/[/r/IsA/,/c/en/curtain/n/wp/novel/,/c/en/book/n/]', 'edge_start_raw': '/c/en/curtain/n/wp/novel', 'edge_end_raw': '/c/en/book/n', 'predicate': '/r/IsA', 'edge_start_matched': '/c/en/curtain/n', 'edge_pd_matched': '/c/en/book/n'}\n"
     ]
    },
    {
     "name": "stderr",
     "output_type": "stream",
     "text": [
      "e1_matched=None is None or e2_matched=/c/en/curtain/n is None\n",
      "e1_matched=/c/en/curtain/n is None or e2_matched=None is None\n",
      "e1_matched=e2_matched=/c/en/curtain/n\n",
      "skipping visited edge /a/[/r/IsA/,/c/en/curtain/n/wp/novel/,/c/en/book/n/]\n"
     ]
    },
    {
     "name": "stdout",
     "output_type": "stream",
     "text": [
      "cn_id=/c/en/book/n, new_edge={'cn_id': '/c/en/book/n', 'edge_id': '/a/[/r/IsA/,/c/en/cat/n/wp/novel/,/c/en/book/n/]', 'edge_start_raw': '/c/en/cat/n/wp/novel', 'edge_end_raw': '/c/en/book/n', 'predicate': '/r/IsA', 'edge_start_matched': '/c/en/cat/n', 'edge_pd_matched': '/c/en/book/n'}\n"
     ]
    },
    {
     "name": "stderr",
     "output_type": "stream",
     "text": [
      "e1_matched=None is None or e2_matched=/c/en/cat/n is None\n",
      "e1_matched=/c/en/cat/n is None or e2_matched=None is None\n",
      "e1_matched=e2_matched=/c/en/cat/n\n",
      "skipping visited edge /a/[/r/IsA/,/c/en/cat/n/wp/novel/,/c/en/book/n/]\n",
      "e1_matched=None is None or e2_matched=/c/en/boot/n is None\n",
      "e1_matched=e2_matched=/c/en/boot/n\n",
      "e1_matched=/c/en/boot/n is None or e2_matched=None is None\n"
     ]
    },
    {
     "name": "stdout",
     "output_type": "stream",
     "text": [
      "cn_id=/c/en/boot/n, new_edge={'cn_id': '/c/en/boot/n', 'edge_id': '/a/[/r/Synonym/,/c/en/trunk/n/wn/artifact/,/c/en/boot/n/wn/artifact/]', 'edge_start_raw': '/c/en/trunk/n/wn/artifact', 'edge_end_raw': '/c/en/boot/n/wn/artifact', 'predicate': '/r/Synonym', 'edge_start_matched': '/c/en/trunk/n', 'edge_pd_matched': '/c/en/boot/n'}\n"
     ]
    },
    {
     "name": "stderr",
     "output_type": "stream",
     "text": [
      "e1_matched=None is None or e2_matched=/c/en/trunk/n is None\n",
      "e1_matched=/c/en/trunk/n is None or e2_matched=None is None\n",
      "skipping visited edge /a/[/r/Synonym/,/c/en/trunk/n/wn/artifact/,/c/en/boot/n/wn/artifact/]\n"
     ]
    },
    {
     "name": "stdout",
     "output_type": "stream",
     "text": [
      "cn_id=/c/en/boot/n, new_edge={'cn_id': '/c/en/boot/n', 'edge_id': '/a/[/r/PartOf/,/c/en/boot/n/wn/artifact/,/c/en/car/n/wn/artifact/]', 'edge_start_raw': '/c/en/boot/n/wn/artifact', 'edge_end_raw': '/c/en/car/n/wn/artifact', 'predicate': '/r/PartOf', 'edge_start_matched': '/c/en/boot/n', 'edge_pd_matched': '/c/en/car/n'}\n"
     ]
    },
    {
     "name": "stderr",
     "output_type": "stream",
     "text": [
      "e1_matched=None is None or e2_matched=/c/en/car/n is None\n",
      "e1_matched=/c/en/car/n is None or e2_matched=None is None\n",
      "skipping visited edge /a/[/r/PartOf/,/c/en/boot/n/wn/artifact/,/c/en/car/n/wn/artifact/]\n"
     ]
    },
    {
     "name": "stdout",
     "output_type": "stream",
     "text": [
      "cn_id=/c/en/boot/n, new_edge={'cn_id': '/c/en/boot/n', 'edge_id': '/a/[/r/PartOf/,/c/en/counter/n/wn/artifact/,/c/en/boot/n/wn/artifact/]', 'edge_start_raw': '/c/en/counter/n/wn/artifact', 'edge_end_raw': '/c/en/boot/n/wn/artifact', 'predicate': '/r/PartOf', 'edge_start_matched': '/c/en/counter/n', 'edge_pd_matched': '/c/en/boot/n'}\n"
     ]
    },
    {
     "name": "stderr",
     "output_type": "stream",
     "text": [
      "e1_matched=None is None or e2_matched=/c/en/counter/n is None\n",
      "e1_matched=/c/en/counter/n is None or e2_matched=None is None\n",
      "skipping visited edge /a/[/r/PartOf/,/c/en/counter/n/wn/artifact/,/c/en/boot/n/wn/artifact/]\n",
      "e1_matched=e2_matched=/c/en/counter/n\n"
     ]
    },
    {
     "name": "stdout",
     "output_type": "stream",
     "text": [
      "cn_id=/c/en/boot/n, new_edge={'cn_id': '/c/en/boot/n', 'edge_id': '/a/[/r/IsA/,/c/en/boot/n/,/c/en/shoe/n/]', 'edge_start_raw': '/c/en/boot/n', 'edge_end_raw': '/c/en/shoe/n', 'predicate': '/r/IsA', 'edge_start_matched': '/c/en/boot/n', 'edge_pd_matched': '/c/en/shoe/n'}\n"
     ]
    },
    {
     "name": "stderr",
     "output_type": "stream",
     "text": [
      "e1_matched=None is None or e2_matched=/c/en/shoe/n is None\n",
      "e1_matched=/c/en/shoe/n is None or e2_matched=None is None\n",
      "skipping visited edge /a/[/r/IsA/,/c/en/boot/n/,/c/en/shoe/n/]\n",
      "e1_matched=None is None or e2_matched=/c/en/bottle/n is None\n",
      "e1_matched=/c/en/bottle/n is None or e2_matched=None is None\n"
     ]
    },
    {
     "name": "stdout",
     "output_type": "stream",
     "text": [
      "cn_id=/c/en/bottle/n, new_edge={'cn_id': '/c/en/bottle/n', 'edge_id': '/a/[/r/PartOf/,/c/en/mouth/n/wn/artifact/,/c/en/bottle/n/wn/artifact/]', 'edge_start_raw': '/c/en/mouth/n/wn/artifact', 'edge_end_raw': '/c/en/bottle/n/wn/artifact', 'predicate': '/r/PartOf', 'edge_start_matched': '/c/en/mouth/n', 'edge_pd_matched': '/c/en/bottle/n'}\n"
     ]
    },
    {
     "name": "stderr",
     "output_type": "stream",
     "text": [
      "skipping visited edge /a/[/r/PartOf/,/c/en/mouth/n/wn/artifact/,/c/en/bottle/n/wn/artifact/]\n",
      "e1_matched=/c/en/mouth/n is None or e2_matched=None is None\n",
      "e1_matched=None is None or e2_matched=/c/en/mouth/n is None\n",
      "e1_matched=e2_matched=/c/en/mouth/n\n"
     ]
    },
    {
     "name": "stdout",
     "output_type": "stream",
     "text": [
      "cn_id=/c/en/bottle/n, new_edge={'cn_id': '/c/en/bottle/n', 'edge_id': '/a/[/r/UsedFor/,/c/en/bottle/n/wn/artifact/,/c/en/hold/v/wn/stative/]', 'edge_start_raw': '/c/en/bottle/n/wn/artifact', 'edge_end_raw': '/c/en/hold/v/wn/stative', 'predicate': '/r/UsedFor', 'edge_start_matched': '/c/en/bottle/n', 'edge_pd_matched': '/c/en/hold/v'}\n"
     ]
    },
    {
     "name": "stderr",
     "output_type": "stream",
     "text": [
      "skipping visited edge /a/[/r/UsedFor/,/c/en/bottle/n/wn/artifact/,/c/en/hold/v/wn/stative/]\n"
     ]
    },
    {
     "name": "stdout",
     "output_type": "stream",
     "text": [
      "cn_id=/c/en/bowl/n, new_edge={'cn_id': '/c/en/bowl/n', 'edge_id': '/a/[/r/RelatedTo/,/c/en/bowl/n/wn/artifact/,/c/en/food/n/wn/]', 'edge_start_raw': '/c/en/bowl/n/wn/artifact', 'edge_end_raw': '/c/en/food/n/wn', 'predicate': '/r/RelatedTo', 'edge_start_matched': '/c/en/bowl/n', 'edge_pd_matched': '/c/en/food/n'}\n"
     ]
    },
    {
     "name": "stderr",
     "output_type": "stream",
     "text": [
      "e1_matched=None is None or e2_matched=/c/en/food/n is None\n",
      "e1_matched=e2_matched=/c/en/food/n\n",
      "e1_matched=/c/en/food/n is None or e2_matched=None is None\n",
      "skipping visited edge /a/[/r/RelatedTo/,/c/en/bowl/n/wn/artifact/,/c/en/food/n/wn/]\n",
      "e1_matched=None is None or e2_matched=/c/en/bowl/n is None\n"
     ]
    },
    {
     "name": "stdout",
     "output_type": "stream",
     "text": [
      "cn_id=/c/en/bowl/n, new_edge={'cn_id': '/c/en/bowl/n', 'edge_id': '/a/[/r/UsedFor/,/c/en/bowl/n/wn/artifact/,/c/en/hold/v/wn/stative/]', 'edge_start_raw': '/c/en/bowl/n/wn/artifact', 'edge_end_raw': '/c/en/hold/v/wn/stative', 'predicate': '/r/UsedFor', 'edge_start_matched': '/c/en/bowl/n', 'edge_pd_matched': '/c/en/hold/v'}\n"
     ]
    },
    {
     "name": "stderr",
     "output_type": "stream",
     "text": [
      "skipping visited edge /a/[/r/UsedFor/,/c/en/bowl/n/wn/artifact/,/c/en/hold/v/wn/stative/]\n",
      "e1_matched=/c/en/bowl/n is None or e2_matched=None is None\n",
      "e1_matched=None is None or e2_matched=/c/en/box/n is None\n",
      "e1_matched=/c/en/box/n is None or e2_matched=None is None\n"
     ]
    },
    {
     "name": "stdout",
     "output_type": "stream",
     "text": [
      "cn_id=/c/en/box/n, new_edge={'cn_id': '/c/en/box/n', 'edge_id': '/a/[/r/RelatedTo/,/c/en/box/n/wn/artifact/,/c/en/player/n/wn/person/]', 'edge_start_raw': '/c/en/box/n/wn/artifact', 'edge_end_raw': '/c/en/player/n/wn/person', 'predicate': '/r/RelatedTo', 'edge_start_matched': '/c/en/box/n', 'edge_pd_matched': '/c/en/player/n'}\n"
     ]
    },
    {
     "name": "stderr",
     "output_type": "stream",
     "text": [
      "e1_matched=None is None or e2_matched=/c/en/player/n is None\n",
      "e1_matched=/c/en/player/n is None or e2_matched=None is None\n",
      "skipping visited edge /a/[/r/RelatedTo/,/c/en/box/n/wn/artifact/,/c/en/player/n/wn/person/]\n"
     ]
    },
    {
     "name": "stdout",
     "output_type": "stream",
     "text": [
      "cn_id=/c/en/box/n, new_edge={'cn_id': '/c/en/box/n', 'edge_id': '/a/[/r/UsedFor/,/c/en/box/n/wn/artifact/,/c/en/hold/v/wn/stative/]', 'edge_start_raw': '/c/en/box/n/wn/artifact', 'edge_end_raw': '/c/en/hold/v/wn/stative', 'predicate': '/r/UsedFor', 'edge_start_matched': '/c/en/box/n', 'edge_pd_matched': '/c/en/hold/v'}\n"
     ]
    },
    {
     "name": "stderr",
     "output_type": "stream",
     "text": [
      "skipping visited edge /a/[/r/UsedFor/,/c/en/box/n/wn/artifact/,/c/en/hold/v/wn/stative/]\n"
     ]
    },
    {
     "name": "stdout",
     "output_type": "stream",
     "text": [
      "cn_id=/c/en/box/n, new_edge={'cn_id': '/c/en/box/n', 'edge_id': '/a/[/r/IsA/,/c/en/box/n/wn/artifact/,/c/en/seat/n/wn/artifact/]', 'edge_start_raw': '/c/en/box/n/wn/artifact', 'edge_end_raw': '/c/en/seat/n/wn/artifact', 'predicate': '/r/IsA', 'edge_start_matched': '/c/en/box/n', 'edge_pd_matched': '/c/en/seat/n'}\n"
     ]
    },
    {
     "name": "stderr",
     "output_type": "stream",
     "text": [
      "skipping visited edge /a/[/r/IsA/,/c/en/box/n/wn/artifact/,/c/en/seat/n/wn/artifact/]\n"
     ]
    },
    {
     "name": "stdout",
     "output_type": "stream",
     "text": [
      "cn_id=/c/en/box/n, new_edge={'cn_id': '/c/en/box/n', 'edge_id': '/a/[/r/IsA/,/c/en/cabinet/n/opencyc/cabinet_piece_of_furniture/,/c/en/box/n/]', 'edge_start_raw': '/c/en/cabinet/n/opencyc/cabinet_piece_of_furniture', 'edge_end_raw': '/c/en/box/n', 'predicate': '/r/IsA', 'edge_start_matched': '/c/en/cabinet/n', 'edge_pd_matched': '/c/en/box/n'}\n"
     ]
    },
    {
     "name": "stderr",
     "output_type": "stream",
     "text": [
      "e1_matched=/c/en/cabinet/n is None or e2_matched=None is None\n",
      "e1_matched=None is None or e2_matched=/c/en/cabinet/n is None\n",
      "skipping visited edge /a/[/r/IsA/,/c/en/cabinet/n/opencyc/cabinet_piece_of_furniture/,/c/en/box/n/]\n",
      "e1_matched=e2_matched=/c/en/cabinet/n\n"
     ]
    },
    {
     "name": "stdout",
     "output_type": "stream",
     "text": [
      "cn_id=/c/en/box/n, new_edge={'cn_id': '/c/en/box/n', 'edge_id': '/a/[/r/IsA/,/c/en/cabinet/n/opencyc/cabinet_storage_construction/,/c/en/box/n/]', 'edge_start_raw': '/c/en/cabinet/n/opencyc/cabinet_storage_construction', 'edge_end_raw': '/c/en/box/n', 'predicate': '/r/IsA', 'edge_start_matched': '/c/en/cabinet/n', 'edge_pd_matched': '/c/en/box/n'}\n"
     ]
    },
    {
     "name": "stderr",
     "output_type": "stream",
     "text": [
      "skipping visited edge /a/[/r/IsA/,/c/en/cabinet/n/opencyc/cabinet_storage_construction/,/c/en/box/n/]\n"
     ]
    },
    {
     "name": "stdout",
     "output_type": "stream",
     "text": [
      "cn_id=/c/en/branch/n, new_edge={'cn_id': '/c/en/branch/n', 'edge_id': '/a/[/r/Synonym/,/c/en/leg/n/wn/shape/,/c/en/branch/n/wn/shape/]', 'edge_start_raw': '/c/en/leg/n/wn/shape', 'edge_end_raw': '/c/en/branch/n/wn/shape', 'predicate': '/r/Synonym', 'edge_start_matched': '/c/en/leg/n', 'edge_pd_matched': '/c/en/branch/n'}\n"
     ]
    },
    {
     "name": "stderr",
     "output_type": "stream",
     "text": [
      "e1_matched=/c/en/leg/n is None or e2_matched=None is None\n",
      "e1_matched=None is None or e2_matched=/c/en/leg/n is None\n",
      "skipping visited edge /a/[/r/Synonym/,/c/en/leg/n/wn/shape/,/c/en/branch/n/wn/shape/]\n",
      "e1_matched=None is None or e2_matched=/c/en/building/n is None\n"
     ]
    },
    {
     "name": "stdout",
     "output_type": "stream",
     "text": [
      "cn_id=/c/en/building/n, new_edge={'cn_id': '/c/en/building/n', 'edge_id': '/a/[/r/PartOf/,/c/en/window/n/wn/artifact/,/c/en/building/n/wn/artifact/]', 'edge_start_raw': '/c/en/window/n/wn/artifact', 'edge_end_raw': '/c/en/building/n/wn/artifact', 'predicate': '/r/PartOf', 'edge_start_matched': '/c/en/window/n', 'edge_pd_matched': '/c/en/building/n'}\n"
     ]
    },
    {
     "name": "stderr",
     "output_type": "stream",
     "text": [
      "e1_matched=/c/en/window/n is None or e2_matched=None is None\n",
      "e1_matched=None is None or e2_matched=/c/en/window/n is None\n",
      "skipping visited edge /a/[/r/PartOf/,/c/en/window/n/wn/artifact/,/c/en/building/n/wn/artifact/]\n",
      "e1_matched=e2_matched=/c/en/window/n\n"
     ]
    },
    {
     "name": "stdout",
     "output_type": "stream",
     "text": [
      "cn_id=/c/en/building/n, new_edge={'cn_id': '/c/en/building/n', 'edge_id': '/a/[/r/PartOf/,/c/en/roof/n/wn/artifact/,/c/en/building/n/wn/artifact/]', 'edge_start_raw': '/c/en/roof/n/wn/artifact', 'edge_end_raw': '/c/en/building/n/wn/artifact', 'predicate': '/r/PartOf', 'edge_start_matched': '/c/en/roof/n', 'edge_pd_matched': '/c/en/building/n'}\n"
     ]
    },
    {
     "name": "stderr",
     "output_type": "stream",
     "text": [
      "e1_matched=None is None or e2_matched=/c/en/roof/n is None\n",
      "e1_matched=/c/en/roof/n is None or e2_matched=None is None\n",
      "skipping visited edge /a/[/r/PartOf/,/c/en/roof/n/wn/artifact/,/c/en/building/n/wn/artifact/]\n",
      "e1_matched=e2_matched=/c/en/roof/n\n",
      "e1_matched=/c/en/building/n is None or e2_matched=None is None\n"
     ]
    },
    {
     "name": "stdout",
     "output_type": "stream",
     "text": [
      "cn_id=/c/en/building/n, new_edge={'cn_id': '/c/en/building/n', 'edge_id': '/a/[/r/PartOf/,/c/en/room/n/wn/artifact/,/c/en/building/n/wn/artifact/]', 'edge_start_raw': '/c/en/room/n/wn/artifact', 'edge_end_raw': '/c/en/building/n/wn/artifact', 'predicate': '/r/PartOf', 'edge_start_matched': '/c/en/room/n', 'edge_pd_matched': '/c/en/building/n'}\n"
     ]
    },
    {
     "name": "stderr",
     "output_type": "stream",
     "text": [
      "e1_matched=None is None or e2_matched=/c/en/room/n is None\n",
      "e1_matched=/c/en/room/n is None or e2_matched=None is None\n",
      "skipping visited edge /a/[/r/PartOf/,/c/en/room/n/wn/artifact/,/c/en/building/n/wn/artifact/]\n",
      "e1_matched=e2_matched=/c/en/room/n\n"
     ]
    },
    {
     "name": "stdout",
     "output_type": "stream",
     "text": [
      "cn_id=/c/en/building/n, new_edge={'cn_id': '/c/en/building/n', 'edge_id': '/a/[/r/IsA/,/c/en/house/n/wn/artifact/,/c/en/building/n/wn/artifact/]', 'edge_start_raw': '/c/en/house/n/wn/artifact', 'edge_end_raw': '/c/en/building/n/wn/artifact', 'predicate': '/r/IsA', 'edge_start_matched': '/c/en/house/n', 'edge_pd_matched': '/c/en/building/n'}\n"
     ]
    },
    {
     "name": "stderr",
     "output_type": "stream",
     "text": [
      "e1_matched=None is None or e2_matched=/c/en/house/n is None\n",
      "e1_matched=/c/en/house/n is None or e2_matched=None is None\n",
      "skipping visited edge /a/[/r/IsA/,/c/en/house/n/wn/artifact/,/c/en/building/n/wn/artifact/]\n",
      "e1_matched=e2_matched=/c/en/house/n\n"
     ]
    },
    {
     "name": "stdout",
     "output_type": "stream",
     "text": [
      "cn_id=/c/en/building/n, new_edge={'cn_id': '/c/en/building/n', 'edge_id': '/a/[/r/IsA/,/c/en/house/n/,/c/en/building/n/]', 'edge_start_raw': '/c/en/house/n', 'edge_end_raw': '/c/en/building/n', 'predicate': '/r/IsA', 'edge_start_matched': '/c/en/house/n', 'edge_pd_matched': '/c/en/building/n'}\n"
     ]
    },
    {
     "name": "stderr",
     "output_type": "stream",
     "text": [
      "skipping visited edge /a/[/r/IsA/,/c/en/house/n/,/c/en/building/n/]\n",
      "e1_matched=None is None or e2_matched=/c/en/bus/n is None\n",
      "e1_matched=/c/en/bus/n is None or e2_matched=None is None\n"
     ]
    },
    {
     "name": "stdout",
     "output_type": "stream",
     "text": [
      "cn_id=/c/en/bus/n, new_edge={'cn_id': '/c/en/bus/n', 'edge_id': '/a/[/r/UsedFor/,/c/en/bus/n/wn/artifact/,/c/en/transport/v/wn/motion/]', 'edge_start_raw': '/c/en/bus/n/wn/artifact', 'edge_end_raw': '/c/en/transport/v/wn/motion', 'predicate': '/r/UsedFor', 'edge_start_matched': '/c/en/bus/n', 'edge_pd_matched': '/c/en/transport/v'}\n"
     ]
    },
    {
     "name": "stderr",
     "output_type": "stream",
     "text": [
      "skipping visited edge /a/[/r/UsedFor/,/c/en/bus/n/wn/artifact/,/c/en/transport/v/wn/motion/]\n"
     ]
    },
    {
     "name": "stdout",
     "output_type": "stream",
     "text": [
      "cn_id=/c/en/bus/n, new_edge={'cn_id': '/c/en/bus/n', 'edge_id': '/a/[/r/UsedFor/,/c/en/bus/n/wn/artifact/,/c/en/transport/v/wn/contact/]', 'edge_start_raw': '/c/en/bus/n/wn/artifact', 'edge_end_raw': '/c/en/transport/v/wn/contact', 'predicate': '/r/UsedFor', 'edge_start_matched': '/c/en/bus/n', 'edge_pd_matched': '/c/en/transport/v'}\n"
     ]
    },
    {
     "name": "stderr",
     "output_type": "stream",
     "text": [
      "skipping visited edge /a/[/r/UsedFor/,/c/en/bus/n/wn/artifact/,/c/en/transport/v/wn/contact/]\n"
     ]
    },
    {
     "name": "stdout",
     "output_type": "stream",
     "text": [
      "cn_id=/c/en/bus/n, new_edge={'cn_id': '/c/en/bus/n', 'edge_id': '/a/[/r/PartOf/,/c/en/roof/n/wn/artifact/,/c/en/bus/n/wn/artifact/]', 'edge_start_raw': '/c/en/roof/n/wn/artifact', 'edge_end_raw': '/c/en/bus/n/wn/artifact', 'predicate': '/r/PartOf', 'edge_start_matched': '/c/en/roof/n', 'edge_pd_matched': '/c/en/bus/n'}\n"
     ]
    },
    {
     "name": "stderr",
     "output_type": "stream",
     "text": [
      "skipping visited edge /a/[/r/PartOf/,/c/en/roof/n/wn/artifact/,/c/en/bus/n/wn/artifact/]\n"
     ]
    },
    {
     "name": "stdout",
     "output_type": "stream",
     "text": [
      "cn_id=/c/en/bus/n, new_edge={'cn_id': '/c/en/bus/n', 'edge_id': '/a/[/r/IsA/,/c/en/bus/n/wn/artifact/,/c/en/car/n/wn/artifact/]', 'edge_start_raw': '/c/en/bus/n/wn/artifact', 'edge_end_raw': '/c/en/car/n/wn/artifact', 'predicate': '/r/IsA', 'edge_start_matched': '/c/en/bus/n', 'edge_pd_matched': '/c/en/car/n'}\n"
     ]
    },
    {
     "name": "stderr",
     "output_type": "stream",
     "text": [
      "skipping visited edge /a/[/r/IsA/,/c/en/bus/n/wn/artifact/,/c/en/car/n/wn/artifact/]\n"
     ]
    },
    {
     "name": "stdout",
     "output_type": "stream",
     "text": [
      "cn_id=/c/en/bus/n, new_edge={'cn_id': '/c/en/bus/n', 'edge_id': '/a/[/r/PartOf/,/c/en/window/n/wn/artifact/,/c/en/bus/n/wn/artifact/]', 'edge_start_raw': '/c/en/window/n/wn/artifact', 'edge_end_raw': '/c/en/bus/n/wn/artifact', 'predicate': '/r/PartOf', 'edge_start_matched': '/c/en/window/n', 'edge_pd_matched': '/c/en/bus/n'}\n"
     ]
    },
    {
     "name": "stderr",
     "output_type": "stream",
     "text": [
      "skipping visited edge /a/[/r/PartOf/,/c/en/window/n/wn/artifact/,/c/en/bus/n/wn/artifact/]\n",
      "e1_matched=e2_matched=/c/en/bus/n\n"
     ]
    },
    {
     "name": "stdout",
     "output_type": "stream",
     "text": [
      "cn_id=/c/en/cabinet/n, new_edge={'cn_id': '/c/en/cabinet/n', 'edge_id': '/a/[/r/PartOf/,/c/en/shelf/n/wn/artifact/,/c/en/cabinet/n/wn/artifact/]', 'edge_start_raw': '/c/en/shelf/n/wn/artifact', 'edge_end_raw': '/c/en/cabinet/n/wn/artifact', 'predicate': '/r/PartOf', 'edge_start_matched': '/c/en/shelf/n', 'edge_pd_matched': '/c/en/cabinet/n'}\n"
     ]
    },
    {
     "name": "stderr",
     "output_type": "stream",
     "text": [
      "skipping visited edge /a/[/r/PartOf/,/c/en/shelf/n/wn/artifact/,/c/en/cabinet/n/wn/artifact/]\n",
      "e1_matched=/c/en/shelf/n is None or e2_matched=None is None\n",
      "e1_matched=None is None or e2_matched=/c/en/shelf/n is None\n",
      "e1_matched=/c/en/cap/n is None or e2_matched=None is None\n",
      "e1_matched=None is None or e2_matched=/c/en/cap/n is None\n",
      "e1_matched=e2_matched=/c/en/cap/n\n"
     ]
    },
    {
     "name": "stdout",
     "output_type": "stream",
     "text": [
      "cn_id=/c/en/car/n, new_edge={'cn_id': '/c/en/car/n', 'edge_id': '/a/[/r/PartOf/,/c/en/roof/n/wn/artifact/,/c/en/car/n/wn/artifact/]', 'edge_start_raw': '/c/en/roof/n/wn/artifact', 'edge_end_raw': '/c/en/car/n/wn/artifact', 'predicate': '/r/PartOf', 'edge_start_matched': '/c/en/roof/n', 'edge_pd_matched': '/c/en/car/n'}\n"
     ]
    },
    {
     "name": "stderr",
     "output_type": "stream",
     "text": [
      "skipping visited edge /a/[/r/PartOf/,/c/en/roof/n/wn/artifact/,/c/en/car/n/wn/artifact/]\n"
     ]
    },
    {
     "name": "stdout",
     "output_type": "stream",
     "text": [
      "cn_id=/c/en/car/n, new_edge={'cn_id': '/c/en/car/n', 'edge_id': '/a/[/r/PartOf/,/c/en/window/n/wn/artifact/,/c/en/car/n/wn/artifact/]', 'edge_start_raw': '/c/en/window/n/wn/artifact', 'edge_end_raw': '/c/en/car/n/wn/artifact', 'predicate': '/r/PartOf', 'edge_start_matched': '/c/en/window/n', 'edge_pd_matched': '/c/en/car/n'}\n"
     ]
    },
    {
     "name": "stderr",
     "output_type": "stream",
     "text": [
      "skipping visited edge /a/[/r/PartOf/,/c/en/window/n/wn/artifact/,/c/en/car/n/wn/artifact/]\n"
     ]
    },
    {
     "name": "stdout",
     "output_type": "stream",
     "text": [
      "cn_id=/c/en/car/n, new_edge={'cn_id': '/c/en/car/n', 'edge_id': '/a/[/r/UsedFor/,/c/en/car/n/wn/artifact/,/c/en/transport/v/wn/motion/]', 'edge_start_raw': '/c/en/car/n/wn/artifact', 'edge_end_raw': '/c/en/transport/v/wn/motion', 'predicate': '/r/UsedFor', 'edge_start_matched': '/c/en/car/n', 'edge_pd_matched': '/c/en/transport/v'}\n"
     ]
    },
    {
     "name": "stderr",
     "output_type": "stream",
     "text": [
      "skipping visited edge /a/[/r/UsedFor/,/c/en/car/n/wn/artifact/,/c/en/transport/v/wn/motion/]\n"
     ]
    },
    {
     "name": "stdout",
     "output_type": "stream",
     "text": [
      "cn_id=/c/en/cat/n, new_edge={'cn_id': '/c/en/cat/n', 'edge_id': '/a/[/r/IsA/,/c/en/cat/n/wn/person/,/c/en/woman/n/wn/person/]', 'edge_start_raw': '/c/en/cat/n/wn/person', 'edge_end_raw': '/c/en/woman/n/wn/person', 'predicate': '/r/IsA', 'edge_start_matched': '/c/en/cat/n', 'edge_pd_matched': '/c/en/woman/n'}\n"
     ]
    },
    {
     "name": "stderr",
     "output_type": "stream",
     "text": [
      "e1_matched=None is None or e2_matched=/c/en/woman/n is None\n",
      "e1_matched=/c/en/woman/n is None or e2_matched=None is None\n",
      "skipping visited edge /a/[/r/IsA/,/c/en/cat/n/wn/person/,/c/en/woman/n/wn/person/]\n"
     ]
    },
    {
     "name": "stdout",
     "output_type": "stream",
     "text": [
      "cn_id=/c/en/cat/n, new_edge={'cn_id': '/c/en/cat/n', 'edge_id': '/a/[/r/Synonym/,/c/en/cat/n/wn/person/,/c/en/guy/n/wn/person/]', 'edge_start_raw': '/c/en/cat/n/wn/person', 'edge_end_raw': '/c/en/guy/n/wn/person', 'predicate': '/r/Synonym', 'edge_start_matched': '/c/en/cat/n', 'edge_pd_matched': '/c/en/guy/n'}\n"
     ]
    },
    {
     "name": "stderr",
     "output_type": "stream",
     "text": [
      "e1_matched=None is None or e2_matched=/c/en/guy/n is None\n",
      "e1_matched=/c/en/guy/n is None or e2_matched=None is None\n",
      "skipping visited edge /a/[/r/Synonym/,/c/en/cat/n/wn/person/,/c/en/guy/n/wn/person/]\n",
      "e1_matched=None is None or e2_matched=/c/en/chair/n is None\n",
      "e1_matched=/c/en/chair/n is None or e2_matched=None is None\n"
     ]
    },
    {
     "name": "stdout",
     "output_type": "stream",
     "text": [
      "cn_id=/c/en/chair/n, new_edge={'cn_id': '/c/en/chair/n', 'edge_id': '/a/[/r/UsedFor/,/c/en/chair/n/wn/artifact/,/c/en/people/n/wn/group/]', 'edge_start_raw': '/c/en/chair/n/wn/artifact', 'edge_end_raw': '/c/en/people/n/wn/group', 'predicate': '/r/UsedFor', 'edge_start_matched': '/c/en/chair/n', 'edge_pd_matched': '/c/en/people/n'}\n"
     ]
    },
    {
     "name": "stderr",
     "output_type": "stream",
     "text": [
      "skipping visited edge /a/[/r/UsedFor/,/c/en/chair/n/wn/artifact/,/c/en/people/n/wn/group/]\n"
     ]
    },
    {
     "name": "stdout",
     "output_type": "stream",
     "text": [
      "cn_id=/c/en/chair/n, new_edge={'cn_id': '/c/en/chair/n', 'edge_id': '/a/[/r/PartOf/,/c/en/leg/n/wn/artifact/,/c/en/chair/n/wn/artifact/]', 'edge_start_raw': '/c/en/leg/n/wn/artifact', 'edge_end_raw': '/c/en/chair/n/wn/artifact', 'predicate': '/r/PartOf', 'edge_start_matched': '/c/en/leg/n', 'edge_pd_matched': '/c/en/chair/n'}\n"
     ]
    },
    {
     "name": "stderr",
     "output_type": "stream",
     "text": [
      "skipping visited edge /a/[/r/PartOf/,/c/en/leg/n/wn/artifact/,/c/en/chair/n/wn/artifact/]\n"
     ]
    },
    {
     "name": "stdout",
     "output_type": "stream",
     "text": [
      "cn_id=/c/en/chair/n, new_edge={'cn_id': '/c/en/chair/n', 'edge_id': '/a/[/r/IsA/,/c/en/chair/n/wn/artifact/,/c/en/seat/n/wn/artifact/]', 'edge_start_raw': '/c/en/chair/n/wn/artifact', 'edge_end_raw': '/c/en/seat/n/wn/artifact', 'predicate': '/r/IsA', 'edge_start_matched': '/c/en/chair/n', 'edge_pd_matched': '/c/en/seat/n'}\n"
     ]
    },
    {
     "name": "stderr",
     "output_type": "stream",
     "text": [
      "skipping visited edge /a/[/r/IsA/,/c/en/chair/n/wn/artifact/,/c/en/seat/n/wn/artifact/]\n"
     ]
    },
    {
     "name": "stdout",
     "output_type": "stream",
     "text": [
      "cn_id=/c/en/chair/n, new_edge={'cn_id': '/c/en/chair/n', 'edge_id': '/a/[/r/IsA/,/c/en/chair/n/,/c/en/seat/n/opencyc/seating_device/]', 'edge_start_raw': '/c/en/chair/n', 'edge_end_raw': '/c/en/seat/n/opencyc/seating_device', 'predicate': '/r/IsA', 'edge_start_matched': '/c/en/chair/n', 'edge_pd_matched': '/c/en/seat/n'}\n"
     ]
    },
    {
     "name": "stderr",
     "output_type": "stream",
     "text": [
      "skipping visited edge /a/[/r/IsA/,/c/en/chair/n/,/c/en/seat/n/opencyc/seating_device/]\n"
     ]
    },
    {
     "name": "stdout",
     "output_type": "stream",
     "text": [
      "cn_id=/c/en/child/n, new_edge={'cn_id': '/c/en/child/n', 'edge_id': '/a/[/r/IsA/,/c/en/child/n/wn/person/,/c/en/person/n/wn/]', 'edge_start_raw': '/c/en/child/n/wn/person', 'edge_end_raw': '/c/en/person/n/wn', 'predicate': '/r/IsA', 'edge_start_matched': '/c/en/child/n', 'edge_pd_matched': '/c/en/person/n'}\n"
     ]
    },
    {
     "name": "stderr",
     "output_type": "stream",
     "text": [
      "skipping visited edge /a/[/r/IsA/,/c/en/child/n/wn/person/,/c/en/person/n/wn/]\n"
     ]
    },
    {
     "name": "stdout",
     "output_type": "stream",
     "text": [
      "cn_id=/c/en/clock/n, new_edge={'cn_id': '/c/en/clock/n', 'edge_id': '/a/[/r/UsedFor/,/c/en/clock/n/wn/artifact/,/c/en/people/n/wn/group/]', 'edge_start_raw': '/c/en/clock/n/wn/artifact', 'edge_end_raw': '/c/en/people/n/wn/group', 'predicate': '/r/UsedFor', 'edge_start_matched': '/c/en/clock/n', 'edge_pd_matched': '/c/en/people/n'}\n"
     ]
    },
    {
     "name": "stderr",
     "output_type": "stream",
     "text": [
      "skipping visited edge /a/[/r/UsedFor/,/c/en/clock/n/wn/artifact/,/c/en/people/n/wn/group/]\n",
      "e1_matched=None is None or e2_matched=/c/en/clock/n is None\n",
      "e1_matched=/c/en/clock/n is None or e2_matched=None is None\n",
      "e1_matched=/c/en/coat/n is None or e2_matched=None is None\n",
      "e1_matched=None is None or e2_matched=/c/en/coat/n is None\n"
     ]
    },
    {
     "name": "stdout",
     "output_type": "stream",
     "text": [
      "cn_id=/c/en/coat/n, new_edge={'cn_id': '/c/en/coat/n', 'edge_id': '/a/[/r/IsA/,/c/en/jacket/n/wn/artifact/,/c/en/coat/n/wn/artifact/]', 'edge_start_raw': '/c/en/jacket/n/wn/artifact', 'edge_end_raw': '/c/en/coat/n/wn/artifact', 'predicate': '/r/IsA', 'edge_start_matched': '/c/en/jacket/n', 'edge_pd_matched': '/c/en/coat/n'}\n"
     ]
    },
    {
     "name": "stderr",
     "output_type": "stream",
     "text": [
      "e1_matched=None is None or e2_matched=/c/en/jacket/n is None\n",
      "e1_matched=/c/en/jacket/n is None or e2_matched=None is None\n",
      "skipping visited edge /a/[/r/IsA/,/c/en/jacket/n/wn/artifact/,/c/en/coat/n/wn/artifact/]\n"
     ]
    },
    {
     "name": "stdout",
     "output_type": "stream",
     "text": [
      "cn_id=/c/en/coat/n, new_edge={'cn_id': '/c/en/coat/n', 'edge_id': '/a/[/r/IsA/,/c/en/coat/n/wn/animal/,/c/en/hair/n/wn/body/]', 'edge_start_raw': '/c/en/coat/n/wn/animal', 'edge_end_raw': '/c/en/hair/n/wn/body', 'predicate': '/r/IsA', 'edge_start_matched': '/c/en/coat/n', 'edge_pd_matched': '/c/en/hair/n'}\n"
     ]
    },
    {
     "name": "stderr",
     "output_type": "stream",
     "text": [
      "e1_matched=None is None or e2_matched=/c/en/hair/n is None\n",
      "e1_matched=/c/en/hair/n is None or e2_matched=None is None\n",
      "skipping visited edge /a/[/r/IsA/,/c/en/coat/n/wn/animal/,/c/en/hair/n/wn/body/]\n",
      "e1_matched=e2_matched=/c/en/hair/n\n"
     ]
    },
    {
     "name": "stdout",
     "output_type": "stream",
     "text": [
      "cn_id=/c/en/coat/n, new_edge={'cn_id': '/c/en/coat/n', 'edge_id': '/a/[/r/IsA/,/c/en/jacket/n/,/c/en/coat/n/]', 'edge_start_raw': '/c/en/jacket/n', 'edge_end_raw': '/c/en/coat/n', 'predicate': '/r/IsA', 'edge_start_matched': '/c/en/jacket/n', 'edge_pd_matched': '/c/en/coat/n'}\n"
     ]
    },
    {
     "name": "stderr",
     "output_type": "stream",
     "text": [
      "skipping visited edge /a/[/r/IsA/,/c/en/jacket/n/,/c/en/coat/n/]\n",
      "e1_matched=e2_matched=/c/en/coat/n\n",
      "e1_matched=None is None or e2_matched=/c/en/constitute/v is None\n",
      "e1_matched=/c/en/constitute/v is None or e2_matched=None is None\n"
     ]
    },
    {
     "name": "stdout",
     "output_type": "stream",
     "text": [
      "cn_id=/c/en/constitute/v, new_edge={'cn_id': '/c/en/constitute/v', 'edge_id': '/a/[/r/MannerOf/,/c/en/make/v/wn/stative/,/c/en/constitute/v/wn/stative/]', 'edge_start_raw': '/c/en/make/v/wn/stative', 'edge_end_raw': '/c/en/constitute/v/wn/stative', 'predicate': '/r/MannerOf', 'edge_start_matched': '/c/en/make/v', 'edge_pd_matched': '/c/en/constitute/v'}\n"
     ]
    },
    {
     "name": "stderr",
     "output_type": "stream",
     "text": [
      "e1_matched=None is None or e2_matched=/c/en/make/v is None\n",
      "e1_matched=/c/en/make/v is None or e2_matched=None is None\n",
      "skipping visited edge /a/[/r/MannerOf/,/c/en/make/v/wn/stative/,/c/en/constitute/v/wn/stative/]\n"
     ]
    },
    {
     "name": "stdout",
     "output_type": "stream",
     "text": [
      "cn_id=/c/en/counter/n, new_edge={'cn_id': '/c/en/counter/n', 'edge_id': '/a/[/r/IsA/,/c/en/counter/n/wn/person/,/c/en/person/n/wn/]', 'edge_start_raw': '/c/en/counter/n/wn/person', 'edge_end_raw': '/c/en/person/n/wn', 'predicate': '/r/IsA', 'edge_start_matched': '/c/en/counter/n', 'edge_pd_matched': '/c/en/person/n'}\n"
     ]
    },
    {
     "name": "stderr",
     "output_type": "stream",
     "text": [
      "skipping visited edge /a/[/r/IsA/,/c/en/counter/n/wn/person/,/c/en/person/n/wn/]\n"
     ]
    },
    {
     "name": "stdout",
     "output_type": "stream",
     "text": [
      "cn_id=/c/en/counter/n, new_edge={'cn_id': '/c/en/counter/n', 'edge_id': '/a/[/r/UsedFor/,/c/en/counter/n/wn/artifact/,/c/en/hold/v/wn/contact/]', 'edge_start_raw': '/c/en/counter/n/wn/artifact', 'edge_end_raw': '/c/en/hold/v/wn/contact', 'predicate': '/r/UsedFor', 'edge_start_matched': '/c/en/counter/n', 'edge_pd_matched': '/c/en/hold/v'}\n"
     ]
    },
    {
     "name": "stderr",
     "output_type": "stream",
     "text": [
      "skipping visited edge /a/[/r/UsedFor/,/c/en/counter/n/wn/artifact/,/c/en/hold/v/wn/contact/]\n"
     ]
    },
    {
     "name": "stdout",
     "output_type": "stream",
     "text": [
      "cn_id=/c/en/counter/n, new_edge={'cn_id': '/c/en/counter/n', 'edge_id': '/a/[/r/IsA/,/c/en/counter/n/wn/artifact/,/c/en/table/n/wn/artifact/]', 'edge_start_raw': '/c/en/counter/n/wn/artifact', 'edge_end_raw': '/c/en/table/n/wn/artifact', 'predicate': '/r/IsA', 'edge_start_matched': '/c/en/counter/n', 'edge_pd_matched': '/c/en/table/n'}\n"
     ]
    },
    {
     "name": "stderr",
     "output_type": "stream",
     "text": [
      "skipping visited edge /a/[/r/IsA/,/c/en/counter/n/wn/artifact/,/c/en/table/n/wn/artifact/]\n"
     ]
    },
    {
     "name": "stdout",
     "output_type": "stream",
     "text": [
      "cn_id=/c/en/counter/n, new_edge={'cn_id': '/c/en/counter/n', 'edge_id': '/a/[/r/PartOf/,/c/en/counter/n/wn/artifact/,/c/en/shoe/n/wn/artifact/]', 'edge_start_raw': '/c/en/counter/n/wn/artifact', 'edge_end_raw': '/c/en/shoe/n/wn/artifact', 'predicate': '/r/PartOf', 'edge_start_matched': '/c/en/counter/n', 'edge_pd_matched': '/c/en/shoe/n'}\n"
     ]
    },
    {
     "name": "stderr",
     "output_type": "stream",
     "text": [
      "skipping visited edge /a/[/r/PartOf/,/c/en/counter/n/wn/artifact/,/c/en/shoe/n/wn/artifact/]\n",
      "e1_matched=None is None or e2_matched=/c/en/cover/v is None\n",
      "e1_matched=/c/en/cover/v is None or e2_matched=None is None\n"
     ]
    },
    {
     "name": "stdout",
     "output_type": "stream",
     "text": [
      "cn_id=/c/en/cover/v, new_edge={'cn_id': '/c/en/cover/v', 'edge_id': '/a/[/r/MannerOf/,/c/en/paint/v/wn/contact/,/c/en/cover/v/wn/contact/]', 'edge_start_raw': '/c/en/paint/v/wn/contact', 'edge_end_raw': '/c/en/cover/v/wn/contact', 'predicate': '/r/MannerOf', 'edge_start_matched': '/c/en/paint/v', 'edge_pd_matched': '/c/en/cover/v'}\n"
     ]
    },
    {
     "name": "stderr",
     "output_type": "stream",
     "text": [
      "e1_matched=None is None or e2_matched=/c/en/paint/v is None\n",
      "e1_matched=/c/en/paint/v is None or e2_matched=None is None\n",
      "skipping visited edge /a/[/r/MannerOf/,/c/en/paint/v/wn/contact/,/c/en/cover/v/wn/contact/]\n"
     ]
    },
    {
     "name": "stdout",
     "output_type": "stream",
     "text": [
      "cn_id=/c/en/cover/v, new_edge={'cn_id': '/c/en/cover/v', 'edge_id': '/a/[/r/MannerOf/,/c/en/hold/v/wn/contact/,/c/en/cover/v/wn/contact/]', 'edge_start_raw': '/c/en/hold/v/wn/contact', 'edge_end_raw': '/c/en/cover/v/wn/contact', 'predicate': '/r/MannerOf', 'edge_start_matched': '/c/en/hold/v', 'edge_pd_matched': '/c/en/cover/v'}\n"
     ]
    },
    {
     "name": "stderr",
     "output_type": "stream",
     "text": [
      "skipping visited edge /a/[/r/MannerOf/,/c/en/hold/v/wn/contact/,/c/en/cover/v/wn/contact/]\n"
     ]
    },
    {
     "name": "stdout",
     "output_type": "stream",
     "text": [
      "cn_id=/c/en/cover/v, new_edge={'cn_id': '/c/en/cover/v', 'edge_id': '/a/[/r/MannerOf/,/c/en/cover/v/wn/card_game/,/c/en/play/v/wn/competition/]', 'edge_start_raw': '/c/en/cover/v/wn/card_game', 'edge_end_raw': '/c/en/play/v/wn/competition', 'predicate': '/r/MannerOf', 'edge_start_matched': '/c/en/cover/v', 'edge_pd_matched': '/c/en/play/v'}\n"
     ]
    },
    {
     "name": "stderr",
     "output_type": "stream",
     "text": [
      "e1_matched=None is None or e2_matched=/c/en/play/v is None\n",
      "e1_matched=/c/en/play/v is None or e2_matched=None is None\n",
      "skipping visited edge /a/[/r/MannerOf/,/c/en/cover/v/wn/card_game/,/c/en/play/v/wn/competition/]\n",
      "e1_matched=/c/en/covered/a is None or e2_matched=None is None\n",
      "e1_matched=None is None or e2_matched=/c/en/covered/a is None\n",
      "e1_matched=/c/en/cow/n is None or e2_matched=None is None\n",
      "e1_matched=None is None or e2_matched=/c/en/cow/n is None\n",
      "e1_matched=None is None or e2_matched=/c/en/cup/n is None\n",
      "e1_matched=/c/en/cup/n is None or e2_matched=None is None\n"
     ]
    },
    {
     "name": "stdout",
     "output_type": "stream",
     "text": [
      "cn_id=/c/en/cup/n, new_edge={'cn_id': '/c/en/cup/n', 'edge_id': '/a/[/r/UsedFor/,/c/en/cup/n/wn/artifact/,/c/en/hold/v/wn/stative/]', 'edge_start_raw': '/c/en/cup/n/wn/artifact', 'edge_end_raw': '/c/en/hold/v/wn/stative', 'predicate': '/r/UsedFor', 'edge_start_matched': '/c/en/cup/n', 'edge_pd_matched': '/c/en/hold/v'}\n"
     ]
    },
    {
     "name": "stderr",
     "output_type": "stream",
     "text": [
      "skipping visited edge /a/[/r/UsedFor/,/c/en/cup/n/wn/artifact/,/c/en/hold/v/wn/stative/]\n"
     ]
    },
    {
     "name": "stdout",
     "output_type": "stream",
     "text": [
      "cn_id=/c/en/curtain/n, new_edge={'cn_id': '/c/en/curtain/n', 'edge_id': '/a/[/r/RelatedTo/,/c/en/curtain/n/wn/artifact/,/c/en/window/n/wn/artifact/]', 'edge_start_raw': '/c/en/curtain/n/wn/artifact', 'edge_end_raw': '/c/en/window/n/wn/artifact', 'predicate': '/r/RelatedTo', 'edge_start_matched': '/c/en/curtain/n', 'edge_pd_matched': '/c/en/window/n'}\n"
     ]
    },
    {
     "name": "stderr",
     "output_type": "stream",
     "text": [
      "skipping visited edge /a/[/r/RelatedTo/,/c/en/curtain/n/wn/artifact/,/c/en/window/n/wn/artifact/]\n",
      "e1_matched=/c/en/desk/n is None or e2_matched=None is None\n",
      "e1_matched=None is None or e2_matched=/c/en/desk/n is None\n"
     ]
    },
    {
     "name": "stdout",
     "output_type": "stream",
     "text": [
      "cn_id=/c/en/desk/n, new_edge={'cn_id': '/c/en/desk/n', 'edge_id': '/a/[/r/PartOf/,/c/en/drawer/n/wn/artifact/,/c/en/desk/n/wn/artifact/]', 'edge_start_raw': '/c/en/drawer/n/wn/artifact', 'edge_end_raw': '/c/en/desk/n/wn/artifact', 'predicate': '/r/PartOf', 'edge_start_matched': '/c/en/drawer/n', 'edge_pd_matched': '/c/en/desk/n'}\n"
     ]
    },
    {
     "name": "stderr",
     "output_type": "stream",
     "text": [
      "e1_matched=/c/en/drawer/n is None or e2_matched=None is None\n",
      "e1_matched=None is None or e2_matched=/c/en/drawer/n is None\n",
      "skipping visited edge /a/[/r/PartOf/,/c/en/drawer/n/wn/artifact/,/c/en/desk/n/wn/artifact/]\n",
      "e1_matched=e2_matched=/c/en/drawer/n\n"
     ]
    },
    {
     "name": "stdout",
     "output_type": "stream",
     "text": [
      "cn_id=/c/en/desk/n, new_edge={'cn_id': '/c/en/desk/n', 'edge_id': '/a/[/r/IsA/,/c/en/desk/n/wn/artifact/,/c/en/table/n/wn/artifact/]', 'edge_start_raw': '/c/en/desk/n/wn/artifact', 'edge_end_raw': '/c/en/table/n/wn/artifact', 'predicate': '/r/IsA', 'edge_start_matched': '/c/en/desk/n', 'edge_pd_matched': '/c/en/table/n'}\n"
     ]
    },
    {
     "name": "stderr",
     "output_type": "stream",
     "text": [
      "skipping visited edge /a/[/r/IsA/,/c/en/desk/n/wn/artifact/,/c/en/table/n/wn/artifact/]\n"
     ]
    },
    {
     "name": "stdout",
     "output_type": "stream",
     "text": [
      "cn_id=/c/en/desk/n, new_edge={'cn_id': '/c/en/desk/n', 'edge_id': '/a/[/r/IsA/,/c/en/desk/n/,/c/en/table/n/opencyc/table_piece_of_furniture/]', 'edge_start_raw': '/c/en/desk/n', 'edge_end_raw': '/c/en/table/n/opencyc/table_piece_of_furniture', 'predicate': '/r/IsA', 'edge_start_matched': '/c/en/desk/n', 'edge_pd_matched': '/c/en/table/n'}\n"
     ]
    },
    {
     "name": "stderr",
     "output_type": "stream",
     "text": [
      "skipping visited edge /a/[/r/IsA/,/c/en/desk/n/,/c/en/table/n/opencyc/table_piece_of_furniture/]\n",
      "e1_matched=None is None or e2_matched=/c/en/dog/n is None\n"
     ]
    },
    {
     "name": "stdout",
     "output_type": "stream",
     "text": [
      "cn_id=/c/en/dog/n, new_edge={'cn_id': '/c/en/dog/n', 'edge_id': '/a/[/r/PartOf/,/c/en/flag/n/wn/animal/,/c/en/dog/n/wn/animal/]', 'edge_start_raw': '/c/en/flag/n/wn/animal', 'edge_end_raw': '/c/en/dog/n/wn/animal', 'predicate': '/r/PartOf', 'edge_start_matched': '/c/en/flag/n', 'edge_pd_matched': '/c/en/dog/n'}\n"
     ]
    },
    {
     "name": "stderr",
     "output_type": "stream",
     "text": [
      "e1_matched=None is None or e2_matched=/c/en/flag/n is None\n",
      "skipping visited edge /a/[/r/PartOf/,/c/en/flag/n/wn/animal/,/c/en/dog/n/wn/animal/]\n",
      "e1_matched=/c/en/flag/n is None or e2_matched=None is None\n",
      "e1_matched=/c/en/dog/n is None or e2_matched=None is None\n",
      "e1_matched=e2_matched=/c/en/dog/n\n",
      "e1_matched=None is None or e2_matched=/c/en/door/n is None\n"
     ]
    },
    {
     "name": "stdout",
     "output_type": "stream",
     "text": [
      "cn_id=/c/en/door/n, new_edge={'cn_id': '/c/en/door/n', 'edge_id': '/a/[/r/IsA/,/c/en/door/n/wn/artifact/,/c/en/room/n/wn/artifact/]', 'edge_start_raw': '/c/en/door/n/wn/artifact', 'edge_end_raw': '/c/en/room/n/wn/artifact', 'predicate': '/r/IsA', 'edge_start_matched': '/c/en/door/n', 'edge_pd_matched': '/c/en/room/n'}\n"
     ]
    },
    {
     "name": "stderr",
     "output_type": "stream",
     "text": [
      "skipping visited edge /a/[/r/IsA/,/c/en/door/n/wn/artifact/,/c/en/room/n/wn/artifact/]\n",
      "e1_matched=/c/en/door/n is None or e2_matched=None is None\n",
      "e1_matched=/c/en/ear/n is None or e2_matched=None is None\n",
      "e1_matched=None is None or e2_matched=/c/en/ear/n is None\n"
     ]
    },
    {
     "name": "stdout",
     "output_type": "stream",
     "text": [
      "cn_id=/c/en/ear/n, new_edge={'cn_id': '/c/en/ear/n', 'edge_id': '/a/[/r/PartOf/,/c/en/ear/n/wn/body/,/c/en/head/n/wn/body/]', 'edge_start_raw': '/c/en/ear/n/wn/body', 'edge_end_raw': '/c/en/head/n/wn/body', 'predicate': '/r/PartOf', 'edge_start_matched': '/c/en/ear/n', 'edge_pd_matched': '/c/en/head/n'}\n"
     ]
    },
    {
     "name": "stderr",
     "output_type": "stream",
     "text": [
      "skipping visited edge /a/[/r/PartOf/,/c/en/ear/n/wn/body/,/c/en/head/n/wn/body/]\n"
     ]
    },
    {
     "name": "stdout",
     "output_type": "stream",
     "text": [
      "cn_id=/c/en/ear/n, new_edge={'cn_id': '/c/en/ear/n', 'edge_id': '/a/[/r/IsA/,/c/en/ear/n/wn/plant/,/c/en/fruit/n/wn/plant/]', 'edge_start_raw': '/c/en/ear/n/wn/plant', 'edge_end_raw': '/c/en/fruit/n/wn/plant', 'predicate': '/r/IsA', 'edge_start_matched': '/c/en/ear/n', 'edge_pd_matched': '/c/en/fruit/n'}\n"
     ]
    },
    {
     "name": "stderr",
     "output_type": "stream",
     "text": [
      "skipping visited edge /a/[/r/IsA/,/c/en/ear/n/wn/plant/,/c/en/fruit/n/wn/plant/]\n",
      "e1_matched=None is None or e2_matched=/c/en/fruit/n is None\n",
      "e1_matched=/c/en/fruit/n is None or e2_matched=None is None\n",
      "e1_matched=e2_matched=/c/en/ear/n\n",
      "e1_matched=None is None or e2_matched=/c/en/eat/v is None\n",
      "e1_matched=e2_matched=/c/en/eat/v\n",
      "e1_matched=/c/en/eat/v is None or e2_matched=None is None\n",
      "e1_matched=None is None or e2_matched=/c/en/elephant/n is None\n",
      "e1_matched=/c/en/elephant/n is None or e2_matched=None is None\n",
      "e1_matched=/c/en/engine/n is None or e2_matched=None is None\n",
      "e1_matched=None is None or e2_matched=/c/en/engine/n is None\n",
      "e1_matched=/c/en/eye/n is None or e2_matched=None is None\n",
      "e1_matched=None is None or e2_matched=/c/en/eye/n is None\n"
     ]
    },
    {
     "name": "stdout",
     "output_type": "stream",
     "text": [
      "cn_id=/c/en/eye/n, new_edge={'cn_id': '/c/en/eye/n', 'edge_id': '/a/[/r/PartOf/,/c/en/eye/n/wn/body/,/c/en/face/n/wn/body/]', 'edge_start_raw': '/c/en/eye/n/wn/body', 'edge_end_raw': '/c/en/face/n/wn/body', 'predicate': '/r/PartOf', 'edge_start_matched': '/c/en/eye/n', 'edge_pd_matched': '/c/en/face/n'}\n"
     ]
    },
    {
     "name": "stderr",
     "output_type": "stream",
     "text": [
      "skipping visited edge /a/[/r/PartOf/,/c/en/eye/n/wn/body/,/c/en/face/n/wn/body/]\n",
      "e1_matched=e2_matched=/c/en/eye/n\n"
     ]
    },
    {
     "name": "stdout",
     "output_type": "stream",
     "text": [
      "cn_id=/c/en/face/n, new_edge={'cn_id': '/c/en/face/n', 'edge_id': '/a/[/r/PartOf/,/c/en/face/n/wn/body/,/c/en/head/n/wn/body/]', 'edge_start_raw': '/c/en/face/n/wn/body', 'edge_end_raw': '/c/en/head/n/wn/body', 'predicate': '/r/PartOf', 'edge_start_matched': '/c/en/face/n', 'edge_pd_matched': '/c/en/head/n'}\n"
     ]
    },
    {
     "name": "stderr",
     "output_type": "stream",
     "text": [
      "skipping visited edge /a/[/r/PartOf/,/c/en/face/n/wn/body/,/c/en/head/n/wn/body/]\n"
     ]
    },
    {
     "name": "stdout",
     "output_type": "stream",
     "text": [
      "cn_id=/c/en/face/n, new_edge={'cn_id': '/c/en/face/n', 'edge_id': '/a/[/r/PartOf/,/c/en/face/n/wn/artifact/,/c/en/head/n/wn/artifact/]', 'edge_start_raw': '/c/en/face/n/wn/artifact', 'edge_end_raw': '/c/en/head/n/wn/artifact', 'predicate': '/r/PartOf', 'edge_start_matched': '/c/en/face/n', 'edge_pd_matched': '/c/en/head/n'}\n"
     ]
    },
    {
     "name": "stderr",
     "output_type": "stream",
     "text": [
      "skipping visited edge /a/[/r/PartOf/,/c/en/face/n/wn/artifact/,/c/en/head/n/wn/artifact/]\n"
     ]
    },
    {
     "name": "stdout",
     "output_type": "stream",
     "text": [
      "cn_id=/c/en/face/n, new_edge={'cn_id': '/c/en/face/n', 'edge_id': '/a/[/r/PartOf/,/c/en/face/n/wn/artifact/,/c/en/racket/n/wn/artifact/]', 'edge_start_raw': '/c/en/face/n/wn/artifact', 'edge_end_raw': '/c/en/racket/n/wn/artifact', 'predicate': '/r/PartOf', 'edge_start_matched': '/c/en/face/n', 'edge_pd_matched': '/c/en/racket/n'}\n"
     ]
    },
    {
     "name": "stderr",
     "output_type": "stream",
     "text": [
      "e1_matched=/c/en/racket/n is None or e2_matched=None is None\n",
      "skipping visited edge /a/[/r/PartOf/,/c/en/face/n/wn/artifact/,/c/en/racket/n/wn/artifact/]\n",
      "e1_matched=None is None or e2_matched=/c/en/racket/n is None\n",
      "e1_matched=e2_matched=/c/en/racket/n\n"
     ]
    },
    {
     "name": "stdout",
     "output_type": "stream",
     "text": [
      "cn_id=/c/en/face/n, new_edge={'cn_id': '/c/en/face/n', 'edge_id': '/a/[/r/PartOf/,/c/en/mouth/n/wn/body/,/c/en/face/n/wn/body/]', 'edge_start_raw': '/c/en/mouth/n/wn/body', 'edge_end_raw': '/c/en/face/n/wn/body', 'predicate': '/r/PartOf', 'edge_start_matched': '/c/en/mouth/n', 'edge_pd_matched': '/c/en/face/n'}\n"
     ]
    },
    {
     "name": "stderr",
     "output_type": "stream",
     "text": [
      "skipping visited edge /a/[/r/PartOf/,/c/en/mouth/n/wn/body/,/c/en/face/n/wn/body/]\n"
     ]
    },
    {
     "name": "stdout",
     "output_type": "stream",
     "text": [
      "cn_id=/c/en/face/n, new_edge={'cn_id': '/c/en/face/n', 'edge_id': '/a/[/r/IsA/,/c/en/face/n/wn/person/,/c/en/person/n/wn/]', 'edge_start_raw': '/c/en/face/n/wn/person', 'edge_end_raw': '/c/en/person/n/wn', 'predicate': '/r/IsA', 'edge_start_matched': '/c/en/face/n', 'edge_pd_matched': '/c/en/person/n'}\n"
     ]
    },
    {
     "name": "stderr",
     "output_type": "stream",
     "text": [
      "skipping visited edge /a/[/r/IsA/,/c/en/face/n/wn/person/,/c/en/person/n/wn/]\n"
     ]
    },
    {
     "name": "stdout",
     "output_type": "stream",
     "text": [
      "cn_id=/c/en/face/n, new_edge={'cn_id': '/c/en/face/n', 'edge_id': '/a/[/r/PartOf/,/c/en/nose/n/wn/body/,/c/en/face/n/wn/body/]', 'edge_start_raw': '/c/en/nose/n/wn/body', 'edge_end_raw': '/c/en/face/n/wn/body', 'predicate': '/r/PartOf', 'edge_start_matched': '/c/en/nose/n', 'edge_pd_matched': '/c/en/face/n'}\n"
     ]
    },
    {
     "name": "stderr",
     "output_type": "stream",
     "text": [
      "skipping visited edge /a/[/r/PartOf/,/c/en/nose/n/wn/body/,/c/en/face/n/wn/body/]\n",
      "e1_matched=/c/en/female_child/n is None or e2_matched=None is None\n",
      "e1_matched=None is None or e2_matched=/c/en/female_child/n is None\n",
      "e1_matched=None is None or e2_matched=/c/en/fence/n is None\n",
      "e1_matched=/c/en/fence/n is None or e2_matched=None is None\n",
      "e1_matched=/c/en/finger/n is None or e2_matched=None is None\n",
      "e1_matched=None is None or e2_matched=/c/en/finger/n is None\n"
     ]
    },
    {
     "name": "stdout",
     "output_type": "stream",
     "text": [
      "cn_id=/c/en/finger/n, new_edge={'cn_id': '/c/en/finger/n', 'edge_id': '/a/[/r/PartOf/,/c/en/finger/n/wn/body/,/c/en/hand/n/wn/body/]', 'edge_start_raw': '/c/en/finger/n/wn/body', 'edge_end_raw': '/c/en/hand/n/wn/body', 'predicate': '/r/PartOf', 'edge_start_matched': '/c/en/finger/n', 'edge_pd_matched': '/c/en/hand/n'}\n"
     ]
    },
    {
     "name": "stderr",
     "output_type": "stream",
     "text": [
      "skipping visited edge /a/[/r/PartOf/,/c/en/finger/n/wn/body/,/c/en/hand/n/wn/body/]\n"
     ]
    },
    {
     "name": "stdout",
     "output_type": "stream",
     "text": [
      "cn_id=/c/en/finger/n, new_edge={'cn_id': '/c/en/finger/n', 'edge_id': '/a/[/r/PartOf/,/c/en/finger/n/wn/artifact/,/c/en/glove/n/wn/artifact/]', 'edge_start_raw': '/c/en/finger/n/wn/artifact', 'edge_end_raw': '/c/en/glove/n/wn/artifact', 'predicate': '/r/PartOf', 'edge_start_matched': '/c/en/finger/n', 'edge_pd_matched': '/c/en/glove/n'}\n"
     ]
    },
    {
     "name": "stderr",
     "output_type": "stream",
     "text": [
      "e1_matched=None is None or e2_matched=/c/en/glove/n is None\n",
      "skipping visited edge /a/[/r/PartOf/,/c/en/finger/n/wn/artifact/,/c/en/glove/n/wn/artifact/]\n",
      "e1_matched=/c/en/glove/n is None or e2_matched=None is None\n"
     ]
    },
    {
     "name": "stdout",
     "output_type": "stream",
     "text": [
      "cn_id=/c/en/flag/n, new_edge={'cn_id': '/c/en/flag/n', 'edge_id': '/a/[/r/IsA/,/c/en/flag/n/wn/animal/,/c/en/tail/n/wn/animal/]', 'edge_start_raw': '/c/en/flag/n/wn/animal', 'edge_end_raw': '/c/en/tail/n/wn/animal', 'predicate': '/r/IsA', 'edge_start_matched': '/c/en/flag/n', 'edge_pd_matched': '/c/en/tail/n'}\n"
     ]
    },
    {
     "name": "stderr",
     "output_type": "stream",
     "text": [
      "e1_matched=/c/en/tail/n is None or e2_matched=None is None\n",
      "e1_matched=None is None or e2_matched=/c/en/tail/n is None\n",
      "skipping visited edge /a/[/r/IsA/,/c/en/flag/n/wn/animal/,/c/en/tail/n/wn/animal/]\n",
      "e1_matched=None is None or e2_matched=/c/en/flower/n is None\n",
      "e1_matched=/c/en/flower/n is None or e2_matched=None is None\n",
      "e1_matched=None is None or e2_matched=/c/en/fly/v is None\n",
      "e1_matched=/c/en/fly/v is None or e2_matched=None is None\n",
      "e1_matched=e2_matched=/c/en/fly/v\n"
     ]
    },
    {
     "name": "stdout",
     "output_type": "stream",
     "text": [
      "cn_id=/c/en/fly/v, new_edge={'cn_id': '/c/en/fly/v', 'edge_id': '/a/[/r/MannerOf/,/c/en/fly/v/wn/contact/,/c/en/transport/v/wn/contact/]', 'edge_start_raw': '/c/en/fly/v/wn/contact', 'edge_end_raw': '/c/en/transport/v/wn/contact', 'predicate': '/r/MannerOf', 'edge_start_matched': '/c/en/fly/v', 'edge_pd_matched': '/c/en/transport/v'}\n"
     ]
    },
    {
     "name": "stderr",
     "output_type": "stream",
     "text": [
      "skipping visited edge /a/[/r/MannerOf/,/c/en/fly/v/wn/contact/,/c/en/transport/v/wn/contact/]\n",
      "e1_matched=None is None or e2_matched=/c/en/fork/n is None\n",
      "e1_matched=/c/en/fork/n is None or e2_matched=None is None\n"
     ]
    },
    {
     "name": "stdout",
     "output_type": "stream",
     "text": [
      "cn_id=/c/en/from, new_edge={'cn_id': '/c/en/from', 'edge_id': '/a/[/r/RelatedTo/,/c/en/with/,/c/en/from/]', 'edge_start_raw': '/c/en/with', 'edge_end_raw': '/c/en/from', 'predicate': '/r/RelatedTo', 'edge_start_matched': '/c/en/with', 'edge_pd_matched': '/c/en/from'}\n"
     ]
    },
    {
     "name": "stderr",
     "output_type": "stream",
     "text": [
      "skipping visited edge /a/[/r/RelatedTo/,/c/en/with/,/c/en/from/]\n"
     ]
    },
    {
     "name": "stdout",
     "output_type": "stream",
     "text": [
      "cn_id=/c/en/from, new_edge={'cn_id': '/c/en/from', 'edge_id': '/a/[/r/DistinctFrom/,/c/en/from/,/c/en/to/]', 'edge_start_raw': '/c/en/from', 'edge_end_raw': '/c/en/to', 'predicate': '/r/DistinctFrom', 'edge_start_matched': '/c/en/from', 'edge_pd_matched': '/c/en/to'}\n"
     ]
    },
    {
     "name": "stderr",
     "output_type": "stream",
     "text": [
      "skipping visited edge /a/[/r/DistinctFrom/,/c/en/from/,/c/en/to/]\n",
      "e1_matched=/c/en/giraffe/n is None or e2_matched=None is None\n",
      "e1_matched=None is None or e2_matched=/c/en/giraffe/n is None\n",
      "e1_matched=None is None or e2_matched=/c/en/glass/n is None\n",
      "e1_matched=/c/en/glass/n is None or e2_matched=None is None\n"
     ]
    },
    {
     "name": "stdout",
     "output_type": "stream",
     "text": [
      "cn_id=/c/en/glass/n, new_edge={'cn_id': '/c/en/glass/n', 'edge_id': '/a/[/r/UsedFor/,/c/en/glass/n/wn/artifact/,/c/en/hold/v/wn/stative/]', 'edge_start_raw': '/c/en/glass/n/wn/artifact', 'edge_end_raw': '/c/en/hold/v/wn/stative', 'predicate': '/r/UsedFor', 'edge_start_matched': '/c/en/glass/n', 'edge_pd_matched': '/c/en/hold/v'}\n"
     ]
    },
    {
     "name": "stderr",
     "output_type": "stream",
     "text": [
      "skipping visited edge /a/[/r/UsedFor/,/c/en/glass/n/wn/artifact/,/c/en/hold/v/wn/stative/]\n",
      "e1_matched=e2_matched=/c/en/glass/n\n",
      "e1_matched=None is None or e2_matched=/c/en/grow/v is None\n",
      "e1_matched=/c/en/grow/v is None or e2_matched=None is None\n",
      "e1_matched=e2_matched=/c/en/grow/v\n"
     ]
    },
    {
     "name": "stdout",
     "output_type": "stream",
     "text": [
      "cn_id=/c/en/guy/n, new_edge={'cn_id': '/c/en/guy/n', 'edge_id': '/a/[/r/IsA/,/c/en/guy/n/wn/person/,/c/en/man/n/wn/person/]', 'edge_start_raw': '/c/en/guy/n/wn/person', 'edge_end_raw': '/c/en/man/n/wn/person', 'predicate': '/r/IsA', 'edge_start_matched': '/c/en/guy/n', 'edge_pd_matched': '/c/en/man/n'}\n"
     ]
    },
    {
     "name": "stderr",
     "output_type": "stream",
     "text": [
      "e1_matched=None is None or e2_matched=/c/en/man/n is None\n",
      "e1_matched=/c/en/man/n is None or e2_matched=None is None\n",
      "skipping visited edge /a/[/r/IsA/,/c/en/guy/n/wn/person/,/c/en/man/n/wn/person/]\n"
     ]
    },
    {
     "name": "stdout",
     "output_type": "stream",
     "text": [
      "cn_id=/c/en/gym_shoe/n, new_edge={'cn_id': '/c/en/gym_shoe/n', 'edge_id': '/a/[/r/IsA/,/c/en/gym_shoe/n/wn/artifact/,/c/en/shoe/n/wn/artifact/]', 'edge_start_raw': '/c/en/gym_shoe/n/wn/artifact', 'edge_end_raw': '/c/en/shoe/n/wn/artifact', 'predicate': '/r/IsA', 'edge_start_matched': '/c/en/gym_shoe/n', 'edge_pd_matched': '/c/en/shoe/n'}\n"
     ]
    },
    {
     "name": "stderr",
     "output_type": "stream",
     "text": [
      "skipping visited edge /a/[/r/IsA/,/c/en/gym_shoe/n/wn/artifact/,/c/en/shoe/n/wn/artifact/]\n",
      "e1_matched=None is None or e2_matched=/c/en/gym_shoe/n is None\n",
      "e1_matched=/c/en/gym_shoe/n is None or e2_matched=None is None\n"
     ]
    },
    {
     "name": "stdout",
     "output_type": "stream",
     "text": [
      "cn_id=/c/en/hand/n, new_edge={'cn_id': '/c/en/hand/n', 'edge_id': '/a/[/r/Synonym/,/c/en/paw/n/wn/body/,/c/en/hand/n/wn/body/]', 'edge_start_raw': '/c/en/paw/n/wn/body', 'edge_end_raw': '/c/en/hand/n/wn/body', 'predicate': '/r/Synonym', 'edge_start_matched': '/c/en/paw/n', 'edge_pd_matched': '/c/en/hand/n'}\n"
     ]
    },
    {
     "name": "stderr",
     "output_type": "stream",
     "text": [
      "e1_matched=/c/en/paw/n is None or e2_matched=None is None\n",
      "e1_matched=None is None or e2_matched=/c/en/paw/n is None\n",
      "skipping visited edge /a/[/r/Synonym/,/c/en/paw/n/wn/body/,/c/en/hand/n/wn/body/]\n",
      "e1_matched=/c/en/handle/n is None or e2_matched=None is None\n",
      "e1_matched=None is None or e2_matched=/c/en/handle/n is None\n"
     ]
    },
    {
     "name": "stdout",
     "output_type": "stream",
     "text": [
      "cn_id=/c/en/handle/n, new_edge={'cn_id': '/c/en/handle/n', 'edge_id': '/a/[/r/PartOf/,/c/en/handle/n/wn/artifact/,/c/en/umbrella/n/wn/artifact/]', 'edge_start_raw': '/c/en/handle/n/wn/artifact', 'edge_end_raw': '/c/en/umbrella/n/wn/artifact', 'predicate': '/r/PartOf', 'edge_start_matched': '/c/en/handle/n', 'edge_pd_matched': '/c/en/umbrella/n'}\n"
     ]
    },
    {
     "name": "stderr",
     "output_type": "stream",
     "text": [
      "e1_matched=/c/en/umbrella/n is None or e2_matched=None is None\n",
      "e1_matched=None is None or e2_matched=/c/en/umbrella/n is None\n",
      "skipping visited edge /a/[/r/PartOf/,/c/en/handle/n/wn/artifact/,/c/en/umbrella/n/wn/artifact/]\n"
     ]
    },
    {
     "name": "stdout",
     "output_type": "stream",
     "text": [
      "cn_id=/c/en/handle/n, new_edge={'cn_id': '/c/en/handle/n', 'edge_id': '/a/[/r/PartOf/,/c/en/handle/n/wn/artifact/,/c/en/racket/n/wn/artifact/]', 'edge_start_raw': '/c/en/handle/n/wn/artifact', 'edge_end_raw': '/c/en/racket/n/wn/artifact', 'predicate': '/r/PartOf', 'edge_start_matched': '/c/en/handle/n', 'edge_pd_matched': '/c/en/racket/n'}\n"
     ]
    },
    {
     "name": "stderr",
     "output_type": "stream",
     "text": [
      "skipping visited edge /a/[/r/PartOf/,/c/en/handle/n/wn/artifact/,/c/en/racket/n/wn/artifact/]\n",
      "e1_matched=/c/en/hang/v is None or e2_matched=None is None\n",
      "e1_matched=e2_matched=/c/en/hang/v\n",
      "e1_matched=None is None or e2_matched=/c/en/hang/v is None\n",
      "e1_matched=None is None or e2_matched=/c/en/hat/n is None\n",
      "e1_matched=/c/en/hat/n is None or e2_matched=None is None\n",
      "e1_matched=None is None or e2_matched=/c/en/have/v is None\n",
      "e1_matched=/c/en/have/v is None or e2_matched=None is None\n"
     ]
    },
    {
     "name": "stdout",
     "output_type": "stream",
     "text": [
      "cn_id=/c/en/have/v, new_edge={'cn_id': '/c/en/have/v', 'edge_id': '/a/[/r/Synonym/,/c/en/make/v/wn/possession/,/c/en/have/v/wn/possession/]', 'edge_start_raw': '/c/en/make/v/wn/possession', 'edge_end_raw': '/c/en/have/v/wn/possession', 'predicate': '/r/Synonym', 'edge_start_matched': '/c/en/make/v', 'edge_pd_matched': '/c/en/have/v'}\n"
     ]
    },
    {
     "name": "stderr",
     "output_type": "stream",
     "text": [
      "skipping visited edge /a/[/r/Synonym/,/c/en/make/v/wn/possession/,/c/en/have/v/wn/possession/]\n"
     ]
    },
    {
     "name": "stdout",
     "output_type": "stream",
     "text": [
      "cn_id=/c/en/have/v, new_edge={'cn_id': '/c/en/have/v', 'edge_id': '/a/[/r/MannerOf/,/c/en/wear/v/wn/stative/,/c/en/have/v/wn/stative/]', 'edge_start_raw': '/c/en/wear/v/wn/stative', 'edge_end_raw': '/c/en/have/v/wn/stative', 'predicate': '/r/MannerOf', 'edge_start_matched': '/c/en/wear/v', 'edge_pd_matched': '/c/en/have/v'}\n"
     ]
    },
    {
     "name": "stderr",
     "output_type": "stream",
     "text": [
      "e1_matched=None is None or e2_matched=/c/en/wear/v is None\n",
      "e1_matched=/c/en/wear/v is None or e2_matched=None is None\n",
      "skipping visited edge /a/[/r/MannerOf/,/c/en/wear/v/wn/stative/,/c/en/have/v/wn/stative/]\n"
     ]
    },
    {
     "name": "stdout",
     "output_type": "stream",
     "text": [
      "cn_id=/c/en/have/v, new_edge={'cn_id': '/c/en/have/v', 'edge_id': '/a/[/r/MannerOf/,/c/en/wear/v/wn/body/,/c/en/have/v/wn/stative/]', 'edge_start_raw': '/c/en/wear/v/wn/body', 'edge_end_raw': '/c/en/have/v/wn/stative', 'predicate': '/r/MannerOf', 'edge_start_matched': '/c/en/wear/v', 'edge_pd_matched': '/c/en/have/v'}\n"
     ]
    },
    {
     "name": "stderr",
     "output_type": "stream",
     "text": [
      "skipping visited edge /a/[/r/MannerOf/,/c/en/wear/v/wn/body/,/c/en/have/v/wn/stative/]\n"
     ]
    },
    {
     "name": "stdout",
     "output_type": "stream",
     "text": [
      "cn_id=/c/en/have/v, new_edge={'cn_id': '/c/en/have/v', 'edge_id': '/a/[/r/Synonym/,/c/en/hold/v/wn/possession/,/c/en/have/v/wn/possession/]', 'edge_start_raw': '/c/en/hold/v/wn/possession', 'edge_end_raw': '/c/en/have/v/wn/possession', 'predicate': '/r/Synonym', 'edge_start_matched': '/c/en/hold/v', 'edge_pd_matched': '/c/en/have/v'}\n"
     ]
    },
    {
     "name": "stderr",
     "output_type": "stream",
     "text": [
      "skipping visited edge /a/[/r/Synonym/,/c/en/hold/v/wn/possession/,/c/en/have/v/wn/possession/]\n"
     ]
    },
    {
     "name": "stdout",
     "output_type": "stream",
     "text": [
      "cn_id=/c/en/have/v, new_edge={'cn_id': '/c/en/have/v', 'edge_id': '/a/[/r/Synonym/,/c/en/have/v/wn/creation/,/c/en/hold/v/wn/creation/]', 'edge_start_raw': '/c/en/have/v/wn/creation', 'edge_end_raw': '/c/en/hold/v/wn/creation', 'predicate': '/r/Synonym', 'edge_start_matched': '/c/en/have/v', 'edge_pd_matched': '/c/en/hold/v'}\n"
     ]
    },
    {
     "name": "stderr",
     "output_type": "stream",
     "text": [
      "skipping visited edge /a/[/r/Synonym/,/c/en/have/v/wn/creation/,/c/en/hold/v/wn/creation/]\n"
     ]
    },
    {
     "name": "stdout",
     "output_type": "stream",
     "text": [
      "cn_id=/c/en/head/n, new_edge={'cn_id': '/c/en/head/n', 'edge_id': '/a/[/r/IsA/,/c/en/head/n/wn/artifact/,/c/en/toilet/n/wn/artifact/]', 'edge_start_raw': '/c/en/head/n/wn/artifact', 'edge_end_raw': '/c/en/toilet/n/wn/artifact', 'predicate': '/r/IsA', 'edge_start_matched': '/c/en/head/n', 'edge_pd_matched': '/c/en/toilet/n'}\n"
     ]
    },
    {
     "name": "stderr",
     "output_type": "stream",
     "text": [
      "e1_matched=None is None or e2_matched=/c/en/toilet/n is None\n",
      "e1_matched=/c/en/toilet/n is None or e2_matched=None is None\n",
      "skipping visited edge /a/[/r/IsA/,/c/en/head/n/wn/artifact/,/c/en/toilet/n/wn/artifact/]\n",
      "e1_matched=e2_matched=/c/en/toilet/n\n",
      "e1_matched=/c/en/helmet/n is None or e2_matched=None is None\n",
      "e1_matched=None is None or e2_matched=/c/en/helmet/n is None\n",
      "e1_matched=/c/en/hill/n is None or e2_matched=None is None\n",
      "e1_matched=None is None or e2_matched=/c/en/hill/n is None\n"
     ]
    },
    {
     "name": "stdout",
     "output_type": "stream",
     "text": [
      "cn_id=/c/en/hold/v, new_edge={'cn_id': '/c/en/hold/v', 'edge_id': '/a/[/r/UsedFor/,/c/en/leg/n/wn/artifact/,/c/en/hold/v/wn/contact/]', 'edge_start_raw': '/c/en/leg/n/wn/artifact', 'edge_end_raw': '/c/en/hold/v/wn/contact', 'predicate': '/r/UsedFor', 'edge_start_matched': '/c/en/leg/n', 'edge_pd_matched': '/c/en/hold/v'}\n"
     ]
    },
    {
     "name": "stderr",
     "output_type": "stream",
     "text": [
      "skipping visited edge /a/[/r/UsedFor/,/c/en/leg/n/wn/artifact/,/c/en/hold/v/wn/contact/]\n"
     ]
    },
    {
     "name": "stdout",
     "output_type": "stream",
     "text": [
      "cn_id=/c/en/hold/v, new_edge={'cn_id': '/c/en/hold/v', 'edge_id': '/a/[/r/Synonym/,/c/en/make/v/wn/creation/,/c/en/hold/v/wn/creation/]', 'edge_start_raw': '/c/en/make/v/wn/creation', 'edge_end_raw': '/c/en/hold/v/wn/creation', 'predicate': '/r/Synonym', 'edge_start_matched': '/c/en/make/v', 'edge_pd_matched': '/c/en/hold/v'}\n"
     ]
    },
    {
     "name": "stderr",
     "output_type": "stream",
     "text": [
      "skipping visited edge /a/[/r/Synonym/,/c/en/make/v/wn/creation/,/c/en/hold/v/wn/creation/]\n",
      "e1_matched=/c/en/in/r is None or e2_matched=None is None\n",
      "e1_matched=None is None or e2_matched=/c/en/jean/n is None\n",
      "e1_matched=/c/en/jean/n is None or e2_matched=None is None\n",
      "e1_matched=e2_matched=/c/en/jean/n\n",
      "e1_matched=/c/en/lady/n is None or e2_matched=None is None\n"
     ]
    },
    {
     "name": "stdout",
     "output_type": "stream",
     "text": [
      "cn_id=/c/en/lady/n, new_edge={'cn_id': '/c/en/lady/n', 'edge_id': '/a/[/r/IsA/,/c/en/lady/n/wn/person/,/c/en/woman/n/wn/person/]', 'edge_start_raw': '/c/en/lady/n/wn/person', 'edge_end_raw': '/c/en/woman/n/wn/person', 'predicate': '/r/IsA', 'edge_start_matched': '/c/en/lady/n', 'edge_pd_matched': '/c/en/woman/n'}\n"
     ]
    },
    {
     "name": "stderr",
     "output_type": "stream",
     "text": [
      "skipping visited edge /a/[/r/IsA/,/c/en/lady/n/wn/person/,/c/en/woman/n/wn/person/]\n",
      "e1_matched=None is None or e2_matched=/c/en/lady/n is None\n",
      "e1_matched=None is None or e2_matched=/c/en/lamp/n is None\n",
      "e1_matched=/c/en/lamp/n is None or e2_matched=None is None\n"
     ]
    },
    {
     "name": "stdout",
     "output_type": "stream",
     "text": [
      "cn_id=/c/en/lamp/n, new_edge={'cn_id': '/c/en/lamp/n', 'edge_id': '/a/[/r/UsedFor/,/c/en/lamp/n/wn/artifact/,/c/en/light/n/wn/physics/]', 'edge_start_raw': '/c/en/lamp/n/wn/artifact', 'edge_end_raw': '/c/en/light/n/wn/physics', 'predicate': '/r/UsedFor', 'edge_start_matched': '/c/en/lamp/n', 'edge_pd_matched': '/c/en/light/n'}\n"
     ]
    },
    {
     "name": "stderr",
     "output_type": "stream",
     "text": [
      "e1_matched=/c/en/light/n is None or e2_matched=None is None\n",
      "e1_matched=None is None or e2_matched=/c/en/light/n is None\n",
      "skipping visited edge /a/[/r/UsedFor/,/c/en/lamp/n/wn/artifact/,/c/en/light/n/wn/physics/]\n",
      "e1_matched=e2_matched=/c/en/light/n\n"
     ]
    },
    {
     "name": "stdout",
     "output_type": "stream",
     "text": [
      "cn_id=/c/en/lamp/n, new_edge={'cn_id': '/c/en/lamp/n', 'edge_id': '/a/[/r/RelatedTo/,/c/en/lamp/n/wn/artifact/,/c/en/light/n/wn/physics/]', 'edge_start_raw': '/c/en/lamp/n/wn/artifact', 'edge_end_raw': '/c/en/light/n/wn/physics', 'predicate': '/r/RelatedTo', 'edge_start_matched': '/c/en/lamp/n', 'edge_pd_matched': '/c/en/light/n'}\n"
     ]
    },
    {
     "name": "stderr",
     "output_type": "stream",
     "text": [
      "skipping visited edge /a/[/r/RelatedTo/,/c/en/lamp/n/wn/artifact/,/c/en/light/n/wn/physics/]\n",
      "e1_matched=e2_matched=/c/en/lamp/n\n",
      "e1_matched=/c/en/laptop/n is None or e2_matched=None is None\n",
      "e1_matched=None is None or e2_matched=/c/en/laptop/n is None\n",
      "e1_matched=None is None or e2_matched=/c/en/leaf/n is None\n",
      "e1_matched=/c/en/leaf/n is None or e2_matched=None is None\n",
      "e1_matched=e2_matched=/c/en/leaf/n\n"
     ]
    },
    {
     "name": "stdout",
     "output_type": "stream",
     "text": [
      "cn_id=/c/en/leg/n, new_edge={'cn_id': '/c/en/leg/n', 'edge_id': '/a/[/r/PartOf/,/c/en/leg/n/wn/artifact/,/c/en/table/n/wn/artifact/]', 'edge_start_raw': '/c/en/leg/n/wn/artifact', 'edge_end_raw': '/c/en/table/n/wn/artifact', 'predicate': '/r/PartOf', 'edge_start_matched': '/c/en/leg/n', 'edge_pd_matched': '/c/en/table/n'}\n"
     ]
    },
    {
     "name": "stderr",
     "output_type": "stream",
     "text": [
      "skipping visited edge /a/[/r/PartOf/,/c/en/leg/n/wn/artifact/,/c/en/table/n/wn/artifact/]\n",
      "e1_matched=None is None or e2_matched=/c/en/letter/n is None\n",
      "e1_matched=/c/en/letter/n is None or e2_matched=None is None\n",
      "e1_matched=e2_matched=/c/en/letter/n\n",
      "e1_matched=None is None or e2_matched=/c/en/lie/v is None\n"
     ]
    },
    {
     "name": "stdout",
     "output_type": "stream",
     "text": [
      "cn_id=/c/en/lie/v, new_edge={'cn_id': '/c/en/lie/v', 'edge_id': '/a/[/r/MannerOf/,/c/en/ride/v/wn/stative/,/c/en/lie/v/wn/stative/]', 'edge_start_raw': '/c/en/ride/v/wn/stative', 'edge_end_raw': '/c/en/lie/v/wn/stative', 'predicate': '/r/MannerOf', 'edge_start_matched': '/c/en/ride/v', 'edge_pd_matched': '/c/en/lie/v'}\n"
     ]
    },
    {
     "name": "stderr",
     "output_type": "stream",
     "text": [
      "skipping visited edge /a/[/r/MannerOf/,/c/en/ride/v/wn/stative/,/c/en/lie/v/wn/stative/]\n",
      "e1_matched=/c/en/lie/v is None or e2_matched=None is None\n"
     ]
    },
    {
     "name": "stdout",
     "output_type": "stream",
     "text": [
      "cn_id=/c/en/lie/v, new_edge={'cn_id': '/c/en/lie/v', 'edge_id': '/a/[/r/RelatedTo/,/c/en/lie/v/wikt/en_1/,/c/en/with/]', 'edge_start_raw': '/c/en/lie/v/wikt/en_1', 'edge_end_raw': '/c/en/with', 'predicate': '/r/RelatedTo', 'edge_start_matched': '/c/en/lie/v', 'edge_pd_matched': '/c/en/with'}\n"
     ]
    },
    {
     "name": "stderr",
     "output_type": "stream",
     "text": [
      "skipping visited edge /a/[/r/RelatedTo/,/c/en/lie/v/wikt/en_1/,/c/en/with/]\n",
      "e1_matched=None is None or e2_matched=/c/en/logo/n is None\n",
      "e1_matched=/c/en/logo/n is None or e2_matched=None is None\n",
      "e1_matched=e2_matched=/c/en/logo/n\n",
      "e1_matched=None is None or e2_matched=/c/en/look/v is None\n",
      "e1_matched=/c/en/look/v is None or e2_matched=None is None\n"
     ]
    },
    {
     "name": "stdout",
     "output_type": "stream",
     "text": [
      "cn_id=/c/en/look/v, new_edge={'cn_id': '/c/en/look/v', 'edge_id': '/a/[/r/Entails/,/c/en/watch/v/wn/perception/,/c/en/look/v/wn/perception/]', 'edge_start_raw': '/c/en/watch/v/wn/perception', 'edge_end_raw': '/c/en/look/v/wn/perception', 'predicate': '/r/Entails', 'edge_start_matched': '/c/en/watch/v', 'edge_pd_matched': '/c/en/look/v'}\n"
     ]
    },
    {
     "name": "stderr",
     "output_type": "stream",
     "text": [
      "e1_matched=None is None or e2_matched=/c/en/watch/v is None\n",
      "e1_matched=/c/en/watch/v is None or e2_matched=None is None\n",
      "skipping visited edge /a/[/r/Entails/,/c/en/watch/v/wn/perception/,/c/en/look/v/wn/perception/]\n",
      "e1_matched=e2_matched=/c/en/watch/v\n"
     ]
    },
    {
     "name": "stdout",
     "output_type": "stream",
     "text": [
      "cn_id=/c/en/look/v, new_edge={'cn_id': '/c/en/look/v', 'edge_id': '/a/[/r/MannerOf/,/c/en/make/v/wn/perception/,/c/en/look/v/wn/perception/]', 'edge_start_raw': '/c/en/make/v/wn/perception', 'edge_end_raw': '/c/en/look/v/wn/perception', 'predicate': '/r/MannerOf', 'edge_start_matched': '/c/en/make/v', 'edge_pd_matched': '/c/en/look/v'}\n"
     ]
    },
    {
     "name": "stderr",
     "output_type": "stream",
     "text": [
      "skipping visited edge /a/[/r/MannerOf/,/c/en/make/v/wn/perception/,/c/en/look/v/wn/perception/]\n",
      "e1_matched=None is None or e2_matched=/c/en/male_child/n is None\n",
      "e1_matched=/c/en/male_child/n is None or e2_matched=None is None\n"
     ]
    },
    {
     "name": "stdout",
     "output_type": "stream",
     "text": [
      "cn_id=/c/en/man/n, new_edge={'cn_id': '/c/en/man/n', 'edge_id': '/a/[/r/IsA/,/c/en/tile/n/wn/artifact/,/c/en/man/n/wn/artifact/]', 'edge_start_raw': '/c/en/tile/n/wn/artifact', 'edge_end_raw': '/c/en/man/n/wn/artifact', 'predicate': '/r/IsA', 'edge_start_matched': '/c/en/tile/n', 'edge_pd_matched': '/c/en/man/n'}\n"
     ]
    },
    {
     "name": "stderr",
     "output_type": "stream",
     "text": [
      "skipping visited edge /a/[/r/IsA/,/c/en/tile/n/wn/artifact/,/c/en/man/n/wn/artifact/]\n",
      "e1_matched=/c/en/tile/n is None or e2_matched=None is None\n",
      "e1_matched=None is None or e2_matched=/c/en/tile/n is None\n"
     ]
    },
    {
     "name": "stdout",
     "output_type": "stream",
     "text": [
      "cn_id=/c/en/man/n, new_edge={'cn_id': '/c/en/man/n', 'edge_id': '/a/[/r/IsA/,/c/en/man/n/wn/person/,/c/en/person/n/wn/]', 'edge_start_raw': '/c/en/man/n/wn/person', 'edge_end_raw': '/c/en/person/n/wn', 'predicate': '/r/IsA', 'edge_start_matched': '/c/en/man/n', 'edge_pd_matched': '/c/en/person/n'}\n"
     ]
    },
    {
     "name": "stderr",
     "output_type": "stream",
     "text": [
      "skipping visited edge /a/[/r/IsA/,/c/en/man/n/wn/person/,/c/en/person/n/wn/]\n"
     ]
    },
    {
     "name": "stdout",
     "output_type": "stream",
     "text": [
      "cn_id=/c/en/motorcycle/n, new_edge={'cn_id': '/c/en/motorcycle/n', 'edge_id': '/a/[/r/UsedFor/,/c/en/motorcycle/n/wn/artifact/,/c/en/ride/v/wn/motion/]', 'edge_start_raw': '/c/en/motorcycle/n/wn/artifact', 'edge_end_raw': '/c/en/ride/v/wn/motion', 'predicate': '/r/UsedFor', 'edge_start_matched': '/c/en/motorcycle/n', 'edge_pd_matched': '/c/en/ride/v'}\n"
     ]
    },
    {
     "name": "stderr",
     "output_type": "stream",
     "text": [
      "skipping visited edge /a/[/r/UsedFor/,/c/en/motorcycle/n/wn/artifact/,/c/en/ride/v/wn/motion/]\n",
      "e1_matched=None is None or e2_matched=/c/en/motorcycle/n is None\n",
      "e1_matched=/c/en/motorcycle/n is None or e2_matched=None is None\n"
     ]
    },
    {
     "name": "stdout",
     "output_type": "stream",
     "text": [
      "cn_id=/c/en/mount/v, new_edge={'cn_id': '/c/en/mount/v', 'edge_id': '/a/[/r/Synonym/,/c/en/mount/v/wn/mammal/,/c/en/ride/v/wn/mammal/]', 'edge_start_raw': '/c/en/mount/v/wn/mammal', 'edge_end_raw': '/c/en/ride/v/wn/mammal', 'predicate': '/r/Synonym', 'edge_start_matched': '/c/en/mount/v', 'edge_pd_matched': '/c/en/ride/v'}\n"
     ]
    },
    {
     "name": "stderr",
     "output_type": "stream",
     "text": [
      "skipping visited edge /a/[/r/Synonym/,/c/en/mount/v/wn/mammal/,/c/en/ride/v/wn/mammal/]\n",
      "e1_matched=None is None or e2_matched=/c/en/mountain/n is None\n",
      "e1_matched=/c/en/mountain/n is None or e2_matched=None is None\n",
      "e1_matched=e2_matched=/c/en/mountain/n\n",
      "e1_matched=/c/en/near/r is None or e2_matched=None is None\n",
      "e1_matched=None is None or e2_matched=/c/en/near/r is None\n",
      "e1_matched=None is None or e2_matched=/c/en/neck/n is None\n",
      "e1_matched=/c/en/neck/n is None or e2_matched=None is None\n",
      "e1_matched=e2_matched=/c/en/neck/n\n",
      "e1_matched=None is None or e2_matched=/c/en/necktie/n is None\n",
      "e1_matched=/c/en/necktie/n is None or e2_matched=None is None\n"
     ]
    },
    {
     "name": "stdout",
     "output_type": "stream",
     "text": [
      "cn_id=/c/en/nose/n, new_edge={'cn_id': '/c/en/nose/n', 'edge_id': '/a/[/r/IsA/,/c/en/trunk/n/opencyc/trunk_appendage/,/c/en/nose/n/]', 'edge_start_raw': '/c/en/trunk/n/opencyc/trunk_appendage', 'edge_end_raw': '/c/en/nose/n', 'predicate': '/r/IsA', 'edge_start_matched': '/c/en/trunk/n', 'edge_pd_matched': '/c/en/nose/n'}\n"
     ]
    },
    {
     "name": "stderr",
     "output_type": "stream",
     "text": [
      "skipping visited edge /a/[/r/IsA/,/c/en/trunk/n/opencyc/trunk_appendage/,/c/en/nose/n/]\n",
      "e1_matched=None is None or e2_matched=/c/en/numeral/n is None\n",
      "e1_matched=/c/en/numeral/n is None or e2_matched=None is None\n",
      "e1_matched=e2_matched=/c/en/numeral/n\n",
      "e1_matched=/c/en/on_back_of is None or e2_matched=None is None\n",
      "e1_matched=None is None or e2_matched=/c/en/orange/n is None\n",
      "e1_matched=/c/en/orange/n is None or e2_matched=None is None\n",
      "e1_matched=e2_matched=/c/en/orange/n\n",
      "e1_matched=/c/en/over/r is None or e2_matched=None is None\n",
      "e1_matched=/c/en/paper/n is None or e2_matched=None is None\n",
      "e1_matched=None is None or e2_matched=/c/en/paper/n is None\n",
      "e1_matched=None is None or e2_matched=/c/en/park/v is None\n",
      "e1_matched=/c/en/park/v is None or e2_matched=None is None\n",
      "e1_matched=None is None or e2_matched=/c/en/path/n is None\n",
      "e1_matched=/c/en/path/n is None or e2_matched=None is None\n",
      "e1_matched=e2_matched=/c/en/path/n\n"
     ]
    },
    {
     "name": "stdout",
     "output_type": "stream",
     "text": [
      "cn_id=/c/en/person/n, new_edge={'cn_id': '/c/en/person/n', 'edge_id': '/a/[/r/IsA/,/c/en/player/n/wn/person/,/c/en/person/n/wn/]', 'edge_start_raw': '/c/en/player/n/wn/person', 'edge_end_raw': '/c/en/person/n/wn', 'predicate': '/r/IsA', 'edge_start_matched': '/c/en/player/n', 'edge_pd_matched': '/c/en/person/n'}\n"
     ]
    },
    {
     "name": "stderr",
     "output_type": "stream",
     "text": [
      "skipping visited edge /a/[/r/IsA/,/c/en/player/n/wn/person/,/c/en/person/n/wn/]\n",
      "e1_matched=/c/en/pillow/n is None or e2_matched=None is None\n",
      "e1_matched=None is None or e2_matched=/c/en/pillow/n is None\n",
      "e1_matched=None is None or e2_matched=/c/en/pizza/n is None\n",
      "e1_matched=/c/en/pizza/n is None or e2_matched=None is None\n",
      "e1_matched=/c/en/plate/n is None or e2_matched=None is None\n",
      "e1_matched=None is None or e2_matched=/c/en/plate/n is None\n"
     ]
    },
    {
     "name": "stdout",
     "output_type": "stream",
     "text": [
      "cn_id=/c/en/play/v, new_edge={'cn_id': '/c/en/play/v', 'edge_id': '/a/[/r/MannerOf/,/c/en/play/v/wn/competition/,/c/en/use/v/wn/consumption/]', 'edge_start_raw': '/c/en/play/v/wn/competition', 'edge_end_raw': '/c/en/use/v/wn/consumption', 'predicate': '/r/MannerOf', 'edge_start_matched': '/c/en/play/v', 'edge_pd_matched': '/c/en/use/v'}\n"
     ]
    },
    {
     "name": "stderr",
     "output_type": "stream",
     "text": [
      "e1_matched=/c/en/use/v is None or e2_matched=None is None\n",
      "e1_matched=None is None or e2_matched=/c/en/use/v is None\n",
      "skipping visited edge /a/[/r/MannerOf/,/c/en/play/v/wn/competition/,/c/en/use/v/wn/consumption/]\n"
     ]
    },
    {
     "name": "stdout",
     "output_type": "stream",
     "text": [
      "cn_id=/c/en/play/v, new_edge={'cn_id': '/c/en/play/v', 'edge_id': '/a/[/r/MannerOf/,/c/en/walk/v/wn/baseball/,/c/en/play/v/wn/competition/]', 'edge_start_raw': '/c/en/walk/v/wn/baseball', 'edge_end_raw': '/c/en/play/v/wn/competition', 'predicate': '/r/MannerOf', 'edge_start_matched': '/c/en/walk/v', 'edge_pd_matched': '/c/en/play/v'}\n"
     ]
    },
    {
     "name": "stderr",
     "output_type": "stream",
     "text": [
      "e1_matched=/c/en/walk/v is None or e2_matched=None is None\n",
      "e1_matched=None is None or e2_matched=/c/en/walk/v is None\n",
      "skipping visited edge /a/[/r/MannerOf/,/c/en/walk/v/wn/baseball/,/c/en/play/v/wn/competition/]\n",
      "e1_matched=/c/en/pole/n is None or e2_matched=None is None\n",
      "e1_matched=None is None or e2_matched=/c/en/pole/n is None\n",
      "e1_matched=None is None or e2_matched=/c/en/post/n is None\n",
      "e1_matched=/c/en/post/n is None or e2_matched=None is None\n",
      "e1_matched=None is None or e2_matched=/c/en/pot/n is None\n",
      "e1_matched=/c/en/pot/n is None or e2_matched=None is None\n"
     ]
    },
    {
     "name": "stdout",
     "output_type": "stream",
     "text": [
      "cn_id=/c/en/pot/n, new_edge={'cn_id': '/c/en/pot/n', 'edge_id': '/a/[/r/Synonym/,/c/en/pot/n/wn/artifact/,/c/en/toilet/n/wn/artifact/]', 'edge_start_raw': '/c/en/pot/n/wn/artifact', 'edge_end_raw': '/c/en/toilet/n/wn/artifact', 'predicate': '/r/Synonym', 'edge_start_matched': '/c/en/pot/n', 'edge_pd_matched': '/c/en/toilet/n'}\n"
     ]
    },
    {
     "name": "stderr",
     "output_type": "stream",
     "text": [
      "skipping visited edge /a/[/r/Synonym/,/c/en/pot/n/wn/artifact/,/c/en/toilet/n/wn/artifact/]\n",
      "e1_matched=/c/en/railing/n is None or e2_matched=None is None\n",
      "e1_matched=None is None or e2_matched=/c/en/railing/n is None\n"
     ]
    },
    {
     "name": "stdout",
     "output_type": "stream",
     "text": [
      "cn_id=/c/en/ride/v, new_edge={'cn_id': '/c/en/ride/v', 'edge_id': '/a/[/r/Synonym/,/c/en/sit/v/wn/riding/,/c/en/ride/v/wn/riding/]', 'edge_start_raw': '/c/en/sit/v/wn/riding', 'edge_end_raw': '/c/en/ride/v/wn/riding', 'predicate': '/r/Synonym', 'edge_start_matched': '/c/en/sit/v', 'edge_pd_matched': '/c/en/ride/v'}\n"
     ]
    },
    {
     "name": "stderr",
     "output_type": "stream",
     "text": [
      "skipping visited edge /a/[/r/Synonym/,/c/en/sit/v/wn/riding/,/c/en/ride/v/wn/riding/]\n",
      "e1_matched=/c/en/sit/v is None or e2_matched=None is None\n",
      "e1_matched=None is None or e2_matched=/c/en/sit/v is None\n",
      "e1_matched=None is None or e2_matched=/c/en/rock/n is None\n",
      "e1_matched=/c/en/rock/n is None or e2_matched=None is None\n",
      "e1_matched=e2_matched=/c/en/rock/n\n"
     ]
    },
    {
     "name": "stdout",
     "output_type": "stream",
     "text": [
      "cn_id=/c/en/roof/n, new_edge={'cn_id': '/c/en/roof/n', 'edge_id': '/a/[/r/PartOf/,/c/en/roof/n/wn/artifact/,/c/en/truck/n/wn/artifact/]', 'edge_start_raw': '/c/en/roof/n/wn/artifact', 'edge_end_raw': '/c/en/truck/n/wn/artifact', 'predicate': '/r/PartOf', 'edge_start_matched': '/c/en/roof/n', 'edge_pd_matched': '/c/en/truck/n'}\n"
     ]
    },
    {
     "name": "stderr",
     "output_type": "stream",
     "text": [
      "e1_matched=None is None or e2_matched=/c/en/truck/n is None\n",
      "e1_matched=/c/en/truck/n is None or e2_matched=None is None\n",
      "skipping visited edge /a/[/r/PartOf/,/c/en/roof/n/wn/artifact/,/c/en/truck/n/wn/artifact/]\n"
     ]
    },
    {
     "name": "stdout",
     "output_type": "stream",
     "text": [
      "cn_id=/c/en/room/n, new_edge={'cn_id': '/c/en/room/n', 'edge_id': '/a/[/r/IsA/,/c/en/toilet/n/wn/artifact/,/c/en/room/n/wn/artifact/]', 'edge_start_raw': '/c/en/toilet/n/wn/artifact', 'edge_end_raw': '/c/en/room/n/wn/artifact', 'predicate': '/r/IsA', 'edge_start_matched': '/c/en/toilet/n', 'edge_pd_matched': '/c/en/room/n'}\n"
     ]
    },
    {
     "name": "stderr",
     "output_type": "stream",
     "text": [
      "skipping visited edge /a/[/r/IsA/,/c/en/toilet/n/wn/artifact/,/c/en/room/n/wn/artifact/]\n"
     ]
    },
    {
     "name": "stdout",
     "output_type": "stream",
     "text": [
      "cn_id=/c/en/room/n, new_edge={'cn_id': '/c/en/room/n', 'edge_id': '/a/[/r/RelatedTo/,/c/en/room/n/wikt/en_3/,/c/en/to/]', 'edge_start_raw': '/c/en/room/n/wikt/en_3', 'edge_end_raw': '/c/en/to', 'predicate': '/r/RelatedTo', 'edge_start_matched': '/c/en/room/n', 'edge_pd_matched': '/c/en/to'}\n"
     ]
    },
    {
     "name": "stderr",
     "output_type": "stream",
     "text": [
      "skipping visited edge /a/[/r/RelatedTo/,/c/en/room/n/wikt/en_3/,/c/en/to/]\n",
      "e1_matched=/c/en/say/v is None or e2_matched=None is None\n",
      "e1_matched=None is None or e2_matched=/c/en/say/v is None\n",
      "e1_matched=None is None or e2_matched=/c/en/screen/n is None\n",
      "e1_matched=/c/en/screen/n is None or e2_matched=None is None\n"
     ]
    },
    {
     "name": "stdout",
     "output_type": "stream",
     "text": [
      "cn_id=/c/en/screen/n, new_edge={'cn_id': '/c/en/screen/n', 'edge_id': '/a/[/r/IsA/,/c/en/windshield/n/wn/artifact/,/c/en/screen/n/wn/artifact/]', 'edge_start_raw': '/c/en/windshield/n/wn/artifact', 'edge_end_raw': '/c/en/screen/n/wn/artifact', 'predicate': '/r/IsA', 'edge_start_matched': '/c/en/windshield/n', 'edge_pd_matched': '/c/en/screen/n'}\n"
     ]
    },
    {
     "name": "stderr",
     "output_type": "stream",
     "text": [
      "skipping visited edge /a/[/r/IsA/,/c/en/windshield/n/wn/artifact/,/c/en/screen/n/wn/artifact/]\n",
      "e1_matched=e2_matched=/c/en/screen/n\n",
      "e1_matched=/c/en/sheep/n is None or e2_matched=None is None\n",
      "e1_matched=None is None or e2_matched=/c/en/sheep/n is None\n",
      "e1_matched=None is None or e2_matched=/c/en/shirt/n is None\n",
      "e1_matched=/c/en/shirt/n is None or e2_matched=None is None\n",
      "e1_matched=None is None or e2_matched=/c/en/short_pants/n is None\n",
      "e1_matched=/c/en/short_pants/n is None or e2_matched=None is None\n",
      "e1_matched=None is None or e2_matched=/c/en/sidewalk/n is None\n",
      "e1_matched=/c/en/sidewalk/n is None or e2_matched=None is None\n",
      "e1_matched=None is None or e2_matched=/c/en/sign/n is None\n",
      "e1_matched=/c/en/sign/n is None or e2_matched=None is None\n",
      "e1_matched=/c/en/sink/n is None or e2_matched=None is None\n",
      "e1_matched=None is None or e2_matched=/c/en/sink/n is None\n",
      "e1_matched=/c/en/ski/n is None or e2_matched=None is None\n",
      "e1_matched=None is None or e2_matched=/c/en/ski/n is None\n",
      "e1_matched=None is None or e2_matched=/c/en/skier/n is None\n",
      "e1_matched=/c/en/skier/n is None or e2_matched=None is None\n",
      "e1_matched=/c/en/snow/n is None or e2_matched=None is None\n",
      "e1_matched=None is None or e2_matched=/c/en/snow/n is None\n",
      "e1_matched=e2_matched=/c/en/snow/n\n",
      "e1_matched=None is None or e2_matched=/c/en/sock/n is None\n",
      "e1_matched=/c/en/sock/n is None or e2_matched=None is None\n",
      "e1_matched=None is None or e2_matched=/c/en/stand/n is None\n",
      "e1_matched=/c/en/stand/n is None or e2_matched=None is None\n"
     ]
    },
    {
     "name": "stdout",
     "output_type": "stream",
     "text": [
      "cn_id=/c/en/stand/n, new_edge={'cn_id': '/c/en/stand/n', 'edge_id': '/a/[/r/IsA/,/c/en/stand/n/wn/artifact/,/c/en/table/n/wn/artifact/]', 'edge_start_raw': '/c/en/stand/n/wn/artifact', 'edge_end_raw': '/c/en/table/n/wn/artifact', 'predicate': '/r/IsA', 'edge_start_matched': '/c/en/stand/n', 'edge_pd_matched': '/c/en/table/n'}\n"
     ]
    },
    {
     "name": "stderr",
     "output_type": "stream",
     "text": [
      "skipping visited edge /a/[/r/IsA/,/c/en/stand/n/wn/artifact/,/c/en/table/n/wn/artifact/]\n",
      "e1_matched=/c/en/stand/v is None or e2_matched=None is None\n",
      "e1_matched=None is None or e2_matched=/c/en/stand/v is None\n",
      "e1_matched=e2_matched=/c/en/stand/v\n",
      "e1_matched=None is None or e2_matched=/c/en/street/n is None\n",
      "e1_matched=/c/en/street/n is None or e2_matched=None is None\n",
      "e1_matched=None is None or e2_matched=/c/en/telephone/n is None\n",
      "e1_matched=/c/en/telephone/n is None or e2_matched=None is None\n",
      "e1_matched=None is None or e2_matched=/c/en/tire/n is None\n",
      "e1_matched=/c/en/tire/n is None or e2_matched=None is None\n",
      "e1_matched=None is None or e2_matched=/c/en/towel/n is None\n",
      "e1_matched=/c/en/towel/n is None or e2_matched=None is None\n",
      "e1_matched=/c/en/tower/n is None or e2_matched=None is None\n",
      "e1_matched=None is None or e2_matched=/c/en/tower/n is None\n",
      "e1_matched=/c/en/train/n is None or e2_matched=None is None\n",
      "e1_matched=None is None or e2_matched=/c/en/train/n is None\n",
      "e1_matched=None is None or e2_matched=/c/en/tree/n is None\n",
      "e1_matched=/c/en/tree/n is None or e2_matched=None is None\n"
     ]
    },
    {
     "name": "stdout",
     "output_type": "stream",
     "text": [
      "cn_id=/c/en/tree/n, new_edge={'cn_id': '/c/en/tree/n', 'edge_id': '/a/[/r/PartOf/,/c/en/trunk/n/wn/plant/,/c/en/tree/n/wn/plant/]', 'edge_start_raw': '/c/en/trunk/n/wn/plant', 'edge_end_raw': '/c/en/tree/n/wn/plant', 'predicate': '/r/PartOf', 'edge_start_matched': '/c/en/trunk/n', 'edge_pd_matched': '/c/en/tree/n'}\n"
     ]
    },
    {
     "name": "stderr",
     "output_type": "stream",
     "text": [
      "skipping visited edge /a/[/r/PartOf/,/c/en/trunk/n/wn/plant/,/c/en/tree/n/wn/plant/]\n",
      "e1_matched=e2_matched=/c/en/tree/n\n",
      "e1_matched=/c/en/trouser/n is None or e2_matched=None is None\n",
      "e1_matched=None is None or e2_matched=/c/en/trouser/n is None\n",
      "e1_matched=None is None or e2_matched=/c/en/under is None\n",
      "e1_matched=/c/en/under is None or e2_matched=None is None\n",
      "e1_matched=None is None or e2_matched=/c/en/vase/n is None\n",
      "e1_matched=/c/en/vase/n is None or e2_matched=None is None\n",
      "e1_matched=None is None or e2_matched=/c/en/vegetable/n is None\n",
      "e1_matched=/c/en/vegetable/n is None or e2_matched=None is None\n",
      "e1_matched=None is None or e2_matched=/c/en/vehicle/n is None\n",
      "e1_matched=/c/en/vehicle/n is None or e2_matched=None is None\n",
      "e1_matched=None is None or e2_matched=/c/en/wave/n is None\n",
      "e1_matched=/c/en/wave/n is None or e2_matched=None is None\n"
     ]
    },
    {
     "name": "stdout",
     "output_type": "stream",
     "text": [
      "cn_id=/c/en/wave/n, new_edge={'cn_id': '/c/en/wave/n', 'edge_id': '/a/[/r/IsA/,/c/en/wave/n/wn/person/,/c/en/woman/n/wn/person/]', 'edge_start_raw': '/c/en/wave/n/wn/person', 'edge_end_raw': '/c/en/woman/n/wn/person', 'predicate': '/r/IsA', 'edge_start_matched': '/c/en/wave/n', 'edge_pd_matched': '/c/en/woman/n'}\n"
     ]
    },
    {
     "name": "stderr",
     "output_type": "stream",
     "text": [
      "skipping visited edge /a/[/r/IsA/,/c/en/wave/n/wn/person/,/c/en/woman/n/wn/person/]\n",
      "e1_matched=None is None or e2_matched=/c/en/wire/n is None\n",
      "e1_matched=/c/en/wire/n is None or e2_matched=None is None\n",
      "e1_matched=e2_matched=/c/en/wire/n\n",
      "e1_matched=None is None or e2_matched=/c/en/zebra/n is None\n",
      "e1_matched=/c/en/zebra/n is None or e2_matched=None is None\n",
      "e1_matched=e2_matched=/c/en/zebra/n\n"
     ]
    }
   ],
   "source": [
    "test.run_dfs_relevant_plus(hops=1, plus=0)"
   ]
  },
  {
   "cell_type": "code",
   "execution_count": 456,
   "metadata": {},
   "outputs": [
    {
     "name": "stdout",
     "output_type": "stream",
     "text": [
      "102\n"
     ]
    }
   ],
   "source": [
    "print(len(test.duplicated_ids))"
   ]
  },
  {
   "cell_type": "code",
   "execution_count": null,
   "metadata": {},
   "outputs": [],
   "source": []
  },
  {
   "cell_type": "code",
   "execution_count": 476,
   "metadata": {},
   "outputs": [],
   "source": [
    "new_edges = test.edges"
   ]
  },
  {
   "cell_type": "code",
   "execution_count": 376,
   "metadata": {},
   "outputs": [
    {
     "data": {
      "text/plain": [
       "0"
      ]
     },
     "execution_count": 376,
     "metadata": {},
     "output_type": "execute_result"
    }
   ],
   "source": [
    "len(test.edges)"
   ]
  },
  {
   "cell_type": "code",
   "execution_count": 479,
   "metadata": {},
   "outputs": [],
   "source": [
    "import pandas as pd\n",
    "df_dupes = pd.DataFrame(new_edges)"
   ]
  },
  {
   "cell_type": "code",
   "execution_count": 459,
   "metadata": {},
   "outputs": [],
   "source": [
    "pd.set_option('display.max_colwidth', 400)\n",
    "pd.set_option('display.max_columns', 200)\n",
    "pd.set_option('display.max_rows', 300)\n",
    "pd.set_option('display.min_rows', 100)\n",
    "pd.set_option('display.expand_frame_repr', True)"
   ]
  },
  {
   "cell_type": "code",
   "execution_count": 361,
   "metadata": {
    "scrolled": true
   },
   "outputs": [
    {
     "data": {
      "text/html": [
       "<div>\n",
       "<style scoped>\n",
       "    .dataframe tbody tr th:only-of-type {\n",
       "        vertical-align: middle;\n",
       "    }\n",
       "\n",
       "    .dataframe tbody tr th {\n",
       "        vertical-align: top;\n",
       "    }\n",
       "\n",
       "    .dataframe thead th {\n",
       "        text-align: right;\n",
       "    }\n",
       "</style>\n",
       "<table border=\"1\" class=\"dataframe\">\n",
       "  <thead>\n",
       "    <tr style=\"text-align: right;\">\n",
       "      <th></th>\n",
       "      <th>cn_id</th>\n",
       "      <th>edge_id</th>\n",
       "      <th>edge_start_raw</th>\n",
       "      <th>edge_end_raw</th>\n",
       "      <th>predicate</th>\n",
       "      <th>edge_start_matched</th>\n",
       "      <th>edge_pd_matched</th>\n",
       "    </tr>\n",
       "  </thead>\n",
       "  <tbody>\n",
       "    <tr>\n",
       "      <th>7</th>\n",
       "      <td>/c/en/animal/n</td>\n",
       "      <td>/a/[/r/IsA/,/c/en/bear/n/opencyc/bear_animal/,/c/en/animal/n/]</td>\n",
       "      <td>/c/en/bear/n/opencyc/bear_animal</td>\n",
       "      <td>/c/en/animal/n</td>\n",
       "      <td>/r/IsA</td>\n",
       "      <td>/c/en/bear/n</td>\n",
       "      <td>/c/en/animal/n</td>\n",
       "    </tr>\n",
       "  </tbody>\n",
       "</table>\n",
       "</div>"
      ],
      "text/plain": [
       "            cn_id  \\\n",
       "7  /c/en/animal/n   \n",
       "\n",
       "                                                          edge_id  \\\n",
       "7  /a/[/r/IsA/,/c/en/bear/n/opencyc/bear_animal/,/c/en/animal/n/]   \n",
       "\n",
       "                     edge_start_raw    edge_end_raw predicate  \\\n",
       "7  /c/en/bear/n/opencyc/bear_animal  /c/en/animal/n    /r/IsA   \n",
       "\n",
       "  edge_start_matched edge_pd_matched  \n",
       "7       /c/en/bear/n  /c/en/animal/n  "
      ]
     },
     "execution_count": 361,
     "metadata": {},
     "output_type": "execute_result"
    }
   ],
   "source": [
    "df_dupes[df_dupes['edge_id'] == '/a/[/r/IsA/,/c/en/bear/n/opencyc/bear_animal/,/c/en/animal/n/]']\n"
   ]
  },
  {
   "cell_type": "code",
   "execution_count": 480,
   "metadata": {},
   "outputs": [
    {
     "data": {
      "text/plain": [
       "154"
      ]
     },
     "execution_count": 480,
     "metadata": {},
     "output_type": "execute_result"
    }
   ],
   "source": [
    "len(df_dupes)"
   ]
  },
  {
   "cell_type": "code",
   "execution_count": 481,
   "metadata": {},
   "outputs": [],
   "source": [
    "df_unique = df_dupes[~df_dupes.duplicated()]"
   ]
  },
  {
   "cell_type": "code",
   "execution_count": 482,
   "metadata": {},
   "outputs": [
    {
     "data": {
      "text/plain": [
       "154"
      ]
     },
     "execution_count": 482,
     "metadata": {},
     "output_type": "execute_result"
    }
   ],
   "source": [
    "len(df_unique)"
   ]
  },
  {
   "cell_type": "code",
   "execution_count": 446,
   "metadata": {
    "scrolled": true
   },
   "outputs": [
    {
     "data": {
      "text/html": [
       "<div>\n",
       "<style scoped>\n",
       "    .dataframe tbody tr th:only-of-type {\n",
       "        vertical-align: middle;\n",
       "    }\n",
       "\n",
       "    .dataframe tbody tr th {\n",
       "        vertical-align: top;\n",
       "    }\n",
       "\n",
       "    .dataframe thead th {\n",
       "        text-align: right;\n",
       "    }\n",
       "</style>\n",
       "<table border=\"1\" class=\"dataframe\">\n",
       "  <thead>\n",
       "    <tr style=\"text-align: right;\">\n",
       "      <th></th>\n",
       "      <th>cn_id</th>\n",
       "      <th>edge_id</th>\n",
       "      <th>edge_start_raw</th>\n",
       "      <th>edge_end_raw</th>\n",
       "      <th>predicate</th>\n",
       "      <th>edge_start_matched</th>\n",
       "      <th>edge_pd_matched</th>\n",
       "    </tr>\n",
       "  </thead>\n",
       "  <tbody>\n",
       "    <tr>\n",
       "      <th>33</th>\n",
       "      <td>/c/en/bowl/n</td>\n",
       "      <td>/a/[/r/RelatedTo/,/c/en/bowl/n/wn/artifact/,/c/en/food/n/wn/]</td>\n",
       "      <td>/c/en/bowl/n/wn/artifact</td>\n",
       "      <td>/c/en/food/n/wn</td>\n",
       "      <td>/r/RelatedTo</td>\n",
       "      <td>/c/en/bowl/n</td>\n",
       "      <td>/c/en/food/n</td>\n",
       "    </tr>\n",
       "  </tbody>\n",
       "</table>\n",
       "</div>"
      ],
      "text/plain": [
       "           cn_id  \\\n",
       "33  /c/en/bowl/n   \n",
       "\n",
       "                                                          edge_id  \\\n",
       "33  /a/[/r/RelatedTo/,/c/en/bowl/n/wn/artifact/,/c/en/food/n/wn/]   \n",
       "\n",
       "              edge_start_raw     edge_end_raw     predicate  \\\n",
       "33  /c/en/bowl/n/wn/artifact  /c/en/food/n/wn  /r/RelatedTo   \n",
       "\n",
       "   edge_start_matched edge_pd_matched  \n",
       "33       /c/en/bowl/n    /c/en/food/n  "
      ]
     },
     "execution_count": 446,
     "metadata": {},
     "output_type": "execute_result"
    }
   ],
   "source": [
    "df_unique[df_unique['cn_id'] == '/c/en/bowl/n']"
   ]
  },
  {
   "cell_type": "code",
   "execution_count": 483,
   "metadata": {},
   "outputs": [],
   "source": [
    "df_unique.to_csv('edges_154_h1_p0.csv', index=False)"
   ]
  },
  {
   "cell_type": "code",
   "execution_count": 331,
   "metadata": {},
   "outputs": [
    {
     "data": {
      "text/plain": [
       "52"
      ]
     },
     "execution_count": 331,
     "metadata": {},
     "output_type": "execute_result"
    }
   ],
   "source": [
    "len(df_unique['cn_id'].value_counts())"
   ]
  },
  {
   "cell_type": "code",
   "execution_count": 326,
   "metadata": {},
   "outputs": [
    {
     "data": {
      "text/html": [
       "<div>\n",
       "<style scoped>\n",
       "    .dataframe tbody tr th:only-of-type {\n",
       "        vertical-align: middle;\n",
       "    }\n",
       "\n",
       "    .dataframe tbody tr th {\n",
       "        vertical-align: top;\n",
       "    }\n",
       "\n",
       "    .dataframe thead tr th {\n",
       "        text-align: left;\n",
       "    }\n",
       "\n",
       "    .dataframe thead tr:last-of-type th {\n",
       "        text-align: right;\n",
       "    }\n",
       "</style>\n",
       "<table border=\"1\" class=\"dataframe\">\n",
       "  <thead>\n",
       "    <tr>\n",
       "      <th></th>\n",
       "      <th colspan=\"4\" halign=\"left\">edge_id</th>\n",
       "      <th colspan=\"4\" halign=\"left\">edge_start_raw</th>\n",
       "      <th colspan=\"4\" halign=\"left\">edge_end_raw</th>\n",
       "      <th colspan=\"4\" halign=\"left\">predicate</th>\n",
       "      <th colspan=\"4\" halign=\"left\">edge_start_matched</th>\n",
       "      <th colspan=\"4\" halign=\"left\">edge_pd_matched</th>\n",
       "    </tr>\n",
       "    <tr>\n",
       "      <th></th>\n",
       "      <th>count</th>\n",
       "      <th>unique</th>\n",
       "      <th>top</th>\n",
       "      <th>freq</th>\n",
       "      <th>count</th>\n",
       "      <th>unique</th>\n",
       "      <th>top</th>\n",
       "      <th>freq</th>\n",
       "      <th>count</th>\n",
       "      <th>unique</th>\n",
       "      <th>top</th>\n",
       "      <th>freq</th>\n",
       "      <th>count</th>\n",
       "      <th>unique</th>\n",
       "      <th>top</th>\n",
       "      <th>freq</th>\n",
       "      <th>count</th>\n",
       "      <th>unique</th>\n",
       "      <th>top</th>\n",
       "      <th>freq</th>\n",
       "      <th>count</th>\n",
       "      <th>unique</th>\n",
       "      <th>top</th>\n",
       "      <th>freq</th>\n",
       "    </tr>\n",
       "    <tr>\n",
       "      <th>cn_id</th>\n",
       "      <th></th>\n",
       "      <th></th>\n",
       "      <th></th>\n",
       "      <th></th>\n",
       "      <th></th>\n",
       "      <th></th>\n",
       "      <th></th>\n",
       "      <th></th>\n",
       "      <th></th>\n",
       "      <th></th>\n",
       "      <th></th>\n",
       "      <th></th>\n",
       "      <th></th>\n",
       "      <th></th>\n",
       "      <th></th>\n",
       "      <th></th>\n",
       "      <th></th>\n",
       "      <th></th>\n",
       "      <th></th>\n",
       "      <th></th>\n",
       "      <th></th>\n",
       "      <th></th>\n",
       "      <th></th>\n",
       "      <th></th>\n",
       "    </tr>\n",
       "  </thead>\n",
       "  <tbody>\n",
       "    <tr>\n",
       "      <th>/c/en/airplane/n</th>\n",
       "      <td>3</td>\n",
       "      <td>3</td>\n",
       "      <td>/a/[/r/PartOf/,/c/en/windshield/n/wn/artifact/,/c/en/airplane/n/wn/artifact/]</td>\n",
       "      <td>1</td>\n",
       "      <td>3</td>\n",
       "      <td>3</td>\n",
       "      <td>/c/en/seat/n/wn/dramaturgy</td>\n",
       "      <td>1</td>\n",
       "      <td>3</td>\n",
       "      <td>1</td>\n",
       "      <td>/c/en/airplane/n/wn/artifact</td>\n",
       "      <td>3</td>\n",
       "      <td>3</td>\n",
       "      <td>2</td>\n",
       "      <td>/r/PartOf</td>\n",
       "      <td>2</td>\n",
       "      <td>3</td>\n",
       "      <td>3</td>\n",
       "      <td>/c/en/seat/n</td>\n",
       "      <td>1</td>\n",
       "      <td>3</td>\n",
       "      <td>1</td>\n",
       "      <td>/c/en/airplane/n</td>\n",
       "      <td>3</td>\n",
       "    </tr>\n",
       "    <tr>\n",
       "      <th>/c/en/animal/n</th>\n",
       "      <td>6</td>\n",
       "      <td>6</td>\n",
       "      <td>/a/[/r/PartOf/,/c/en/face/n/wn/body/,/c/en/animal/n/wn/]</td>\n",
       "      <td>1</td>\n",
       "      <td>6</td>\n",
       "      <td>6</td>\n",
       "      <td>/c/en/bear/n/opencyc/bear_animal</td>\n",
       "      <td>1</td>\n",
       "      <td>6</td>\n",
       "      <td>2</td>\n",
       "      <td>/c/en/animal/n/wn</td>\n",
       "      <td>3</td>\n",
       "      <td>6</td>\n",
       "      <td>3</td>\n",
       "      <td>/r/IsA</td>\n",
       "      <td>3</td>\n",
       "      <td>6</td>\n",
       "      <td>6</td>\n",
       "      <td>/c/en/nose/n</td>\n",
       "      <td>1</td>\n",
       "      <td>6</td>\n",
       "      <td>1</td>\n",
       "      <td>/c/en/animal/n</td>\n",
       "      <td>6</td>\n",
       "    </tr>\n",
       "    <tr>\n",
       "      <th>/c/en/arm/n</th>\n",
       "      <td>3</td>\n",
       "      <td>3</td>\n",
       "      <td>/a/[/r/Synonym/,/c/en/arm/n/wn/group/,/c/en/branch/n/wn/group/]</td>\n",
       "      <td>1</td>\n",
       "      <td>3</td>\n",
       "      <td>3</td>\n",
       "      <td>/c/en/branch/n/wn/artifact</td>\n",
       "      <td>1</td>\n",
       "      <td>3</td>\n",
       "      <td>3</td>\n",
       "      <td>/c/en/branch/n/wn/group</td>\n",
       "      <td>1</td>\n",
       "      <td>3</td>\n",
       "      <td>2</td>\n",
       "      <td>/r/Synonym</td>\n",
       "      <td>2</td>\n",
       "      <td>3</td>\n",
       "      <td>3</td>\n",
       "      <td>/c/en/hand/n</td>\n",
       "      <td>1</td>\n",
       "      <td>3</td>\n",
       "      <td>2</td>\n",
       "      <td>/c/en/arm/n</td>\n",
       "      <td>2</td>\n",
       "    </tr>\n",
       "    <tr>\n",
       "      <th>/c/en/bear/n</th>\n",
       "      <td>1</td>\n",
       "      <td>1</td>\n",
       "      <td>/a/[/r/IsA/,/c/en/bear/n/opencyc/dispositionally_pessimistic_securities_trader/,/c/en/person/n/]</td>\n",
       "      <td>1</td>\n",
       "      <td>1</td>\n",
       "      <td>1</td>\n",
       "      <td>/c/en/bear/n/opencyc/dispositionally_pessimistic_securities_trader</td>\n",
       "      <td>1</td>\n",
       "      <td>1</td>\n",
       "      <td>1</td>\n",
       "      <td>/c/en/person/n</td>\n",
       "      <td>1</td>\n",
       "      <td>1</td>\n",
       "      <td>1</td>\n",
       "      <td>/r/IsA</td>\n",
       "      <td>1</td>\n",
       "      <td>1</td>\n",
       "      <td>1</td>\n",
       "      <td>/c/en/bear/n</td>\n",
       "      <td>1</td>\n",
       "      <td>1</td>\n",
       "      <td>1</td>\n",
       "      <td>/c/en/person/n</td>\n",
       "      <td>1</td>\n",
       "    </tr>\n",
       "    <tr>\n",
       "      <th>/c/en/bed/n</th>\n",
       "      <td>2</td>\n",
       "      <td>2</td>\n",
       "      <td>/a/[/r/RelatedTo/,/c/en/bed/n/wn/artifact/,/c/en/person/n/wn/]</td>\n",
       "      <td>1</td>\n",
       "      <td>2</td>\n",
       "      <td>1</td>\n",
       "      <td>/c/en/bed/n/wn/artifact</td>\n",
       "      <td>2</td>\n",
       "      <td>2</td>\n",
       "      <td>2</td>\n",
       "      <td>/c/en/plant/n/wn/botany</td>\n",
       "      <td>1</td>\n",
       "      <td>2</td>\n",
       "      <td>1</td>\n",
       "      <td>/r/RelatedTo</td>\n",
       "      <td>2</td>\n",
       "      <td>2</td>\n",
       "      <td>1</td>\n",
       "      <td>/c/en/bed/n</td>\n",
       "      <td>2</td>\n",
       "      <td>2</td>\n",
       "      <td>2</td>\n",
       "      <td>/c/en/person/n</td>\n",
       "      <td>1</td>\n",
       "    </tr>\n",
       "    <tr>\n",
       "      <th>/c/en/bench/n</th>\n",
       "      <td>4</td>\n",
       "      <td>4</td>\n",
       "      <td>/a/[/r/RelatedTo/,/c/en/bench/n/wn/artifact/,/c/en/people/n/wn/group/]</td>\n",
       "      <td>1</td>\n",
       "      <td>4</td>\n",
       "      <td>3</td>\n",
       "      <td>/c/en/bench/n/wn/artifact</td>\n",
       "      <td>2</td>\n",
       "      <td>4</td>\n",
       "      <td>3</td>\n",
       "      <td>/c/en/seat/n/wn/artifact</td>\n",
       "      <td>2</td>\n",
       "      <td>4</td>\n",
       "      <td>2</td>\n",
       "      <td>/r/IsA</td>\n",
       "      <td>3</td>\n",
       "      <td>4</td>\n",
       "      <td>1</td>\n",
       "      <td>/c/en/bench/n</td>\n",
       "      <td>4</td>\n",
       "      <td>4</td>\n",
       "      <td>2</td>\n",
       "      <td>/c/en/seat/n</td>\n",
       "      <td>3</td>\n",
       "    </tr>\n",
       "    <tr>\n",
       "      <th>/c/en/bicycle/n</th>\n",
       "      <td>1</td>\n",
       "      <td>1</td>\n",
       "      <td>/a/[/r/Synonym/,/c/en/wheel/n/wn/artifact/,/c/en/bicycle/n/wn/artifact/]</td>\n",
       "      <td>1</td>\n",
       "      <td>1</td>\n",
       "      <td>1</td>\n",
       "      <td>/c/en/wheel/n/wn/artifact</td>\n",
       "      <td>1</td>\n",
       "      <td>1</td>\n",
       "      <td>1</td>\n",
       "      <td>/c/en/bicycle/n/wn/artifact</td>\n",
       "      <td>1</td>\n",
       "      <td>1</td>\n",
       "      <td>1</td>\n",
       "      <td>/r/Synonym</td>\n",
       "      <td>1</td>\n",
       "      <td>1</td>\n",
       "      <td>1</td>\n",
       "      <td>/c/en/wheel/n</td>\n",
       "      <td>1</td>\n",
       "      <td>1</td>\n",
       "      <td>1</td>\n",
       "      <td>/c/en/bicycle/n</td>\n",
       "      <td>1</td>\n",
       "    </tr>\n",
       "    <tr>\n",
       "      <th>/c/en/bird/n</th>\n",
       "      <td>3</td>\n",
       "      <td>3</td>\n",
       "      <td>/a/[/r/IsA/,/c/en/kite/n/wp/bird/,/c/en/bird/n/]</td>\n",
       "      <td>1</td>\n",
       "      <td>3</td>\n",
       "      <td>3</td>\n",
       "      <td>/c/en/wing/n/wn/food</td>\n",
       "      <td>1</td>\n",
       "      <td>3</td>\n",
       "      <td>3</td>\n",
       "      <td>/c/en/bird/n/wn/animal</td>\n",
       "      <td>1</td>\n",
       "      <td>3</td>\n",
       "      <td>2</td>\n",
       "      <td>/r/PartOf</td>\n",
       "      <td>2</td>\n",
       "      <td>3</td>\n",
       "      <td>2</td>\n",
       "      <td>/c/en/wing/n</td>\n",
       "      <td>2</td>\n",
       "      <td>3</td>\n",
       "      <td>1</td>\n",
       "      <td>/c/en/bird/n</td>\n",
       "      <td>3</td>\n",
       "    </tr>\n",
       "    <tr>\n",
       "      <th>/c/en/board/n</th>\n",
       "      <td>3</td>\n",
       "      <td>3</td>\n",
       "      <td>/a/[/r/IsA/,/c/en/surfboard/n/wn/artifact/,/c/en/board/n/wn/artifact/]</td>\n",
       "      <td>1</td>\n",
       "      <td>3</td>\n",
       "      <td>3</td>\n",
       "      <td>/c/en/surfboard/n/wn/artifact</td>\n",
       "      <td>1</td>\n",
       "      <td>3</td>\n",
       "      <td>2</td>\n",
       "      <td>/c/en/board/n/wn/artifact</td>\n",
       "      <td>2</td>\n",
       "      <td>3</td>\n",
       "      <td>2</td>\n",
       "      <td>/r/IsA</td>\n",
       "      <td>2</td>\n",
       "      <td>3</td>\n",
       "      <td>3</td>\n",
       "      <td>/c/en/table/n</td>\n",
       "      <td>1</td>\n",
       "      <td>3</td>\n",
       "      <td>1</td>\n",
       "      <td>/c/en/board/n</td>\n",
       "      <td>3</td>\n",
       "    </tr>\n",
       "    <tr>\n",
       "      <th>/c/en/book/n</th>\n",
       "      <td>2</td>\n",
       "      <td>2</td>\n",
       "      <td>/a/[/r/IsA/,/c/en/curtain/n/wp/novel/,/c/en/book/n/]</td>\n",
       "      <td>1</td>\n",
       "      <td>2</td>\n",
       "      <td>2</td>\n",
       "      <td>/c/en/cat/n/wp/novel</td>\n",
       "      <td>1</td>\n",
       "      <td>2</td>\n",
       "      <td>1</td>\n",
       "      <td>/c/en/book/n</td>\n",
       "      <td>2</td>\n",
       "      <td>2</td>\n",
       "      <td>1</td>\n",
       "      <td>/r/IsA</td>\n",
       "      <td>2</td>\n",
       "      <td>2</td>\n",
       "      <td>2</td>\n",
       "      <td>/c/en/curtain/n</td>\n",
       "      <td>1</td>\n",
       "      <td>2</td>\n",
       "      <td>1</td>\n",
       "      <td>/c/en/book/n</td>\n",
       "      <td>2</td>\n",
       "    </tr>\n",
       "    <tr>\n",
       "      <th>/c/en/boot/n</th>\n",
       "      <td>4</td>\n",
       "      <td>4</td>\n",
       "      <td>/a/[/r/PartOf/,/c/en/counter/n/wn/artifact/,/c/en/boot/n/wn/artifact/]</td>\n",
       "      <td>1</td>\n",
       "      <td>4</td>\n",
       "      <td>4</td>\n",
       "      <td>/c/en/boot/n/wn/artifact</td>\n",
       "      <td>1</td>\n",
       "      <td>4</td>\n",
       "      <td>3</td>\n",
       "      <td>/c/en/boot/n/wn/artifact</td>\n",
       "      <td>2</td>\n",
       "      <td>4</td>\n",
       "      <td>3</td>\n",
       "      <td>/r/PartOf</td>\n",
       "      <td>2</td>\n",
       "      <td>4</td>\n",
       "      <td>3</td>\n",
       "      <td>/c/en/boot/n</td>\n",
       "      <td>2</td>\n",
       "      <td>4</td>\n",
       "      <td>3</td>\n",
       "      <td>/c/en/boot/n</td>\n",
       "      <td>2</td>\n",
       "    </tr>\n",
       "    <tr>\n",
       "      <th>/c/en/bottle/n</th>\n",
       "      <td>1</td>\n",
       "      <td>1</td>\n",
       "      <td>/a/[/r/PartOf/,/c/en/mouth/n/wn/artifact/,/c/en/bottle/n/wn/artifact/]</td>\n",
       "      <td>1</td>\n",
       "      <td>1</td>\n",
       "      <td>1</td>\n",
       "      <td>/c/en/mouth/n/wn/artifact</td>\n",
       "      <td>1</td>\n",
       "      <td>1</td>\n",
       "      <td>1</td>\n",
       "      <td>/c/en/bottle/n/wn/artifact</td>\n",
       "      <td>1</td>\n",
       "      <td>1</td>\n",
       "      <td>1</td>\n",
       "      <td>/r/PartOf</td>\n",
       "      <td>1</td>\n",
       "      <td>1</td>\n",
       "      <td>1</td>\n",
       "      <td>/c/en/mouth/n</td>\n",
       "      <td>1</td>\n",
       "      <td>1</td>\n",
       "      <td>1</td>\n",
       "      <td>/c/en/bottle/n</td>\n",
       "      <td>1</td>\n",
       "    </tr>\n",
       "    <tr>\n",
       "      <th>/c/en/bowl/n</th>\n",
       "      <td>1</td>\n",
       "      <td>1</td>\n",
       "      <td>/a/[/r/RelatedTo/,/c/en/bowl/n/wn/artifact/,/c/en/food/n/wn/]</td>\n",
       "      <td>1</td>\n",
       "      <td>1</td>\n",
       "      <td>1</td>\n",
       "      <td>/c/en/bowl/n/wn/artifact</td>\n",
       "      <td>1</td>\n",
       "      <td>1</td>\n",
       "      <td>1</td>\n",
       "      <td>/c/en/food/n/wn</td>\n",
       "      <td>1</td>\n",
       "      <td>1</td>\n",
       "      <td>1</td>\n",
       "      <td>/r/RelatedTo</td>\n",
       "      <td>1</td>\n",
       "      <td>1</td>\n",
       "      <td>1</td>\n",
       "      <td>/c/en/bowl/n</td>\n",
       "      <td>1</td>\n",
       "      <td>1</td>\n",
       "      <td>1</td>\n",
       "      <td>/c/en/food/n</td>\n",
       "      <td>1</td>\n",
       "    </tr>\n",
       "    <tr>\n",
       "      <th>/c/en/box/n</th>\n",
       "      <td>4</td>\n",
       "      <td>4</td>\n",
       "      <td>/a/[/r/IsA/,/c/en/box/n/wn/artifact/,/c/en/seat/n/wn/artifact/]</td>\n",
       "      <td>1</td>\n",
       "      <td>4</td>\n",
       "      <td>3</td>\n",
       "      <td>/c/en/box/n/wn/artifact</td>\n",
       "      <td>2</td>\n",
       "      <td>4</td>\n",
       "      <td>3</td>\n",
       "      <td>/c/en/box/n</td>\n",
       "      <td>2</td>\n",
       "      <td>4</td>\n",
       "      <td>2</td>\n",
       "      <td>/r/IsA</td>\n",
       "      <td>3</td>\n",
       "      <td>4</td>\n",
       "      <td>2</td>\n",
       "      <td>/c/en/cabinet/n</td>\n",
       "      <td>2</td>\n",
       "      <td>4</td>\n",
       "      <td>3</td>\n",
       "      <td>/c/en/box/n</td>\n",
       "      <td>2</td>\n",
       "    </tr>\n",
       "    <tr>\n",
       "      <th>/c/en/branch/n</th>\n",
       "      <td>1</td>\n",
       "      <td>1</td>\n",
       "      <td>/a/[/r/Synonym/,/c/en/leg/n/wn/shape/,/c/en/branch/n/wn/shape/]</td>\n",
       "      <td>1</td>\n",
       "      <td>1</td>\n",
       "      <td>1</td>\n",
       "      <td>/c/en/leg/n/wn/shape</td>\n",
       "      <td>1</td>\n",
       "      <td>1</td>\n",
       "      <td>1</td>\n",
       "      <td>/c/en/branch/n/wn/shape</td>\n",
       "      <td>1</td>\n",
       "      <td>1</td>\n",
       "      <td>1</td>\n",
       "      <td>/r/Synonym</td>\n",
       "      <td>1</td>\n",
       "      <td>1</td>\n",
       "      <td>1</td>\n",
       "      <td>/c/en/leg/n</td>\n",
       "      <td>1</td>\n",
       "      <td>1</td>\n",
       "      <td>1</td>\n",
       "      <td>/c/en/branch/n</td>\n",
       "      <td>1</td>\n",
       "    </tr>\n",
       "    <tr>\n",
       "      <th>/c/en/building/n</th>\n",
       "      <td>5</td>\n",
       "      <td>5</td>\n",
       "      <td>/a/[/r/IsA/,/c/en/house/n/wn/artifact/,/c/en/building/n/wn/artifact/]</td>\n",
       "      <td>1</td>\n",
       "      <td>5</td>\n",
       "      <td>5</td>\n",
       "      <td>/c/en/window/n/wn/artifact</td>\n",
       "      <td>1</td>\n",
       "      <td>5</td>\n",
       "      <td>2</td>\n",
       "      <td>/c/en/building/n/wn/artifact</td>\n",
       "      <td>4</td>\n",
       "      <td>5</td>\n",
       "      <td>2</td>\n",
       "      <td>/r/PartOf</td>\n",
       "      <td>3</td>\n",
       "      <td>5</td>\n",
       "      <td>4</td>\n",
       "      <td>/c/en/house/n</td>\n",
       "      <td>2</td>\n",
       "      <td>5</td>\n",
       "      <td>1</td>\n",
       "      <td>/c/en/building/n</td>\n",
       "      <td>5</td>\n",
       "    </tr>\n",
       "    <tr>\n",
       "      <th>/c/en/bus/n</th>\n",
       "      <td>3</td>\n",
       "      <td>3</td>\n",
       "      <td>/a/[/r/PartOf/,/c/en/roof/n/wn/artifact/,/c/en/bus/n/wn/artifact/]</td>\n",
       "      <td>1</td>\n",
       "      <td>3</td>\n",
       "      <td>3</td>\n",
       "      <td>/c/en/bus/n/wn/artifact</td>\n",
       "      <td>1</td>\n",
       "      <td>3</td>\n",
       "      <td>2</td>\n",
       "      <td>/c/en/bus/n/wn/artifact</td>\n",
       "      <td>2</td>\n",
       "      <td>3</td>\n",
       "      <td>2</td>\n",
       "      <td>/r/PartOf</td>\n",
       "      <td>2</td>\n",
       "      <td>3</td>\n",
       "      <td>3</td>\n",
       "      <td>/c/en/bus/n</td>\n",
       "      <td>1</td>\n",
       "      <td>3</td>\n",
       "      <td>2</td>\n",
       "      <td>/c/en/bus/n</td>\n",
       "      <td>2</td>\n",
       "    </tr>\n",
       "    <tr>\n",
       "      <th>/c/en/cabinet/n</th>\n",
       "      <td>1</td>\n",
       "      <td>1</td>\n",
       "      <td>/a/[/r/PartOf/,/c/en/shelf/n/wn/artifact/,/c/en/cabinet/n/wn/artifact/]</td>\n",
       "      <td>1</td>\n",
       "      <td>1</td>\n",
       "      <td>1</td>\n",
       "      <td>/c/en/shelf/n/wn/artifact</td>\n",
       "      <td>1</td>\n",
       "      <td>1</td>\n",
       "      <td>1</td>\n",
       "      <td>/c/en/cabinet/n/wn/artifact</td>\n",
       "      <td>1</td>\n",
       "      <td>1</td>\n",
       "      <td>1</td>\n",
       "      <td>/r/PartOf</td>\n",
       "      <td>1</td>\n",
       "      <td>1</td>\n",
       "      <td>1</td>\n",
       "      <td>/c/en/shelf/n</td>\n",
       "      <td>1</td>\n",
       "      <td>1</td>\n",
       "      <td>1</td>\n",
       "      <td>/c/en/cabinet/n</td>\n",
       "      <td>1</td>\n",
       "    </tr>\n",
       "    <tr>\n",
       "      <th>/c/en/car/n</th>\n",
       "      <td>2</td>\n",
       "      <td>2</td>\n",
       "      <td>/a/[/r/PartOf/,/c/en/roof/n/wn/artifact/,/c/en/car/n/wn/artifact/]</td>\n",
       "      <td>1</td>\n",
       "      <td>2</td>\n",
       "      <td>2</td>\n",
       "      <td>/c/en/window/n/wn/artifact</td>\n",
       "      <td>1</td>\n",
       "      <td>2</td>\n",
       "      <td>1</td>\n",
       "      <td>/c/en/car/n/wn/artifact</td>\n",
       "      <td>2</td>\n",
       "      <td>2</td>\n",
       "      <td>1</td>\n",
       "      <td>/r/PartOf</td>\n",
       "      <td>2</td>\n",
       "      <td>2</td>\n",
       "      <td>2</td>\n",
       "      <td>/c/en/window/n</td>\n",
       "      <td>1</td>\n",
       "      <td>2</td>\n",
       "      <td>1</td>\n",
       "      <td>/c/en/car/n</td>\n",
       "      <td>2</td>\n",
       "    </tr>\n",
       "    <tr>\n",
       "      <th>/c/en/cat/n</th>\n",
       "      <td>2</td>\n",
       "      <td>2</td>\n",
       "      <td>/a/[/r/Synonym/,/c/en/cat/n/wn/person/,/c/en/guy/n/wn/person/]</td>\n",
       "      <td>1</td>\n",
       "      <td>2</td>\n",
       "      <td>1</td>\n",
       "      <td>/c/en/cat/n/wn/person</td>\n",
       "      <td>2</td>\n",
       "      <td>2</td>\n",
       "      <td>2</td>\n",
       "      <td>/c/en/guy/n/wn/person</td>\n",
       "      <td>1</td>\n",
       "      <td>2</td>\n",
       "      <td>2</td>\n",
       "      <td>/r/IsA</td>\n",
       "      <td>1</td>\n",
       "      <td>2</td>\n",
       "      <td>1</td>\n",
       "      <td>/c/en/cat/n</td>\n",
       "      <td>2</td>\n",
       "      <td>2</td>\n",
       "      <td>2</td>\n",
       "      <td>/c/en/woman/n</td>\n",
       "      <td>1</td>\n",
       "    </tr>\n",
       "    <tr>\n",
       "      <th>/c/en/chair/n</th>\n",
       "      <td>4</td>\n",
       "      <td>4</td>\n",
       "      <td>/a/[/r/PartOf/,/c/en/leg/n/wn/artifact/,/c/en/chair/n/wn/artifact/]</td>\n",
       "      <td>1</td>\n",
       "      <td>4</td>\n",
       "      <td>3</td>\n",
       "      <td>/c/en/chair/n/wn/artifact</td>\n",
       "      <td>2</td>\n",
       "      <td>4</td>\n",
       "      <td>4</td>\n",
       "      <td>/c/en/seat/n/opencyc/seating_device</td>\n",
       "      <td>1</td>\n",
       "      <td>4</td>\n",
       "      <td>3</td>\n",
       "      <td>/r/IsA</td>\n",
       "      <td>2</td>\n",
       "      <td>4</td>\n",
       "      <td>2</td>\n",
       "      <td>/c/en/chair/n</td>\n",
       "      <td>3</td>\n",
       "      <td>4</td>\n",
       "      <td>3</td>\n",
       "      <td>/c/en/seat/n</td>\n",
       "      <td>2</td>\n",
       "    </tr>\n",
       "    <tr>\n",
       "      <th>/c/en/child/n</th>\n",
       "      <td>1</td>\n",
       "      <td>1</td>\n",
       "      <td>/a/[/r/IsA/,/c/en/child/n/wn/person/,/c/en/person/n/wn/]</td>\n",
       "      <td>1</td>\n",
       "      <td>1</td>\n",
       "      <td>1</td>\n",
       "      <td>/c/en/child/n/wn/person</td>\n",
       "      <td>1</td>\n",
       "      <td>1</td>\n",
       "      <td>1</td>\n",
       "      <td>/c/en/person/n/wn</td>\n",
       "      <td>1</td>\n",
       "      <td>1</td>\n",
       "      <td>1</td>\n",
       "      <td>/r/IsA</td>\n",
       "      <td>1</td>\n",
       "      <td>1</td>\n",
       "      <td>1</td>\n",
       "      <td>/c/en/child/n</td>\n",
       "      <td>1</td>\n",
       "      <td>1</td>\n",
       "      <td>1</td>\n",
       "      <td>/c/en/person/n</td>\n",
       "      <td>1</td>\n",
       "    </tr>\n",
       "    <tr>\n",
       "      <th>/c/en/clock/n</th>\n",
       "      <td>1</td>\n",
       "      <td>1</td>\n",
       "      <td>/a/[/r/UsedFor/,/c/en/clock/n/wn/artifact/,/c/en/people/n/wn/group/]</td>\n",
       "      <td>1</td>\n",
       "      <td>1</td>\n",
       "      <td>1</td>\n",
       "      <td>/c/en/clock/n/wn/artifact</td>\n",
       "      <td>1</td>\n",
       "      <td>1</td>\n",
       "      <td>1</td>\n",
       "      <td>/c/en/people/n/wn/group</td>\n",
       "      <td>1</td>\n",
       "      <td>1</td>\n",
       "      <td>1</td>\n",
       "      <td>/r/UsedFor</td>\n",
       "      <td>1</td>\n",
       "      <td>1</td>\n",
       "      <td>1</td>\n",
       "      <td>/c/en/clock/n</td>\n",
       "      <td>1</td>\n",
       "      <td>1</td>\n",
       "      <td>1</td>\n",
       "      <td>/c/en/people/n</td>\n",
       "      <td>1</td>\n",
       "    </tr>\n",
       "    <tr>\n",
       "      <th>/c/en/coat/n</th>\n",
       "      <td>3</td>\n",
       "      <td>3</td>\n",
       "      <td>/a/[/r/IsA/,/c/en/coat/n/wn/animal/,/c/en/hair/n/wn/body/]</td>\n",
       "      <td>1</td>\n",
       "      <td>3</td>\n",
       "      <td>3</td>\n",
       "      <td>/c/en/jacket/n</td>\n",
       "      <td>1</td>\n",
       "      <td>3</td>\n",
       "      <td>3</td>\n",
       "      <td>/c/en/coat/n</td>\n",
       "      <td>1</td>\n",
       "      <td>3</td>\n",
       "      <td>1</td>\n",
       "      <td>/r/IsA</td>\n",
       "      <td>3</td>\n",
       "      <td>3</td>\n",
       "      <td>2</td>\n",
       "      <td>/c/en/jacket/n</td>\n",
       "      <td>2</td>\n",
       "      <td>3</td>\n",
       "      <td>2</td>\n",
       "      <td>/c/en/coat/n</td>\n",
       "      <td>2</td>\n",
       "    </tr>\n",
       "    <tr>\n",
       "      <th>/c/en/counter/n</th>\n",
       "      <td>3</td>\n",
       "      <td>3</td>\n",
       "      <td>/a/[/r/IsA/,/c/en/counter/n/wn/person/,/c/en/person/n/wn/]</td>\n",
       "      <td>1</td>\n",
       "      <td>3</td>\n",
       "      <td>2</td>\n",
       "      <td>/c/en/counter/n/wn/artifact</td>\n",
       "      <td>2</td>\n",
       "      <td>3</td>\n",
       "      <td>3</td>\n",
       "      <td>/c/en/person/n/wn</td>\n",
       "      <td>1</td>\n",
       "      <td>3</td>\n",
       "      <td>2</td>\n",
       "      <td>/r/IsA</td>\n",
       "      <td>2</td>\n",
       "      <td>3</td>\n",
       "      <td>1</td>\n",
       "      <td>/c/en/counter/n</td>\n",
       "      <td>3</td>\n",
       "      <td>3</td>\n",
       "      <td>3</td>\n",
       "      <td>/c/en/table/n</td>\n",
       "      <td>1</td>\n",
       "    </tr>\n",
       "    <tr>\n",
       "      <th>/c/en/curtain/n</th>\n",
       "      <td>1</td>\n",
       "      <td>1</td>\n",
       "      <td>/a/[/r/RelatedTo/,/c/en/curtain/n/wn/artifact/,/c/en/window/n/wn/artifact/]</td>\n",
       "      <td>1</td>\n",
       "      <td>1</td>\n",
       "      <td>1</td>\n",
       "      <td>/c/en/curtain/n/wn/artifact</td>\n",
       "      <td>1</td>\n",
       "      <td>1</td>\n",
       "      <td>1</td>\n",
       "      <td>/c/en/window/n/wn/artifact</td>\n",
       "      <td>1</td>\n",
       "      <td>1</td>\n",
       "      <td>1</td>\n",
       "      <td>/r/RelatedTo</td>\n",
       "      <td>1</td>\n",
       "      <td>1</td>\n",
       "      <td>1</td>\n",
       "      <td>/c/en/curtain/n</td>\n",
       "      <td>1</td>\n",
       "      <td>1</td>\n",
       "      <td>1</td>\n",
       "      <td>/c/en/window/n</td>\n",
       "      <td>1</td>\n",
       "    </tr>\n",
       "    <tr>\n",
       "      <th>/c/en/desk/n</th>\n",
       "      <td>3</td>\n",
       "      <td>3</td>\n",
       "      <td>/a/[/r/IsA/,/c/en/desk/n/,/c/en/table/n/opencyc/table_piece_of_furniture/]</td>\n",
       "      <td>1</td>\n",
       "      <td>3</td>\n",
       "      <td>3</td>\n",
       "      <td>/c/en/drawer/n/wn/artifact</td>\n",
       "      <td>1</td>\n",
       "      <td>3</td>\n",
       "      <td>3</td>\n",
       "      <td>/c/en/table/n/opencyc/table_piece_of_furniture</td>\n",
       "      <td>1</td>\n",
       "      <td>3</td>\n",
       "      <td>2</td>\n",
       "      <td>/r/IsA</td>\n",
       "      <td>2</td>\n",
       "      <td>3</td>\n",
       "      <td>2</td>\n",
       "      <td>/c/en/desk/n</td>\n",
       "      <td>2</td>\n",
       "      <td>3</td>\n",
       "      <td>2</td>\n",
       "      <td>/c/en/table/n</td>\n",
       "      <td>2</td>\n",
       "    </tr>\n",
       "    <tr>\n",
       "      <th>/c/en/dog/n</th>\n",
       "      <td>1</td>\n",
       "      <td>1</td>\n",
       "      <td>/a/[/r/PartOf/,/c/en/flag/n/wn/animal/,/c/en/dog/n/wn/animal/]</td>\n",
       "      <td>1</td>\n",
       "      <td>1</td>\n",
       "      <td>1</td>\n",
       "      <td>/c/en/flag/n/wn/animal</td>\n",
       "      <td>1</td>\n",
       "      <td>1</td>\n",
       "      <td>1</td>\n",
       "      <td>/c/en/dog/n/wn/animal</td>\n",
       "      <td>1</td>\n",
       "      <td>1</td>\n",
       "      <td>1</td>\n",
       "      <td>/r/PartOf</td>\n",
       "      <td>1</td>\n",
       "      <td>1</td>\n",
       "      <td>1</td>\n",
       "      <td>/c/en/flag/n</td>\n",
       "      <td>1</td>\n",
       "      <td>1</td>\n",
       "      <td>1</td>\n",
       "      <td>/c/en/dog/n</td>\n",
       "      <td>1</td>\n",
       "    </tr>\n",
       "    <tr>\n",
       "      <th>/c/en/door/n</th>\n",
       "      <td>1</td>\n",
       "      <td>1</td>\n",
       "      <td>/a/[/r/IsA/,/c/en/door/n/wn/artifact/,/c/en/room/n/wn/artifact/]</td>\n",
       "      <td>1</td>\n",
       "      <td>1</td>\n",
       "      <td>1</td>\n",
       "      <td>/c/en/door/n/wn/artifact</td>\n",
       "      <td>1</td>\n",
       "      <td>1</td>\n",
       "      <td>1</td>\n",
       "      <td>/c/en/room/n/wn/artifact</td>\n",
       "      <td>1</td>\n",
       "      <td>1</td>\n",
       "      <td>1</td>\n",
       "      <td>/r/IsA</td>\n",
       "      <td>1</td>\n",
       "      <td>1</td>\n",
       "      <td>1</td>\n",
       "      <td>/c/en/door/n</td>\n",
       "      <td>1</td>\n",
       "      <td>1</td>\n",
       "      <td>1</td>\n",
       "      <td>/c/en/room/n</td>\n",
       "      <td>1</td>\n",
       "    </tr>\n",
       "    <tr>\n",
       "      <th>/c/en/ear/n</th>\n",
       "      <td>2</td>\n",
       "      <td>2</td>\n",
       "      <td>/a/[/r/IsA/,/c/en/ear/n/wn/plant/,/c/en/fruit/n/wn/plant/]</td>\n",
       "      <td>1</td>\n",
       "      <td>2</td>\n",
       "      <td>2</td>\n",
       "      <td>/c/en/ear/n/wn/body</td>\n",
       "      <td>1</td>\n",
       "      <td>2</td>\n",
       "      <td>2</td>\n",
       "      <td>/c/en/fruit/n/wn/plant</td>\n",
       "      <td>1</td>\n",
       "      <td>2</td>\n",
       "      <td>2</td>\n",
       "      <td>/r/IsA</td>\n",
       "      <td>1</td>\n",
       "      <td>2</td>\n",
       "      <td>1</td>\n",
       "      <td>/c/en/ear/n</td>\n",
       "      <td>2</td>\n",
       "      <td>2</td>\n",
       "      <td>2</td>\n",
       "      <td>/c/en/fruit/n</td>\n",
       "      <td>1</td>\n",
       "    </tr>\n",
       "    <tr>\n",
       "      <th>/c/en/eye/n</th>\n",
       "      <td>1</td>\n",
       "      <td>1</td>\n",
       "      <td>/a/[/r/PartOf/,/c/en/eye/n/wn/body/,/c/en/face/n/wn/body/]</td>\n",
       "      <td>1</td>\n",
       "      <td>1</td>\n",
       "      <td>1</td>\n",
       "      <td>/c/en/eye/n/wn/body</td>\n",
       "      <td>1</td>\n",
       "      <td>1</td>\n",
       "      <td>1</td>\n",
       "      <td>/c/en/face/n/wn/body</td>\n",
       "      <td>1</td>\n",
       "      <td>1</td>\n",
       "      <td>1</td>\n",
       "      <td>/r/PartOf</td>\n",
       "      <td>1</td>\n",
       "      <td>1</td>\n",
       "      <td>1</td>\n",
       "      <td>/c/en/eye/n</td>\n",
       "      <td>1</td>\n",
       "      <td>1</td>\n",
       "      <td>1</td>\n",
       "      <td>/c/en/face/n</td>\n",
       "      <td>1</td>\n",
       "    </tr>\n",
       "    <tr>\n",
       "      <th>/c/en/face/n</th>\n",
       "      <td>6</td>\n",
       "      <td>6</td>\n",
       "      <td>/a/[/r/PartOf/,/c/en/nose/n/wn/body/,/c/en/face/n/wn/body/]</td>\n",
       "      <td>1</td>\n",
       "      <td>6</td>\n",
       "      <td>5</td>\n",
       "      <td>/c/en/face/n/wn/artifact</td>\n",
       "      <td>2</td>\n",
       "      <td>6</td>\n",
       "      <td>5</td>\n",
       "      <td>/c/en/face/n/wn/body</td>\n",
       "      <td>2</td>\n",
       "      <td>6</td>\n",
       "      <td>2</td>\n",
       "      <td>/r/PartOf</td>\n",
       "      <td>5</td>\n",
       "      <td>6</td>\n",
       "      <td>3</td>\n",
       "      <td>/c/en/face/n</td>\n",
       "      <td>4</td>\n",
       "      <td>6</td>\n",
       "      <td>4</td>\n",
       "      <td>/c/en/face/n</td>\n",
       "      <td>2</td>\n",
       "    </tr>\n",
       "    <tr>\n",
       "      <th>/c/en/finger/n</th>\n",
       "      <td>2</td>\n",
       "      <td>2</td>\n",
       "      <td>/a/[/r/PartOf/,/c/en/finger/n/wn/artifact/,/c/en/glove/n/wn/artifact/]</td>\n",
       "      <td>1</td>\n",
       "      <td>2</td>\n",
       "      <td>2</td>\n",
       "      <td>/c/en/finger/n/wn/artifact</td>\n",
       "      <td>1</td>\n",
       "      <td>2</td>\n",
       "      <td>2</td>\n",
       "      <td>/c/en/hand/n/wn/body</td>\n",
       "      <td>1</td>\n",
       "      <td>2</td>\n",
       "      <td>1</td>\n",
       "      <td>/r/PartOf</td>\n",
       "      <td>2</td>\n",
       "      <td>2</td>\n",
       "      <td>1</td>\n",
       "      <td>/c/en/finger/n</td>\n",
       "      <td>2</td>\n",
       "      <td>2</td>\n",
       "      <td>2</td>\n",
       "      <td>/c/en/hand/n</td>\n",
       "      <td>1</td>\n",
       "    </tr>\n",
       "    <tr>\n",
       "      <th>/c/en/flag/n</th>\n",
       "      <td>1</td>\n",
       "      <td>1</td>\n",
       "      <td>/a/[/r/IsA/,/c/en/flag/n/wn/animal/,/c/en/tail/n/wn/animal/]</td>\n",
       "      <td>1</td>\n",
       "      <td>1</td>\n",
       "      <td>1</td>\n",
       "      <td>/c/en/flag/n/wn/animal</td>\n",
       "      <td>1</td>\n",
       "      <td>1</td>\n",
       "      <td>1</td>\n",
       "      <td>/c/en/tail/n/wn/animal</td>\n",
       "      <td>1</td>\n",
       "      <td>1</td>\n",
       "      <td>1</td>\n",
       "      <td>/r/IsA</td>\n",
       "      <td>1</td>\n",
       "      <td>1</td>\n",
       "      <td>1</td>\n",
       "      <td>/c/en/flag/n</td>\n",
       "      <td>1</td>\n",
       "      <td>1</td>\n",
       "      <td>1</td>\n",
       "      <td>/c/en/tail/n</td>\n",
       "      <td>1</td>\n",
       "    </tr>\n",
       "    <tr>\n",
       "      <th>/c/en/guy/n</th>\n",
       "      <td>1</td>\n",
       "      <td>1</td>\n",
       "      <td>/a/[/r/IsA/,/c/en/guy/n/wn/person/,/c/en/man/n/wn/person/]</td>\n",
       "      <td>1</td>\n",
       "      <td>1</td>\n",
       "      <td>1</td>\n",
       "      <td>/c/en/guy/n/wn/person</td>\n",
       "      <td>1</td>\n",
       "      <td>1</td>\n",
       "      <td>1</td>\n",
       "      <td>/c/en/man/n/wn/person</td>\n",
       "      <td>1</td>\n",
       "      <td>1</td>\n",
       "      <td>1</td>\n",
       "      <td>/r/IsA</td>\n",
       "      <td>1</td>\n",
       "      <td>1</td>\n",
       "      <td>1</td>\n",
       "      <td>/c/en/guy/n</td>\n",
       "      <td>1</td>\n",
       "      <td>1</td>\n",
       "      <td>1</td>\n",
       "      <td>/c/en/man/n</td>\n",
       "      <td>1</td>\n",
       "    </tr>\n",
       "    <tr>\n",
       "      <th>/c/en/gym_shoe/n</th>\n",
       "      <td>1</td>\n",
       "      <td>1</td>\n",
       "      <td>/a/[/r/IsA/,/c/en/gym_shoe/n/wn/artifact/,/c/en/shoe/n/wn/artifact/]</td>\n",
       "      <td>1</td>\n",
       "      <td>1</td>\n",
       "      <td>1</td>\n",
       "      <td>/c/en/gym_shoe/n/wn/artifact</td>\n",
       "      <td>1</td>\n",
       "      <td>1</td>\n",
       "      <td>1</td>\n",
       "      <td>/c/en/shoe/n/wn/artifact</td>\n",
       "      <td>1</td>\n",
       "      <td>1</td>\n",
       "      <td>1</td>\n",
       "      <td>/r/IsA</td>\n",
       "      <td>1</td>\n",
       "      <td>1</td>\n",
       "      <td>1</td>\n",
       "      <td>/c/en/gym_shoe/n</td>\n",
       "      <td>1</td>\n",
       "      <td>1</td>\n",
       "      <td>1</td>\n",
       "      <td>/c/en/shoe/n</td>\n",
       "      <td>1</td>\n",
       "    </tr>\n",
       "    <tr>\n",
       "      <th>/c/en/hand/n</th>\n",
       "      <td>1</td>\n",
       "      <td>1</td>\n",
       "      <td>/a/[/r/Synonym/,/c/en/paw/n/wn/body/,/c/en/hand/n/wn/body/]</td>\n",
       "      <td>1</td>\n",
       "      <td>1</td>\n",
       "      <td>1</td>\n",
       "      <td>/c/en/paw/n/wn/body</td>\n",
       "      <td>1</td>\n",
       "      <td>1</td>\n",
       "      <td>1</td>\n",
       "      <td>/c/en/hand/n/wn/body</td>\n",
       "      <td>1</td>\n",
       "      <td>1</td>\n",
       "      <td>1</td>\n",
       "      <td>/r/Synonym</td>\n",
       "      <td>1</td>\n",
       "      <td>1</td>\n",
       "      <td>1</td>\n",
       "      <td>/c/en/paw/n</td>\n",
       "      <td>1</td>\n",
       "      <td>1</td>\n",
       "      <td>1</td>\n",
       "      <td>/c/en/hand/n</td>\n",
       "      <td>1</td>\n",
       "    </tr>\n",
       "    <tr>\n",
       "      <th>/c/en/handle/n</th>\n",
       "      <td>2</td>\n",
       "      <td>2</td>\n",
       "      <td>/a/[/r/PartOf/,/c/en/handle/n/wn/artifact/,/c/en/umbrella/n/wn/artifact/]</td>\n",
       "      <td>1</td>\n",
       "      <td>2</td>\n",
       "      <td>1</td>\n",
       "      <td>/c/en/handle/n/wn/artifact</td>\n",
       "      <td>2</td>\n",
       "      <td>2</td>\n",
       "      <td>2</td>\n",
       "      <td>/c/en/racket/n/wn/artifact</td>\n",
       "      <td>1</td>\n",
       "      <td>2</td>\n",
       "      <td>1</td>\n",
       "      <td>/r/PartOf</td>\n",
       "      <td>2</td>\n",
       "      <td>2</td>\n",
       "      <td>1</td>\n",
       "      <td>/c/en/handle/n</td>\n",
       "      <td>2</td>\n",
       "      <td>2</td>\n",
       "      <td>2</td>\n",
       "      <td>/c/en/racket/n</td>\n",
       "      <td>1</td>\n",
       "    </tr>\n",
       "    <tr>\n",
       "      <th>/c/en/head/n</th>\n",
       "      <td>1</td>\n",
       "      <td>1</td>\n",
       "      <td>/a/[/r/IsA/,/c/en/head/n/wn/artifact/,/c/en/toilet/n/wn/artifact/]</td>\n",
       "      <td>1</td>\n",
       "      <td>1</td>\n",
       "      <td>1</td>\n",
       "      <td>/c/en/head/n/wn/artifact</td>\n",
       "      <td>1</td>\n",
       "      <td>1</td>\n",
       "      <td>1</td>\n",
       "      <td>/c/en/toilet/n/wn/artifact</td>\n",
       "      <td>1</td>\n",
       "      <td>1</td>\n",
       "      <td>1</td>\n",
       "      <td>/r/IsA</td>\n",
       "      <td>1</td>\n",
       "      <td>1</td>\n",
       "      <td>1</td>\n",
       "      <td>/c/en/head/n</td>\n",
       "      <td>1</td>\n",
       "      <td>1</td>\n",
       "      <td>1</td>\n",
       "      <td>/c/en/toilet/n</td>\n",
       "      <td>1</td>\n",
       "    </tr>\n",
       "    <tr>\n",
       "      <th>/c/en/lady/n</th>\n",
       "      <td>1</td>\n",
       "      <td>1</td>\n",
       "      <td>/a/[/r/IsA/,/c/en/lady/n/wn/person/,/c/en/woman/n/wn/person/]</td>\n",
       "      <td>1</td>\n",
       "      <td>1</td>\n",
       "      <td>1</td>\n",
       "      <td>/c/en/lady/n/wn/person</td>\n",
       "      <td>1</td>\n",
       "      <td>1</td>\n",
       "      <td>1</td>\n",
       "      <td>/c/en/woman/n/wn/person</td>\n",
       "      <td>1</td>\n",
       "      <td>1</td>\n",
       "      <td>1</td>\n",
       "      <td>/r/IsA</td>\n",
       "      <td>1</td>\n",
       "      <td>1</td>\n",
       "      <td>1</td>\n",
       "      <td>/c/en/lady/n</td>\n",
       "      <td>1</td>\n",
       "      <td>1</td>\n",
       "      <td>1</td>\n",
       "      <td>/c/en/woman/n</td>\n",
       "      <td>1</td>\n",
       "    </tr>\n",
       "    <tr>\n",
       "      <th>/c/en/lamp/n</th>\n",
       "      <td>2</td>\n",
       "      <td>2</td>\n",
       "      <td>/a/[/r/UsedFor/,/c/en/lamp/n/wn/artifact/,/c/en/light/n/wn/physics/]</td>\n",
       "      <td>1</td>\n",
       "      <td>2</td>\n",
       "      <td>1</td>\n",
       "      <td>/c/en/lamp/n/wn/artifact</td>\n",
       "      <td>2</td>\n",
       "      <td>2</td>\n",
       "      <td>1</td>\n",
       "      <td>/c/en/light/n/wn/physics</td>\n",
       "      <td>2</td>\n",
       "      <td>2</td>\n",
       "      <td>2</td>\n",
       "      <td>/r/RelatedTo</td>\n",
       "      <td>1</td>\n",
       "      <td>2</td>\n",
       "      <td>1</td>\n",
       "      <td>/c/en/lamp/n</td>\n",
       "      <td>2</td>\n",
       "      <td>2</td>\n",
       "      <td>1</td>\n",
       "      <td>/c/en/light/n</td>\n",
       "      <td>2</td>\n",
       "    </tr>\n",
       "    <tr>\n",
       "      <th>/c/en/leg/n</th>\n",
       "      <td>1</td>\n",
       "      <td>1</td>\n",
       "      <td>/a/[/r/PartOf/,/c/en/leg/n/wn/artifact/,/c/en/table/n/wn/artifact/]</td>\n",
       "      <td>1</td>\n",
       "      <td>1</td>\n",
       "      <td>1</td>\n",
       "      <td>/c/en/leg/n/wn/artifact</td>\n",
       "      <td>1</td>\n",
       "      <td>1</td>\n",
       "      <td>1</td>\n",
       "      <td>/c/en/table/n/wn/artifact</td>\n",
       "      <td>1</td>\n",
       "      <td>1</td>\n",
       "      <td>1</td>\n",
       "      <td>/r/PartOf</td>\n",
       "      <td>1</td>\n",
       "      <td>1</td>\n",
       "      <td>1</td>\n",
       "      <td>/c/en/leg/n</td>\n",
       "      <td>1</td>\n",
       "      <td>1</td>\n",
       "      <td>1</td>\n",
       "      <td>/c/en/table/n</td>\n",
       "      <td>1</td>\n",
       "    </tr>\n",
       "    <tr>\n",
       "      <th>/c/en/man/n</th>\n",
       "      <td>2</td>\n",
       "      <td>2</td>\n",
       "      <td>/a/[/r/IsA/,/c/en/tile/n/wn/artifact/,/c/en/man/n/wn/artifact/]</td>\n",
       "      <td>1</td>\n",
       "      <td>2</td>\n",
       "      <td>2</td>\n",
       "      <td>/c/en/tile/n/wn/artifact</td>\n",
       "      <td>1</td>\n",
       "      <td>2</td>\n",
       "      <td>2</td>\n",
       "      <td>/c/en/man/n/wn/artifact</td>\n",
       "      <td>1</td>\n",
       "      <td>2</td>\n",
       "      <td>1</td>\n",
       "      <td>/r/IsA</td>\n",
       "      <td>2</td>\n",
       "      <td>2</td>\n",
       "      <td>2</td>\n",
       "      <td>/c/en/tile/n</td>\n",
       "      <td>1</td>\n",
       "      <td>2</td>\n",
       "      <td>2</td>\n",
       "      <td>/c/en/person/n</td>\n",
       "      <td>1</td>\n",
       "    </tr>\n",
       "    <tr>\n",
       "      <th>/c/en/nose/n</th>\n",
       "      <td>1</td>\n",
       "      <td>1</td>\n",
       "      <td>/a/[/r/IsA/,/c/en/trunk/n/opencyc/trunk_appendage/,/c/en/nose/n/]</td>\n",
       "      <td>1</td>\n",
       "      <td>1</td>\n",
       "      <td>1</td>\n",
       "      <td>/c/en/trunk/n/opencyc/trunk_appendage</td>\n",
       "      <td>1</td>\n",
       "      <td>1</td>\n",
       "      <td>1</td>\n",
       "      <td>/c/en/nose/n</td>\n",
       "      <td>1</td>\n",
       "      <td>1</td>\n",
       "      <td>1</td>\n",
       "      <td>/r/IsA</td>\n",
       "      <td>1</td>\n",
       "      <td>1</td>\n",
       "      <td>1</td>\n",
       "      <td>/c/en/trunk/n</td>\n",
       "      <td>1</td>\n",
       "      <td>1</td>\n",
       "      <td>1</td>\n",
       "      <td>/c/en/nose/n</td>\n",
       "      <td>1</td>\n",
       "    </tr>\n",
       "    <tr>\n",
       "      <th>/c/en/person/n</th>\n",
       "      <td>1</td>\n",
       "      <td>1</td>\n",
       "      <td>/a/[/r/IsA/,/c/en/player/n/wn/person/,/c/en/person/n/wn/]</td>\n",
       "      <td>1</td>\n",
       "      <td>1</td>\n",
       "      <td>1</td>\n",
       "      <td>/c/en/player/n/wn/person</td>\n",
       "      <td>1</td>\n",
       "      <td>1</td>\n",
       "      <td>1</td>\n",
       "      <td>/c/en/person/n/wn</td>\n",
       "      <td>1</td>\n",
       "      <td>1</td>\n",
       "      <td>1</td>\n",
       "      <td>/r/IsA</td>\n",
       "      <td>1</td>\n",
       "      <td>1</td>\n",
       "      <td>1</td>\n",
       "      <td>/c/en/player/n</td>\n",
       "      <td>1</td>\n",
       "      <td>1</td>\n",
       "      <td>1</td>\n",
       "      <td>/c/en/person/n</td>\n",
       "      <td>1</td>\n",
       "    </tr>\n",
       "    <tr>\n",
       "      <th>/c/en/pot/n</th>\n",
       "      <td>1</td>\n",
       "      <td>1</td>\n",
       "      <td>/a/[/r/Synonym/,/c/en/pot/n/wn/artifact/,/c/en/toilet/n/wn/artifact/]</td>\n",
       "      <td>1</td>\n",
       "      <td>1</td>\n",
       "      <td>1</td>\n",
       "      <td>/c/en/pot/n/wn/artifact</td>\n",
       "      <td>1</td>\n",
       "      <td>1</td>\n",
       "      <td>1</td>\n",
       "      <td>/c/en/toilet/n/wn/artifact</td>\n",
       "      <td>1</td>\n",
       "      <td>1</td>\n",
       "      <td>1</td>\n",
       "      <td>/r/Synonym</td>\n",
       "      <td>1</td>\n",
       "      <td>1</td>\n",
       "      <td>1</td>\n",
       "      <td>/c/en/pot/n</td>\n",
       "      <td>1</td>\n",
       "      <td>1</td>\n",
       "      <td>1</td>\n",
       "      <td>/c/en/toilet/n</td>\n",
       "      <td>1</td>\n",
       "    </tr>\n",
       "    <tr>\n",
       "      <th>/c/en/roof/n</th>\n",
       "      <td>1</td>\n",
       "      <td>1</td>\n",
       "      <td>/a/[/r/PartOf/,/c/en/roof/n/wn/artifact/,/c/en/truck/n/wn/artifact/]</td>\n",
       "      <td>1</td>\n",
       "      <td>1</td>\n",
       "      <td>1</td>\n",
       "      <td>/c/en/roof/n/wn/artifact</td>\n",
       "      <td>1</td>\n",
       "      <td>1</td>\n",
       "      <td>1</td>\n",
       "      <td>/c/en/truck/n/wn/artifact</td>\n",
       "      <td>1</td>\n",
       "      <td>1</td>\n",
       "      <td>1</td>\n",
       "      <td>/r/PartOf</td>\n",
       "      <td>1</td>\n",
       "      <td>1</td>\n",
       "      <td>1</td>\n",
       "      <td>/c/en/roof/n</td>\n",
       "      <td>1</td>\n",
       "      <td>1</td>\n",
       "      <td>1</td>\n",
       "      <td>/c/en/truck/n</td>\n",
       "      <td>1</td>\n",
       "    </tr>\n",
       "    <tr>\n",
       "      <th>/c/en/room/n</th>\n",
       "      <td>1</td>\n",
       "      <td>1</td>\n",
       "      <td>/a/[/r/IsA/,/c/en/toilet/n/wn/artifact/,/c/en/room/n/wn/artifact/]</td>\n",
       "      <td>1</td>\n",
       "      <td>1</td>\n",
       "      <td>1</td>\n",
       "      <td>/c/en/toilet/n/wn/artifact</td>\n",
       "      <td>1</td>\n",
       "      <td>1</td>\n",
       "      <td>1</td>\n",
       "      <td>/c/en/room/n/wn/artifact</td>\n",
       "      <td>1</td>\n",
       "      <td>1</td>\n",
       "      <td>1</td>\n",
       "      <td>/r/IsA</td>\n",
       "      <td>1</td>\n",
       "      <td>1</td>\n",
       "      <td>1</td>\n",
       "      <td>/c/en/toilet/n</td>\n",
       "      <td>1</td>\n",
       "      <td>1</td>\n",
       "      <td>1</td>\n",
       "      <td>/c/en/room/n</td>\n",
       "      <td>1</td>\n",
       "    </tr>\n",
       "    <tr>\n",
       "      <th>/c/en/screen/n</th>\n",
       "      <td>1</td>\n",
       "      <td>1</td>\n",
       "      <td>/a/[/r/IsA/,/c/en/windshield/n/wn/artifact/,/c/en/screen/n/wn/artifact/]</td>\n",
       "      <td>1</td>\n",
       "      <td>1</td>\n",
       "      <td>1</td>\n",
       "      <td>/c/en/windshield/n/wn/artifact</td>\n",
       "      <td>1</td>\n",
       "      <td>1</td>\n",
       "      <td>1</td>\n",
       "      <td>/c/en/screen/n/wn/artifact</td>\n",
       "      <td>1</td>\n",
       "      <td>1</td>\n",
       "      <td>1</td>\n",
       "      <td>/r/IsA</td>\n",
       "      <td>1</td>\n",
       "      <td>1</td>\n",
       "      <td>1</td>\n",
       "      <td>/c/en/windshield/n</td>\n",
       "      <td>1</td>\n",
       "      <td>1</td>\n",
       "      <td>1</td>\n",
       "      <td>/c/en/screen/n</td>\n",
       "      <td>1</td>\n",
       "    </tr>\n",
       "    <tr>\n",
       "      <th>/c/en/stand/n</th>\n",
       "      <td>1</td>\n",
       "      <td>1</td>\n",
       "      <td>/a/[/r/IsA/,/c/en/stand/n/wn/artifact/,/c/en/table/n/wn/artifact/]</td>\n",
       "      <td>1</td>\n",
       "      <td>1</td>\n",
       "      <td>1</td>\n",
       "      <td>/c/en/stand/n/wn/artifact</td>\n",
       "      <td>1</td>\n",
       "      <td>1</td>\n",
       "      <td>1</td>\n",
       "      <td>/c/en/table/n/wn/artifact</td>\n",
       "      <td>1</td>\n",
       "      <td>1</td>\n",
       "      <td>1</td>\n",
       "      <td>/r/IsA</td>\n",
       "      <td>1</td>\n",
       "      <td>1</td>\n",
       "      <td>1</td>\n",
       "      <td>/c/en/stand/n</td>\n",
       "      <td>1</td>\n",
       "      <td>1</td>\n",
       "      <td>1</td>\n",
       "      <td>/c/en/table/n</td>\n",
       "      <td>1</td>\n",
       "    </tr>\n",
       "    <tr>\n",
       "      <th>/c/en/tree/n</th>\n",
       "      <td>1</td>\n",
       "      <td>1</td>\n",
       "      <td>/a/[/r/PartOf/,/c/en/trunk/n/wn/plant/,/c/en/tree/n/wn/plant/]</td>\n",
       "      <td>1</td>\n",
       "      <td>1</td>\n",
       "      <td>1</td>\n",
       "      <td>/c/en/trunk/n/wn/plant</td>\n",
       "      <td>1</td>\n",
       "      <td>1</td>\n",
       "      <td>1</td>\n",
       "      <td>/c/en/tree/n/wn/plant</td>\n",
       "      <td>1</td>\n",
       "      <td>1</td>\n",
       "      <td>1</td>\n",
       "      <td>/r/PartOf</td>\n",
       "      <td>1</td>\n",
       "      <td>1</td>\n",
       "      <td>1</td>\n",
       "      <td>/c/en/trunk/n</td>\n",
       "      <td>1</td>\n",
       "      <td>1</td>\n",
       "      <td>1</td>\n",
       "      <td>/c/en/tree/n</td>\n",
       "      <td>1</td>\n",
       "    </tr>\n",
       "    <tr>\n",
       "      <th>/c/en/wave/n</th>\n",
       "      <td>1</td>\n",
       "      <td>1</td>\n",
       "      <td>/a/[/r/IsA/,/c/en/wave/n/wn/person/,/c/en/woman/n/wn/person/]</td>\n",
       "      <td>1</td>\n",
       "      <td>1</td>\n",
       "      <td>1</td>\n",
       "      <td>/c/en/wave/n/wn/person</td>\n",
       "      <td>1</td>\n",
       "      <td>1</td>\n",
       "      <td>1</td>\n",
       "      <td>/c/en/woman/n/wn/person</td>\n",
       "      <td>1</td>\n",
       "      <td>1</td>\n",
       "      <td>1</td>\n",
       "      <td>/r/IsA</td>\n",
       "      <td>1</td>\n",
       "      <td>1</td>\n",
       "      <td>1</td>\n",
       "      <td>/c/en/wave/n</td>\n",
       "      <td>1</td>\n",
       "      <td>1</td>\n",
       "      <td>1</td>\n",
       "      <td>/c/en/woman/n</td>\n",
       "      <td>1</td>\n",
       "    </tr>\n",
       "  </tbody>\n",
       "</table>\n",
       "</div>"
      ],
      "text/plain": [
       "                 edge_id         \\\n",
       "                   count unique   \n",
       "cn_id                             \n",
       "/c/en/airplane/n       3      3   \n",
       "/c/en/animal/n         6      6   \n",
       "/c/en/arm/n            3      3   \n",
       "/c/en/bear/n           1      1   \n",
       "/c/en/bed/n            2      2   \n",
       "/c/en/bench/n          4      4   \n",
       "/c/en/bicycle/n        1      1   \n",
       "/c/en/bird/n           3      3   \n",
       "/c/en/board/n          3      3   \n",
       "/c/en/book/n           2      2   \n",
       "/c/en/boot/n           4      4   \n",
       "/c/en/bottle/n         1      1   \n",
       "/c/en/bowl/n           1      1   \n",
       "/c/en/box/n            4      4   \n",
       "/c/en/branch/n         1      1   \n",
       "/c/en/building/n       5      5   \n",
       "/c/en/bus/n            3      3   \n",
       "/c/en/cabinet/n        1      1   \n",
       "/c/en/car/n            2      2   \n",
       "/c/en/cat/n            2      2   \n",
       "/c/en/chair/n          4      4   \n",
       "/c/en/child/n          1      1   \n",
       "/c/en/clock/n          1      1   \n",
       "/c/en/coat/n           3      3   \n",
       "/c/en/counter/n        3      3   \n",
       "/c/en/curtain/n        1      1   \n",
       "/c/en/desk/n           3      3   \n",
       "/c/en/dog/n            1      1   \n",
       "/c/en/door/n           1      1   \n",
       "/c/en/ear/n            2      2   \n",
       "/c/en/eye/n            1      1   \n",
       "/c/en/face/n           6      6   \n",
       "/c/en/finger/n         2      2   \n",
       "/c/en/flag/n           1      1   \n",
       "/c/en/guy/n            1      1   \n",
       "/c/en/gym_shoe/n       1      1   \n",
       "/c/en/hand/n           1      1   \n",
       "/c/en/handle/n         2      2   \n",
       "/c/en/head/n           1      1   \n",
       "/c/en/lady/n           1      1   \n",
       "/c/en/lamp/n           2      2   \n",
       "/c/en/leg/n            1      1   \n",
       "/c/en/man/n            2      2   \n",
       "/c/en/nose/n           1      1   \n",
       "/c/en/person/n         1      1   \n",
       "/c/en/pot/n            1      1   \n",
       "/c/en/roof/n           1      1   \n",
       "/c/en/room/n           1      1   \n",
       "/c/en/screen/n         1      1   \n",
       "/c/en/stand/n          1      1   \n",
       "/c/en/tree/n           1      1   \n",
       "/c/en/wave/n           1      1   \n",
       "\n",
       "                                                                                                                    \\\n",
       "                                                                                                               top   \n",
       "cn_id                                                                                                                \n",
       "/c/en/airplane/n                     /a/[/r/PartOf/,/c/en/windshield/n/wn/artifact/,/c/en/airplane/n/wn/artifact/]   \n",
       "/c/en/animal/n                                            /a/[/r/PartOf/,/c/en/face/n/wn/body/,/c/en/animal/n/wn/]   \n",
       "/c/en/arm/n                                        /a/[/r/Synonym/,/c/en/arm/n/wn/group/,/c/en/branch/n/wn/group/]   \n",
       "/c/en/bear/n      /a/[/r/IsA/,/c/en/bear/n/opencyc/dispositionally_pessimistic_securities_trader/,/c/en/person/n/]   \n",
       "/c/en/bed/n                                         /a/[/r/RelatedTo/,/c/en/bed/n/wn/artifact/,/c/en/person/n/wn/]   \n",
       "/c/en/bench/n                               /a/[/r/RelatedTo/,/c/en/bench/n/wn/artifact/,/c/en/people/n/wn/group/]   \n",
       "/c/en/bicycle/n                           /a/[/r/Synonym/,/c/en/wheel/n/wn/artifact/,/c/en/bicycle/n/wn/artifact/]   \n",
       "/c/en/bird/n                                                      /a/[/r/IsA/,/c/en/kite/n/wp/bird/,/c/en/bird/n/]   \n",
       "/c/en/board/n                               /a/[/r/IsA/,/c/en/surfboard/n/wn/artifact/,/c/en/board/n/wn/artifact/]   \n",
       "/c/en/book/n                                                  /a/[/r/IsA/,/c/en/curtain/n/wp/novel/,/c/en/book/n/]   \n",
       "/c/en/boot/n                                /a/[/r/PartOf/,/c/en/counter/n/wn/artifact/,/c/en/boot/n/wn/artifact/]   \n",
       "/c/en/bottle/n                              /a/[/r/PartOf/,/c/en/mouth/n/wn/artifact/,/c/en/bottle/n/wn/artifact/]   \n",
       "/c/en/bowl/n                                         /a/[/r/RelatedTo/,/c/en/bowl/n/wn/artifact/,/c/en/food/n/wn/]   \n",
       "/c/en/box/n                                        /a/[/r/IsA/,/c/en/box/n/wn/artifact/,/c/en/seat/n/wn/artifact/]   \n",
       "/c/en/branch/n                                     /a/[/r/Synonym/,/c/en/leg/n/wn/shape/,/c/en/branch/n/wn/shape/]   \n",
       "/c/en/building/n                             /a/[/r/IsA/,/c/en/house/n/wn/artifact/,/c/en/building/n/wn/artifact/]   \n",
       "/c/en/bus/n                                     /a/[/r/PartOf/,/c/en/roof/n/wn/artifact/,/c/en/bus/n/wn/artifact/]   \n",
       "/c/en/cabinet/n                            /a/[/r/PartOf/,/c/en/shelf/n/wn/artifact/,/c/en/cabinet/n/wn/artifact/]   \n",
       "/c/en/car/n                                     /a/[/r/PartOf/,/c/en/roof/n/wn/artifact/,/c/en/car/n/wn/artifact/]   \n",
       "/c/en/cat/n                                         /a/[/r/Synonym/,/c/en/cat/n/wn/person/,/c/en/guy/n/wn/person/]   \n",
       "/c/en/chair/n                                  /a/[/r/PartOf/,/c/en/leg/n/wn/artifact/,/c/en/chair/n/wn/artifact/]   \n",
       "/c/en/child/n                                             /a/[/r/IsA/,/c/en/child/n/wn/person/,/c/en/person/n/wn/]   \n",
       "/c/en/clock/n                                 /a/[/r/UsedFor/,/c/en/clock/n/wn/artifact/,/c/en/people/n/wn/group/]   \n",
       "/c/en/coat/n                                            /a/[/r/IsA/,/c/en/coat/n/wn/animal/,/c/en/hair/n/wn/body/]   \n",
       "/c/en/counter/n                                         /a/[/r/IsA/,/c/en/counter/n/wn/person/,/c/en/person/n/wn/]   \n",
       "/c/en/curtain/n                        /a/[/r/RelatedTo/,/c/en/curtain/n/wn/artifact/,/c/en/window/n/wn/artifact/]   \n",
       "/c/en/desk/n                            /a/[/r/IsA/,/c/en/desk/n/,/c/en/table/n/opencyc/table_piece_of_furniture/]   \n",
       "/c/en/dog/n                                         /a/[/r/PartOf/,/c/en/flag/n/wn/animal/,/c/en/dog/n/wn/animal/]   \n",
       "/c/en/door/n                                      /a/[/r/IsA/,/c/en/door/n/wn/artifact/,/c/en/room/n/wn/artifact/]   \n",
       "/c/en/ear/n                                             /a/[/r/IsA/,/c/en/ear/n/wn/plant/,/c/en/fruit/n/wn/plant/]   \n",
       "/c/en/eye/n                                             /a/[/r/PartOf/,/c/en/eye/n/wn/body/,/c/en/face/n/wn/body/]   \n",
       "/c/en/face/n                                           /a/[/r/PartOf/,/c/en/nose/n/wn/body/,/c/en/face/n/wn/body/]   \n",
       "/c/en/finger/n                              /a/[/r/PartOf/,/c/en/finger/n/wn/artifact/,/c/en/glove/n/wn/artifact/]   \n",
       "/c/en/flag/n                                          /a/[/r/IsA/,/c/en/flag/n/wn/animal/,/c/en/tail/n/wn/animal/]   \n",
       "/c/en/guy/n                                             /a/[/r/IsA/,/c/en/guy/n/wn/person/,/c/en/man/n/wn/person/]   \n",
       "/c/en/gym_shoe/n                              /a/[/r/IsA/,/c/en/gym_shoe/n/wn/artifact/,/c/en/shoe/n/wn/artifact/]   \n",
       "/c/en/hand/n                                           /a/[/r/Synonym/,/c/en/paw/n/wn/body/,/c/en/hand/n/wn/body/]   \n",
       "/c/en/handle/n                           /a/[/r/PartOf/,/c/en/handle/n/wn/artifact/,/c/en/umbrella/n/wn/artifact/]   \n",
       "/c/en/head/n                                    /a/[/r/IsA/,/c/en/head/n/wn/artifact/,/c/en/toilet/n/wn/artifact/]   \n",
       "/c/en/lady/n                                         /a/[/r/IsA/,/c/en/lady/n/wn/person/,/c/en/woman/n/wn/person/]   \n",
       "/c/en/lamp/n                                  /a/[/r/UsedFor/,/c/en/lamp/n/wn/artifact/,/c/en/light/n/wn/physics/]   \n",
       "/c/en/leg/n                                    /a/[/r/PartOf/,/c/en/leg/n/wn/artifact/,/c/en/table/n/wn/artifact/]   \n",
       "/c/en/man/n                                        /a/[/r/IsA/,/c/en/tile/n/wn/artifact/,/c/en/man/n/wn/artifact/]   \n",
       "/c/en/nose/n                                     /a/[/r/IsA/,/c/en/trunk/n/opencyc/trunk_appendage/,/c/en/nose/n/]   \n",
       "/c/en/person/n                                           /a/[/r/IsA/,/c/en/player/n/wn/person/,/c/en/person/n/wn/]   \n",
       "/c/en/pot/n                                  /a/[/r/Synonym/,/c/en/pot/n/wn/artifact/,/c/en/toilet/n/wn/artifact/]   \n",
       "/c/en/roof/n                                  /a/[/r/PartOf/,/c/en/roof/n/wn/artifact/,/c/en/truck/n/wn/artifact/]   \n",
       "/c/en/room/n                                    /a/[/r/IsA/,/c/en/toilet/n/wn/artifact/,/c/en/room/n/wn/artifact/]   \n",
       "/c/en/screen/n                            /a/[/r/IsA/,/c/en/windshield/n/wn/artifact/,/c/en/screen/n/wn/artifact/]   \n",
       "/c/en/stand/n                                   /a/[/r/IsA/,/c/en/stand/n/wn/artifact/,/c/en/table/n/wn/artifact/]   \n",
       "/c/en/tree/n                                        /a/[/r/PartOf/,/c/en/trunk/n/wn/plant/,/c/en/tree/n/wn/plant/]   \n",
       "/c/en/wave/n                                         /a/[/r/IsA/,/c/en/wave/n/wn/person/,/c/en/woman/n/wn/person/]   \n",
       "\n",
       "                      edge_start_raw         \\\n",
       "                 freq          count unique   \n",
       "cn_id                                         \n",
       "/c/en/airplane/n    1              3      3   \n",
       "/c/en/animal/n      1              6      6   \n",
       "/c/en/arm/n         1              3      3   \n",
       "/c/en/bear/n        1              1      1   \n",
       "/c/en/bed/n         1              2      1   \n",
       "/c/en/bench/n       1              4      3   \n",
       "/c/en/bicycle/n     1              1      1   \n",
       "/c/en/bird/n        1              3      3   \n",
       "/c/en/board/n       1              3      3   \n",
       "/c/en/book/n        1              2      2   \n",
       "/c/en/boot/n        1              4      4   \n",
       "/c/en/bottle/n      1              1      1   \n",
       "/c/en/bowl/n        1              1      1   \n",
       "/c/en/box/n         1              4      3   \n",
       "/c/en/branch/n      1              1      1   \n",
       "/c/en/building/n    1              5      5   \n",
       "/c/en/bus/n         1              3      3   \n",
       "/c/en/cabinet/n     1              1      1   \n",
       "/c/en/car/n         1              2      2   \n",
       "/c/en/cat/n         1              2      1   \n",
       "/c/en/chair/n       1              4      3   \n",
       "/c/en/child/n       1              1      1   \n",
       "/c/en/clock/n       1              1      1   \n",
       "/c/en/coat/n        1              3      3   \n",
       "/c/en/counter/n     1              3      2   \n",
       "/c/en/curtain/n     1              1      1   \n",
       "/c/en/desk/n        1              3      3   \n",
       "/c/en/dog/n         1              1      1   \n",
       "/c/en/door/n        1              1      1   \n",
       "/c/en/ear/n         1              2      2   \n",
       "/c/en/eye/n         1              1      1   \n",
       "/c/en/face/n        1              6      5   \n",
       "/c/en/finger/n      1              2      2   \n",
       "/c/en/flag/n        1              1      1   \n",
       "/c/en/guy/n         1              1      1   \n",
       "/c/en/gym_shoe/n    1              1      1   \n",
       "/c/en/hand/n        1              1      1   \n",
       "/c/en/handle/n      1              2      1   \n",
       "/c/en/head/n        1              1      1   \n",
       "/c/en/lady/n        1              1      1   \n",
       "/c/en/lamp/n        1              2      1   \n",
       "/c/en/leg/n         1              1      1   \n",
       "/c/en/man/n         1              2      2   \n",
       "/c/en/nose/n        1              1      1   \n",
       "/c/en/person/n      1              1      1   \n",
       "/c/en/pot/n         1              1      1   \n",
       "/c/en/roof/n        1              1      1   \n",
       "/c/en/room/n        1              1      1   \n",
       "/c/en/screen/n      1              1      1   \n",
       "/c/en/stand/n       1              1      1   \n",
       "/c/en/tree/n        1              1      1   \n",
       "/c/en/wave/n        1              1      1   \n",
       "\n",
       "                                                                                      \\\n",
       "                                                                                 top   \n",
       "cn_id                                                                                  \n",
       "/c/en/airplane/n                                          /c/en/seat/n/wn/dramaturgy   \n",
       "/c/en/animal/n                                      /c/en/bear/n/opencyc/bear_animal   \n",
       "/c/en/arm/n                                               /c/en/branch/n/wn/artifact   \n",
       "/c/en/bear/n      /c/en/bear/n/opencyc/dispositionally_pessimistic_securities_trader   \n",
       "/c/en/bed/n                                                  /c/en/bed/n/wn/artifact   \n",
       "/c/en/bench/n                                              /c/en/bench/n/wn/artifact   \n",
       "/c/en/bicycle/n                                            /c/en/wheel/n/wn/artifact   \n",
       "/c/en/bird/n                                                    /c/en/wing/n/wn/food   \n",
       "/c/en/board/n                                          /c/en/surfboard/n/wn/artifact   \n",
       "/c/en/book/n                                                    /c/en/cat/n/wp/novel   \n",
       "/c/en/boot/n                                                /c/en/boot/n/wn/artifact   \n",
       "/c/en/bottle/n                                             /c/en/mouth/n/wn/artifact   \n",
       "/c/en/bowl/n                                                /c/en/bowl/n/wn/artifact   \n",
       "/c/en/box/n                                                  /c/en/box/n/wn/artifact   \n",
       "/c/en/branch/n                                                  /c/en/leg/n/wn/shape   \n",
       "/c/en/building/n                                          /c/en/window/n/wn/artifact   \n",
       "/c/en/bus/n                                                  /c/en/bus/n/wn/artifact   \n",
       "/c/en/cabinet/n                                            /c/en/shelf/n/wn/artifact   \n",
       "/c/en/car/n                                               /c/en/window/n/wn/artifact   \n",
       "/c/en/cat/n                                                    /c/en/cat/n/wn/person   \n",
       "/c/en/chair/n                                              /c/en/chair/n/wn/artifact   \n",
       "/c/en/child/n                                                /c/en/child/n/wn/person   \n",
       "/c/en/clock/n                                              /c/en/clock/n/wn/artifact   \n",
       "/c/en/coat/n                                                          /c/en/jacket/n   \n",
       "/c/en/counter/n                                          /c/en/counter/n/wn/artifact   \n",
       "/c/en/curtain/n                                          /c/en/curtain/n/wn/artifact   \n",
       "/c/en/desk/n                                              /c/en/drawer/n/wn/artifact   \n",
       "/c/en/dog/n                                                   /c/en/flag/n/wn/animal   \n",
       "/c/en/door/n                                                /c/en/door/n/wn/artifact   \n",
       "/c/en/ear/n                                                      /c/en/ear/n/wn/body   \n",
       "/c/en/eye/n                                                      /c/en/eye/n/wn/body   \n",
       "/c/en/face/n                                                /c/en/face/n/wn/artifact   \n",
       "/c/en/finger/n                                            /c/en/finger/n/wn/artifact   \n",
       "/c/en/flag/n                                                  /c/en/flag/n/wn/animal   \n",
       "/c/en/guy/n                                                    /c/en/guy/n/wn/person   \n",
       "/c/en/gym_shoe/n                                        /c/en/gym_shoe/n/wn/artifact   \n",
       "/c/en/hand/n                                                     /c/en/paw/n/wn/body   \n",
       "/c/en/handle/n                                            /c/en/handle/n/wn/artifact   \n",
       "/c/en/head/n                                                /c/en/head/n/wn/artifact   \n",
       "/c/en/lady/n                                                  /c/en/lady/n/wn/person   \n",
       "/c/en/lamp/n                                                /c/en/lamp/n/wn/artifact   \n",
       "/c/en/leg/n                                                  /c/en/leg/n/wn/artifact   \n",
       "/c/en/man/n                                                 /c/en/tile/n/wn/artifact   \n",
       "/c/en/nose/n                                   /c/en/trunk/n/opencyc/trunk_appendage   \n",
       "/c/en/person/n                                              /c/en/player/n/wn/person   \n",
       "/c/en/pot/n                                                  /c/en/pot/n/wn/artifact   \n",
       "/c/en/roof/n                                                /c/en/roof/n/wn/artifact   \n",
       "/c/en/room/n                                              /c/en/toilet/n/wn/artifact   \n",
       "/c/en/screen/n                                        /c/en/windshield/n/wn/artifact   \n",
       "/c/en/stand/n                                              /c/en/stand/n/wn/artifact   \n",
       "/c/en/tree/n                                                  /c/en/trunk/n/wn/plant   \n",
       "/c/en/wave/n                                                  /c/en/wave/n/wn/person   \n",
       "\n",
       "                      edge_end_raw         \\\n",
       "                 freq        count unique   \n",
       "cn_id                                       \n",
       "/c/en/airplane/n    1            3      1   \n",
       "/c/en/animal/n      1            6      2   \n",
       "/c/en/arm/n         1            3      3   \n",
       "/c/en/bear/n        1            1      1   \n",
       "/c/en/bed/n         2            2      2   \n",
       "/c/en/bench/n       2            4      3   \n",
       "/c/en/bicycle/n     1            1      1   \n",
       "/c/en/bird/n        1            3      3   \n",
       "/c/en/board/n       1            3      2   \n",
       "/c/en/book/n        1            2      1   \n",
       "/c/en/boot/n        1            4      3   \n",
       "/c/en/bottle/n      1            1      1   \n",
       "/c/en/bowl/n        1            1      1   \n",
       "/c/en/box/n         2            4      3   \n",
       "/c/en/branch/n      1            1      1   \n",
       "/c/en/building/n    1            5      2   \n",
       "/c/en/bus/n         1            3      2   \n",
       "/c/en/cabinet/n     1            1      1   \n",
       "/c/en/car/n         1            2      1   \n",
       "/c/en/cat/n         2            2      2   \n",
       "/c/en/chair/n       2            4      4   \n",
       "/c/en/child/n       1            1      1   \n",
       "/c/en/clock/n       1            1      1   \n",
       "/c/en/coat/n        1            3      3   \n",
       "/c/en/counter/n     2            3      3   \n",
       "/c/en/curtain/n     1            1      1   \n",
       "/c/en/desk/n        1            3      3   \n",
       "/c/en/dog/n         1            1      1   \n",
       "/c/en/door/n        1            1      1   \n",
       "/c/en/ear/n         1            2      2   \n",
       "/c/en/eye/n         1            1      1   \n",
       "/c/en/face/n        2            6      5   \n",
       "/c/en/finger/n      1            2      2   \n",
       "/c/en/flag/n        1            1      1   \n",
       "/c/en/guy/n         1            1      1   \n",
       "/c/en/gym_shoe/n    1            1      1   \n",
       "/c/en/hand/n        1            1      1   \n",
       "/c/en/handle/n      2            2      2   \n",
       "/c/en/head/n        1            1      1   \n",
       "/c/en/lady/n        1            1      1   \n",
       "/c/en/lamp/n        2            2      1   \n",
       "/c/en/leg/n         1            1      1   \n",
       "/c/en/man/n         1            2      2   \n",
       "/c/en/nose/n        1            1      1   \n",
       "/c/en/person/n      1            1      1   \n",
       "/c/en/pot/n         1            1      1   \n",
       "/c/en/roof/n        1            1      1   \n",
       "/c/en/room/n        1            1      1   \n",
       "/c/en/screen/n      1            1      1   \n",
       "/c/en/stand/n       1            1      1   \n",
       "/c/en/tree/n        1            1      1   \n",
       "/c/en/wave/n        1            1      1   \n",
       "\n",
       "                                                                       \\\n",
       "                                                             top freq   \n",
       "cn_id                                                                   \n",
       "/c/en/airplane/n                    /c/en/airplane/n/wn/artifact    3   \n",
       "/c/en/animal/n                                 /c/en/animal/n/wn    3   \n",
       "/c/en/arm/n                              /c/en/branch/n/wn/group    1   \n",
       "/c/en/bear/n                                      /c/en/person/n    1   \n",
       "/c/en/bed/n                              /c/en/plant/n/wn/botany    1   \n",
       "/c/en/bench/n                           /c/en/seat/n/wn/artifact    2   \n",
       "/c/en/bicycle/n                      /c/en/bicycle/n/wn/artifact    1   \n",
       "/c/en/bird/n                              /c/en/bird/n/wn/animal    1   \n",
       "/c/en/board/n                          /c/en/board/n/wn/artifact    2   \n",
       "/c/en/book/n                                        /c/en/book/n    2   \n",
       "/c/en/boot/n                            /c/en/boot/n/wn/artifact    2   \n",
       "/c/en/bottle/n                        /c/en/bottle/n/wn/artifact    1   \n",
       "/c/en/bowl/n                                     /c/en/food/n/wn    1   \n",
       "/c/en/box/n                                          /c/en/box/n    2   \n",
       "/c/en/branch/n                           /c/en/branch/n/wn/shape    1   \n",
       "/c/en/building/n                    /c/en/building/n/wn/artifact    4   \n",
       "/c/en/bus/n                              /c/en/bus/n/wn/artifact    2   \n",
       "/c/en/cabinet/n                      /c/en/cabinet/n/wn/artifact    1   \n",
       "/c/en/car/n                              /c/en/car/n/wn/artifact    2   \n",
       "/c/en/cat/n                                /c/en/guy/n/wn/person    1   \n",
       "/c/en/chair/n                /c/en/seat/n/opencyc/seating_device    1   \n",
       "/c/en/child/n                                  /c/en/person/n/wn    1   \n",
       "/c/en/clock/n                            /c/en/people/n/wn/group    1   \n",
       "/c/en/coat/n                                        /c/en/coat/n    1   \n",
       "/c/en/counter/n                                /c/en/person/n/wn    1   \n",
       "/c/en/curtain/n                       /c/en/window/n/wn/artifact    1   \n",
       "/c/en/desk/n      /c/en/table/n/opencyc/table_piece_of_furniture    1   \n",
       "/c/en/dog/n                                /c/en/dog/n/wn/animal    1   \n",
       "/c/en/door/n                            /c/en/room/n/wn/artifact    1   \n",
       "/c/en/ear/n                               /c/en/fruit/n/wn/plant    1   \n",
       "/c/en/eye/n                                 /c/en/face/n/wn/body    1   \n",
       "/c/en/face/n                                /c/en/face/n/wn/body    2   \n",
       "/c/en/finger/n                              /c/en/hand/n/wn/body    1   \n",
       "/c/en/flag/n                              /c/en/tail/n/wn/animal    1   \n",
       "/c/en/guy/n                                /c/en/man/n/wn/person    1   \n",
       "/c/en/gym_shoe/n                        /c/en/shoe/n/wn/artifact    1   \n",
       "/c/en/hand/n                                /c/en/hand/n/wn/body    1   \n",
       "/c/en/handle/n                        /c/en/racket/n/wn/artifact    1   \n",
       "/c/en/head/n                          /c/en/toilet/n/wn/artifact    1   \n",
       "/c/en/lady/n                             /c/en/woman/n/wn/person    1   \n",
       "/c/en/lamp/n                            /c/en/light/n/wn/physics    2   \n",
       "/c/en/leg/n                            /c/en/table/n/wn/artifact    1   \n",
       "/c/en/man/n                              /c/en/man/n/wn/artifact    1   \n",
       "/c/en/nose/n                                        /c/en/nose/n    1   \n",
       "/c/en/person/n                                 /c/en/person/n/wn    1   \n",
       "/c/en/pot/n                           /c/en/toilet/n/wn/artifact    1   \n",
       "/c/en/roof/n                           /c/en/truck/n/wn/artifact    1   \n",
       "/c/en/room/n                            /c/en/room/n/wn/artifact    1   \n",
       "/c/en/screen/n                        /c/en/screen/n/wn/artifact    1   \n",
       "/c/en/stand/n                          /c/en/table/n/wn/artifact    1   \n",
       "/c/en/tree/n                               /c/en/tree/n/wn/plant    1   \n",
       "/c/en/wave/n                             /c/en/woman/n/wn/person    1   \n",
       "\n",
       "                 predicate                           edge_start_matched  \\\n",
       "                     count unique           top freq              count   \n",
       "cn_id                                                                     \n",
       "/c/en/airplane/n         3      2     /r/PartOf    2                  3   \n",
       "/c/en/animal/n           6      3        /r/IsA    3                  6   \n",
       "/c/en/arm/n              3      2    /r/Synonym    2                  3   \n",
       "/c/en/bear/n             1      1        /r/IsA    1                  1   \n",
       "/c/en/bed/n              2      1  /r/RelatedTo    2                  2   \n",
       "/c/en/bench/n            4      2        /r/IsA    3                  4   \n",
       "/c/en/bicycle/n          1      1    /r/Synonym    1                  1   \n",
       "/c/en/bird/n             3      2     /r/PartOf    2                  3   \n",
       "/c/en/board/n            3      2        /r/IsA    2                  3   \n",
       "/c/en/book/n             2      1        /r/IsA    2                  2   \n",
       "/c/en/boot/n             4      3     /r/PartOf    2                  4   \n",
       "/c/en/bottle/n           1      1     /r/PartOf    1                  1   \n",
       "/c/en/bowl/n             1      1  /r/RelatedTo    1                  1   \n",
       "/c/en/box/n              4      2        /r/IsA    3                  4   \n",
       "/c/en/branch/n           1      1    /r/Synonym    1                  1   \n",
       "/c/en/building/n         5      2     /r/PartOf    3                  5   \n",
       "/c/en/bus/n              3      2     /r/PartOf    2                  3   \n",
       "/c/en/cabinet/n          1      1     /r/PartOf    1                  1   \n",
       "/c/en/car/n              2      1     /r/PartOf    2                  2   \n",
       "/c/en/cat/n              2      2        /r/IsA    1                  2   \n",
       "/c/en/chair/n            4      3        /r/IsA    2                  4   \n",
       "/c/en/child/n            1      1        /r/IsA    1                  1   \n",
       "/c/en/clock/n            1      1    /r/UsedFor    1                  1   \n",
       "/c/en/coat/n             3      1        /r/IsA    3                  3   \n",
       "/c/en/counter/n          3      2        /r/IsA    2                  3   \n",
       "/c/en/curtain/n          1      1  /r/RelatedTo    1                  1   \n",
       "/c/en/desk/n             3      2        /r/IsA    2                  3   \n",
       "/c/en/dog/n              1      1     /r/PartOf    1                  1   \n",
       "/c/en/door/n             1      1        /r/IsA    1                  1   \n",
       "/c/en/ear/n              2      2        /r/IsA    1                  2   \n",
       "/c/en/eye/n              1      1     /r/PartOf    1                  1   \n",
       "/c/en/face/n             6      2     /r/PartOf    5                  6   \n",
       "/c/en/finger/n           2      1     /r/PartOf    2                  2   \n",
       "/c/en/flag/n             1      1        /r/IsA    1                  1   \n",
       "/c/en/guy/n              1      1        /r/IsA    1                  1   \n",
       "/c/en/gym_shoe/n         1      1        /r/IsA    1                  1   \n",
       "/c/en/hand/n             1      1    /r/Synonym    1                  1   \n",
       "/c/en/handle/n           2      1     /r/PartOf    2                  2   \n",
       "/c/en/head/n             1      1        /r/IsA    1                  1   \n",
       "/c/en/lady/n             1      1        /r/IsA    1                  1   \n",
       "/c/en/lamp/n             2      2  /r/RelatedTo    1                  2   \n",
       "/c/en/leg/n              1      1     /r/PartOf    1                  1   \n",
       "/c/en/man/n              2      1        /r/IsA    2                  2   \n",
       "/c/en/nose/n             1      1        /r/IsA    1                  1   \n",
       "/c/en/person/n           1      1        /r/IsA    1                  1   \n",
       "/c/en/pot/n              1      1    /r/Synonym    1                  1   \n",
       "/c/en/roof/n             1      1     /r/PartOf    1                  1   \n",
       "/c/en/room/n             1      1        /r/IsA    1                  1   \n",
       "/c/en/screen/n           1      1        /r/IsA    1                  1   \n",
       "/c/en/stand/n            1      1        /r/IsA    1                  1   \n",
       "/c/en/tree/n             1      1     /r/PartOf    1                  1   \n",
       "/c/en/wave/n             1      1        /r/IsA    1                  1   \n",
       "\n",
       "                                                 edge_pd_matched         \\\n",
       "                 unique                 top freq           count unique   \n",
       "cn_id                                                                     \n",
       "/c/en/airplane/n      3        /c/en/seat/n    1               3      1   \n",
       "/c/en/animal/n        6        /c/en/nose/n    1               6      1   \n",
       "/c/en/arm/n           3        /c/en/hand/n    1               3      2   \n",
       "/c/en/bear/n          1        /c/en/bear/n    1               1      1   \n",
       "/c/en/bed/n           1         /c/en/bed/n    2               2      2   \n",
       "/c/en/bench/n         1       /c/en/bench/n    4               4      2   \n",
       "/c/en/bicycle/n       1       /c/en/wheel/n    1               1      1   \n",
       "/c/en/bird/n          2        /c/en/wing/n    2               3      1   \n",
       "/c/en/board/n         3       /c/en/table/n    1               3      1   \n",
       "/c/en/book/n          2     /c/en/curtain/n    1               2      1   \n",
       "/c/en/boot/n          3        /c/en/boot/n    2               4      3   \n",
       "/c/en/bottle/n        1       /c/en/mouth/n    1               1      1   \n",
       "/c/en/bowl/n          1        /c/en/bowl/n    1               1      1   \n",
       "/c/en/box/n           2     /c/en/cabinet/n    2               4      3   \n",
       "/c/en/branch/n        1         /c/en/leg/n    1               1      1   \n",
       "/c/en/building/n      4       /c/en/house/n    2               5      1   \n",
       "/c/en/bus/n           3         /c/en/bus/n    1               3      2   \n",
       "/c/en/cabinet/n       1       /c/en/shelf/n    1               1      1   \n",
       "/c/en/car/n           2      /c/en/window/n    1               2      1   \n",
       "/c/en/cat/n           1         /c/en/cat/n    2               2      2   \n",
       "/c/en/chair/n         2       /c/en/chair/n    3               4      3   \n",
       "/c/en/child/n         1       /c/en/child/n    1               1      1   \n",
       "/c/en/clock/n         1       /c/en/clock/n    1               1      1   \n",
       "/c/en/coat/n          2      /c/en/jacket/n    2               3      2   \n",
       "/c/en/counter/n       1     /c/en/counter/n    3               3      3   \n",
       "/c/en/curtain/n       1     /c/en/curtain/n    1               1      1   \n",
       "/c/en/desk/n          2        /c/en/desk/n    2               3      2   \n",
       "/c/en/dog/n           1        /c/en/flag/n    1               1      1   \n",
       "/c/en/door/n          1        /c/en/door/n    1               1      1   \n",
       "/c/en/ear/n           1         /c/en/ear/n    2               2      2   \n",
       "/c/en/eye/n           1         /c/en/eye/n    1               1      1   \n",
       "/c/en/face/n          3        /c/en/face/n    4               6      4   \n",
       "/c/en/finger/n        1      /c/en/finger/n    2               2      2   \n",
       "/c/en/flag/n          1        /c/en/flag/n    1               1      1   \n",
       "/c/en/guy/n           1         /c/en/guy/n    1               1      1   \n",
       "/c/en/gym_shoe/n      1    /c/en/gym_shoe/n    1               1      1   \n",
       "/c/en/hand/n          1         /c/en/paw/n    1               1      1   \n",
       "/c/en/handle/n        1      /c/en/handle/n    2               2      2   \n",
       "/c/en/head/n          1        /c/en/head/n    1               1      1   \n",
       "/c/en/lady/n          1        /c/en/lady/n    1               1      1   \n",
       "/c/en/lamp/n          1        /c/en/lamp/n    2               2      1   \n",
       "/c/en/leg/n           1         /c/en/leg/n    1               1      1   \n",
       "/c/en/man/n           2        /c/en/tile/n    1               2      2   \n",
       "/c/en/nose/n          1       /c/en/trunk/n    1               1      1   \n",
       "/c/en/person/n        1      /c/en/player/n    1               1      1   \n",
       "/c/en/pot/n           1         /c/en/pot/n    1               1      1   \n",
       "/c/en/roof/n          1        /c/en/roof/n    1               1      1   \n",
       "/c/en/room/n          1      /c/en/toilet/n    1               1      1   \n",
       "/c/en/screen/n        1  /c/en/windshield/n    1               1      1   \n",
       "/c/en/stand/n         1       /c/en/stand/n    1               1      1   \n",
       "/c/en/tree/n          1       /c/en/trunk/n    1               1      1   \n",
       "/c/en/wave/n          1        /c/en/wave/n    1               1      1   \n",
       "\n",
       "                                         \n",
       "                               top freq  \n",
       "cn_id                                    \n",
       "/c/en/airplane/n  /c/en/airplane/n    3  \n",
       "/c/en/animal/n      /c/en/animal/n    6  \n",
       "/c/en/arm/n            /c/en/arm/n    2  \n",
       "/c/en/bear/n        /c/en/person/n    1  \n",
       "/c/en/bed/n         /c/en/person/n    1  \n",
       "/c/en/bench/n         /c/en/seat/n    3  \n",
       "/c/en/bicycle/n    /c/en/bicycle/n    1  \n",
       "/c/en/bird/n          /c/en/bird/n    3  \n",
       "/c/en/board/n        /c/en/board/n    3  \n",
       "/c/en/book/n          /c/en/book/n    2  \n",
       "/c/en/boot/n          /c/en/boot/n    2  \n",
       "/c/en/bottle/n      /c/en/bottle/n    1  \n",
       "/c/en/bowl/n          /c/en/food/n    1  \n",
       "/c/en/box/n            /c/en/box/n    2  \n",
       "/c/en/branch/n      /c/en/branch/n    1  \n",
       "/c/en/building/n  /c/en/building/n    5  \n",
       "/c/en/bus/n            /c/en/bus/n    2  \n",
       "/c/en/cabinet/n    /c/en/cabinet/n    1  \n",
       "/c/en/car/n            /c/en/car/n    2  \n",
       "/c/en/cat/n          /c/en/woman/n    1  \n",
       "/c/en/chair/n         /c/en/seat/n    2  \n",
       "/c/en/child/n       /c/en/person/n    1  \n",
       "/c/en/clock/n       /c/en/people/n    1  \n",
       "/c/en/coat/n          /c/en/coat/n    2  \n",
       "/c/en/counter/n      /c/en/table/n    1  \n",
       "/c/en/curtain/n     /c/en/window/n    1  \n",
       "/c/en/desk/n         /c/en/table/n    2  \n",
       "/c/en/dog/n            /c/en/dog/n    1  \n",
       "/c/en/door/n          /c/en/room/n    1  \n",
       "/c/en/ear/n          /c/en/fruit/n    1  \n",
       "/c/en/eye/n           /c/en/face/n    1  \n",
       "/c/en/face/n          /c/en/face/n    2  \n",
       "/c/en/finger/n        /c/en/hand/n    1  \n",
       "/c/en/flag/n          /c/en/tail/n    1  \n",
       "/c/en/guy/n            /c/en/man/n    1  \n",
       "/c/en/gym_shoe/n      /c/en/shoe/n    1  \n",
       "/c/en/hand/n          /c/en/hand/n    1  \n",
       "/c/en/handle/n      /c/en/racket/n    1  \n",
       "/c/en/head/n        /c/en/toilet/n    1  \n",
       "/c/en/lady/n         /c/en/woman/n    1  \n",
       "/c/en/lamp/n         /c/en/light/n    2  \n",
       "/c/en/leg/n          /c/en/table/n    1  \n",
       "/c/en/man/n         /c/en/person/n    1  \n",
       "/c/en/nose/n          /c/en/nose/n    1  \n",
       "/c/en/person/n      /c/en/person/n    1  \n",
       "/c/en/pot/n         /c/en/toilet/n    1  \n",
       "/c/en/roof/n         /c/en/truck/n    1  \n",
       "/c/en/room/n          /c/en/room/n    1  \n",
       "/c/en/screen/n      /c/en/screen/n    1  \n",
       "/c/en/stand/n        /c/en/table/n    1  \n",
       "/c/en/tree/n          /c/en/tree/n    1  \n",
       "/c/en/wave/n         /c/en/woman/n    1  "
      ]
     },
     "execution_count": 326,
     "metadata": {},
     "output_type": "execute_result"
    }
   ],
   "source": [
    "df_unique_72.groupby('cn_id').describe()"
   ]
  },
  {
   "cell_type": "code",
   "execution_count": 404,
   "metadata": {},
   "outputs": [],
   "source": [
    "df_unique_72.groupby('cn_id').count().to_csv('counts_new.csv')"
   ]
  },
  {
   "cell_type": "code",
   "execution_count": 463,
   "metadata": {},
   "outputs": [],
   "source": [
    "unique_edge_ids_new = df_unique['edge_id'].unique()\n",
    "unique_edge_ids_old = load_obj('unique_edge_ids_old')"
   ]
  },
  {
   "cell_type": "code",
   "execution_count": 464,
   "metadata": {},
   "outputs": [
    {
     "data": {
      "text/plain": [
       "103"
      ]
     },
     "execution_count": 464,
     "metadata": {},
     "output_type": "execute_result"
    }
   ],
   "source": [
    "len(unique_edge_ids_new)"
   ]
  },
  {
   "cell_type": "code",
   "execution_count": 465,
   "metadata": {},
   "outputs": [
    {
     "data": {
      "text/plain": [
       "103"
      ]
     },
     "execution_count": 465,
     "metadata": {},
     "output_type": "execute_result"
    }
   ],
   "source": [
    "len(unique_edge_ids_old)"
   ]
  },
  {
   "cell_type": "code",
   "execution_count": 467,
   "metadata": {},
   "outputs": [],
   "source": [
    "set_unique_edge_ids_new = set(unique_edge_ids_new)\n",
    "set_unique_edge_ids_old = set(unique_edge_ids_old)\n"
   ]
  },
  {
   "cell_type": "code",
   "execution_count": 469,
   "metadata": {},
   "outputs": [
    {
     "data": {
      "text/plain": [
       "103"
      ]
     },
     "execution_count": 469,
     "metadata": {},
     "output_type": "execute_result"
    }
   ],
   "source": [
    "len(set_unique_edge_ids_new.intersection(set_unique_edge_ids_old))"
   ]
  },
  {
   "cell_type": "code",
   "execution_count": 470,
   "metadata": {},
   "outputs": [
    {
     "data": {
      "text/plain": [
       "103"
      ]
     },
     "execution_count": 470,
     "metadata": {},
     "output_type": "execute_result"
    }
   ],
   "source": [
    "len(set_unique_edge_ids_new.union(set_unique_edge_ids_old))"
   ]
  },
  {
   "cell_type": "code",
   "execution_count": 471,
   "metadata": {},
   "outputs": [
    {
     "data": {
      "text/plain": [
       "set()"
      ]
     },
     "execution_count": 471,
     "metadata": {},
     "output_type": "execute_result"
    }
   ],
   "source": [
    "set_unique_edge_ids_new-set_unique_edge_ids_old"
   ]
  },
  {
   "cell_type": "code",
   "execution_count": 472,
   "metadata": {},
   "outputs": [
    {
     "data": {
      "text/plain": [
       "set()"
      ]
     },
     "execution_count": 472,
     "metadata": {},
     "output_type": "execute_result"
    }
   ],
   "source": [
    "set_unique_edge_ids_old-set_unique_edge_ids_new"
   ]
  },
  {
   "cell_type": "code",
   "execution_count": 405,
   "metadata": {},
   "outputs": [],
   "source": [
    "df_counts_new = pd.read_csv('counts_new.csv')\n",
    "df_counts_old = pd.read_csv('counts_old.csv')"
   ]
  },
  {
   "cell_type": "code",
   "execution_count": 409,
   "metadata": {
    "scrolled": true
   },
   "outputs": [
    {
     "data": {
      "text/plain": [
       "0     /c/en/airplane/n\n",
       "1       /c/en/animal/n\n",
       "2          /c/en/arm/n\n",
       "3         /c/en/bear/n\n",
       "4          /c/en/bed/n\n",
       "5        /c/en/bench/n\n",
       "6      /c/en/bicycle/n\n",
       "7         /c/en/bird/n\n",
       "8        /c/en/board/n\n",
       "9         /c/en/book/n\n",
       "10        /c/en/boot/n\n",
       "11      /c/en/bottle/n\n",
       "12        /c/en/bowl/n\n",
       "13         /c/en/box/n\n",
       "14      /c/en/branch/n\n",
       "15    /c/en/building/n\n",
       "16         /c/en/bus/n\n",
       "17     /c/en/cabinet/n\n",
       "18         /c/en/car/n\n",
       "19         /c/en/cat/n\n",
       "20       /c/en/chair/n\n",
       "21       /c/en/child/n\n",
       "22       /c/en/clock/n\n",
       "23        /c/en/coat/n\n",
       "24     /c/en/counter/n\n",
       "25     /c/en/curtain/n\n",
       "26        /c/en/desk/n\n",
       "27         /c/en/dog/n\n",
       "28        /c/en/door/n\n",
       "29         /c/en/ear/n\n",
       "30         /c/en/eye/n\n",
       "31        /c/en/face/n\n",
       "32      /c/en/finger/n\n",
       "33        /c/en/flag/n\n",
       "34         /c/en/guy/n\n",
       "35    /c/en/gym_shoe/n\n",
       "36        /c/en/hand/n\n",
       "37      /c/en/handle/n\n",
       "38        /c/en/head/n\n",
       "39        /c/en/lady/n\n",
       "40        /c/en/lamp/n\n",
       "41         /c/en/leg/n\n",
       "42         /c/en/man/n\n",
       "43        /c/en/nose/n\n",
       "44      /c/en/person/n\n",
       "45         /c/en/pot/n\n",
       "46        /c/en/roof/n\n",
       "47        /c/en/room/n\n",
       "48      /c/en/screen/n\n",
       "49       /c/en/stand/n\n",
       "50        /c/en/tree/n\n",
       "51        /c/en/wave/n\n",
       "Name: cn_id, dtype: object"
      ]
     },
     "execution_count": 409,
     "metadata": {},
     "output_type": "execute_result"
    }
   ],
   "source": [
    "df_counts_new['cn_id']"
   ]
  },
  {
   "cell_type": "code",
   "execution_count": 418,
   "metadata": {},
   "outputs": [
    {
     "data": {
      "text/plain": [
       "52"
      ]
     },
     "execution_count": 418,
     "metadata": {},
     "output_type": "execute_result"
    }
   ],
   "source": [
    "len(df_counts_new['cn_id'].unique().to_list())"
   ]
  },
  {
   "cell_type": "code",
   "execution_count": 424,
   "metadata": {},
   "outputs": [
    {
     "data": {
      "text/plain": [
       "85"
      ]
     },
     "execution_count": 424,
     "metadata": {},
     "output_type": "execute_result"
    }
   ],
   "source": [
    "len(df_counts_old['cn_id'].to_list())"
   ]
  },
  {
   "cell_type": "code",
   "execution_count": 427,
   "metadata": {},
   "outputs": [],
   "source": [
    "cn_ids_new = df_counts_new['cn_id'].to_list()\n",
    "cn_ids_old = df_counts_old['cn_id'].to_list()"
   ]
  },
  {
   "cell_type": "code",
   "execution_count": 429,
   "metadata": {},
   "outputs": [
    {
     "name": "stdout",
     "output_type": "stream",
     "text": [
      "85\n"
     ]
    }
   ],
   "source": [
    "len(set(cn_ids_new)) # 52\n",
    "print(len(set(cn_ids_old))) # 82"
   ]
  },
  {
   "cell_type": "code",
   "execution_count": 432,
   "metadata": {},
   "outputs": [
    {
     "data": {
      "text/plain": [
       "{'/c/en/drawer/n',\n",
       " '/c/en/food/n',\n",
       " '/c/en/fruit/n',\n",
       " '/c/en/glove/n',\n",
       " '/c/en/hair/n',\n",
       " '/c/en/horse/n',\n",
       " '/c/en/house/n',\n",
       " '/c/en/jacket/n',\n",
       " '/c/en/kite/n',\n",
       " '/c/en/light/n',\n",
       " '/c/en/mouth/n',\n",
       " '/c/en/paw/n',\n",
       " '/c/en/people/n',\n",
       " '/c/en/plant/n',\n",
       " '/c/en/player/n',\n",
       " '/c/en/racket/n',\n",
       " '/c/en/seat/n',\n",
       " '/c/en/shelf/n',\n",
       " '/c/en/shoe/n',\n",
       " '/c/en/skateboard/n',\n",
       " '/c/en/surfboard/n',\n",
       " '/c/en/table/n',\n",
       " '/c/en/tail/n',\n",
       " '/c/en/tile/n',\n",
       " '/c/en/toilet/n',\n",
       " '/c/en/truck/n',\n",
       " '/c/en/trunk/n',\n",
       " '/c/en/umbrella/n',\n",
       " '/c/en/wheel/n',\n",
       " '/c/en/window/n',\n",
       " '/c/en/windshield/n',\n",
       " '/c/en/wing/n',\n",
       " '/c/en/woman/n'}"
      ]
     },
     "execution_count": 432,
     "metadata": {},
     "output_type": "execute_result"
    }
   ],
   "source": [
    "set(cn_ids_old) - set(cn_ids_new)"
   ]
  },
  {
   "cell_type": "code",
   "execution_count": 101,
   "metadata": {},
   "outputs": [],
   "source": [
    "# # with open('../obj/' + name + '.pkl', 'rb') as f:\n",
    "# #     edges_unique_144_20211017 = pickle.load(f)\n",
    "# edges_zareian = load_obj('edges_unique_144_20211017')"
   ]
  },
  {
   "cell_type": "markdown",
   "metadata": {},
   "source": [
    "# 1. new logic missing  ('/c/en/along', '/c/en/with', '/r/RelatedTo'). Need to check what's wrong with the logic. This is because of directionality. Not true. There's no '/c/en/with', '/c/en/along' in new_edges\n",
    " \n",
    "# 2. But why more edges?\n",
    "\n",
    "# 3. Missing edges ('/c/en/bag/n', '/c/en/hold/v', '/r/UsedFor'), and ('/c/en/bag/n', '/c/en/transport/v', '/r/UsedFor'),\n",
    "\n",
    "# 4. '/a/[/r/IsA/,/c/en/bear/n/opencyc/bear_animal/,/c/en/animal/n/]' is a child of both animal and bear, so it's duplicated and never added.\n",
    "\n",
    "# 5 Duplicated: drawer, food, \n",
    "\n",
    "# 6 The numbers of edge ids are the same across old and new. This means this step is correct. Just need to verify that the final graph build sums are the same."
   ]
  },
  {
   "cell_type": "markdown",
   "metadata": {},
   "source": [
    "# Redid the Zareian add edge logic with the local API endpoint"
   ]
  },
  {
   "cell_type": "code",
   "execution_count": null,
   "metadata": {},
   "outputs": [],
   "source": [
    "duplicated_ids = [\n",
    "    '/a/[/r/IsA/,/c/en/bear/n/opencyc/bear_animal/,/c/en/animal/n/]',\n",
    "    '/a/[/r/RelatedTo/,/c/en/bowl/n/wn/artifact/,/c/en/food/n/wn/]',\n",
    "    \n",
    "]"
   ]
  },
  {
   "cell_type": "code",
   "execution_count": 88,
   "metadata": {},
   "outputs": [],
   "source": [
    "edges_test = load_obj('edges_test')"
   ]
  },
  {
   "cell_type": "code",
   "execution_count": 103,
   "metadata": {},
   "outputs": [
    {
     "data": {
      "text/plain": [
       "321"
      ]
     },
     "execution_count": 103,
     "metadata": {},
     "output_type": "execute_result"
    }
   ],
   "source": [
    "len(edges_test)"
   ]
  },
  {
   "cell_type": "code",
   "execution_count": 164,
   "metadata": {},
   "outputs": [
    {
     "data": {
      "text/plain": [
       "[('/c/en/against', '/c/en/along', '/r/DistinctFrom'),\n",
       " ('/c/en/against', '/c/en/with', '/r/Antonym'),\n",
       " ('/c/en/against', '/c/en/with', '/r/DistinctFrom'),\n",
       " ('/c/en/along', '/c/en/with', '/r/RelatedTo'),\n",
       " ('/c/en/and', '/c/en/to', '/r/RelatedTo'),\n",
       " ('/c/en/arm/n', '/c/en/branch/n', '/r/Synonym'),\n",
       " ('/c/en/bag/n', '/c/en/hold/v', '/r/UsedFor'),\n",
       " ('/c/en/bag/n', '/c/en/transport/v', '/r/UsedFor'),\n",
       " ('/c/en/basket/n', '/c/en/hold/v', '/r/UsedFor'),\n",
       " ('/c/en/bear/n', '/c/en/animal/n', '/r/IsA'),\n",
       " ('/c/en/bear/n', '/c/en/person/n', '/r/IsA'),\n",
       " ('/c/en/bed/n', '/c/en/hold/v', '/r/UsedFor'),\n",
       " ('/c/en/bed/n', '/c/en/person/n', '/r/RelatedTo'),\n",
       " ('/c/en/bed/n', '/c/en/plant/n', '/r/RelatedTo'),\n",
       " ('/c/en/bench/n', '/c/en/people/n', '/r/RelatedTo'),\n",
       " ('/c/en/bench/n', '/c/en/seat/n', '/r/IsA'),\n",
       " ('/c/en/bicycle/n', '/c/en/ride/v', '/r/UsedFor'),\n",
       " ('/c/en/boat/n', '/c/en/transport/v', '/r/UsedFor'),\n",
       " ('/c/en/boot/n', '/c/en/car/n', '/r/PartOf'),\n",
       " ('/c/en/boot/n', '/c/en/shoe/n', '/r/IsA'),\n",
       " ('/c/en/bottle/n', '/c/en/hold/v', '/r/UsedFor'),\n",
       " ('/c/en/bowl/n', '/c/en/food/n', '/r/RelatedTo'),\n",
       " ('/c/en/bowl/n', '/c/en/hold/v', '/r/UsedFor'),\n",
       " ('/c/en/box/n', '/c/en/hold/v', '/r/UsedFor'),\n",
       " ('/c/en/box/n', '/c/en/player/n', '/r/RelatedTo'),\n",
       " ('/c/en/box/n', '/c/en/seat/n', '/r/IsA'),\n",
       " ('/c/en/branch/n', '/c/en/arm/n', '/r/Synonym'),\n",
       " ('/c/en/bus/n', '/c/en/car/n', '/r/IsA'),\n",
       " ('/c/en/bus/n', '/c/en/transport/v', '/r/UsedFor'),\n",
       " ('/c/en/cabinet/n', '/c/en/box/n', '/r/IsA'),\n",
       " ('/c/en/car/n', '/c/en/transport/v', '/r/UsedFor'),\n",
       " ('/c/en/cat/n', '/c/en/book/n', '/r/IsA'),\n",
       " ('/c/en/cat/n', '/c/en/guy/n', '/r/Synonym'),\n",
       " ('/c/en/cat/n', '/c/en/woman/n', '/r/IsA'),\n",
       " ('/c/en/chair/n', '/c/en/people/n', '/r/UsedFor'),\n",
       " ('/c/en/chair/n', '/c/en/seat/n', '/r/IsA'),\n",
       " ('/c/en/child/n', '/c/en/animal/n', '/r/IsA'),\n",
       " ('/c/en/child/n', '/c/en/person/n', '/r/IsA'),\n",
       " ('/c/en/clock/n', '/c/en/people/n', '/r/UsedFor'),\n",
       " ('/c/en/coat/n', '/c/en/hair/n', '/r/IsA'),\n",
       " ('/c/en/counter/n', '/c/en/boot/n', '/r/PartOf'),\n",
       " ('/c/en/counter/n', '/c/en/hold/v', '/r/UsedFor'),\n",
       " ('/c/en/counter/n', '/c/en/person/n', '/r/IsA'),\n",
       " ('/c/en/counter/n', '/c/en/shoe/n', '/r/PartOf'),\n",
       " ('/c/en/counter/n', '/c/en/table/n', '/r/IsA'),\n",
       " ('/c/en/cover/v', '/c/en/play/v', '/r/MannerOf'),\n",
       " ('/c/en/cup/n', '/c/en/hold/v', '/r/UsedFor'),\n",
       " ('/c/en/curtain/n', '/c/en/book/n', '/r/IsA'),\n",
       " ('/c/en/curtain/n', '/c/en/window/n', '/r/RelatedTo'),\n",
       " ('/c/en/desk/n', '/c/en/table/n', '/r/IsA'),\n",
       " ('/c/en/door/n', '/c/en/room/n', '/r/IsA'),\n",
       " ('/c/en/drawer/n', '/c/en/desk/n', '/r/PartOf'),\n",
       " ('/c/en/ear/n', '/c/en/fruit/n', '/r/IsA'),\n",
       " ('/c/en/ear/n', '/c/en/head/n', '/r/PartOf'),\n",
       " ('/c/en/eye/n', '/c/en/face/n', '/r/PartOf'),\n",
       " ('/c/en/face/n', '/c/en/animal/n', '/r/PartOf'),\n",
       " ('/c/en/face/n', '/c/en/head/n', '/r/PartOf'),\n",
       " ('/c/en/face/n', '/c/en/person/n', '/r/IsA'),\n",
       " ('/c/en/face/n', '/c/en/racket/n', '/r/PartOf'),\n",
       " ('/c/en/finger/n', '/c/en/glove/n', '/r/PartOf'),\n",
       " ('/c/en/finger/n', '/c/en/hand/n', '/r/PartOf'),\n",
       " ('/c/en/flag/n', '/c/en/dog/n', '/r/PartOf'),\n",
       " ('/c/en/flag/n', '/c/en/tail/n', '/r/IsA'),\n",
       " ('/c/en/fly/v', '/c/en/transport/v', '/r/MannerOf'),\n",
       " ('/c/en/from', '/c/en/and', '/r/RelatedTo'),\n",
       " ('/c/en/from', '/c/en/to', '/r/DistinctFrom'),\n",
       " ('/c/en/glass/n', '/c/en/hold/v', '/r/UsedFor'),\n",
       " ('/c/en/guy/n', '/c/en/man/n', '/r/IsA'),\n",
       " ('/c/en/gym_shoe/n', '/c/en/shoe/n', '/r/IsA'),\n",
       " ('/c/en/hand/n', '/c/en/arm/n', '/r/PartOf'),\n",
       " ('/c/en/handle/n', '/c/en/racket/n', '/r/PartOf'),\n",
       " ('/c/en/handle/n', '/c/en/umbrella/n', '/r/PartOf'),\n",
       " ('/c/en/have/v', '/c/en/hold/v', '/r/Synonym'),\n",
       " ('/c/en/head/n', '/c/en/animal/n', '/r/PartOf'),\n",
       " ('/c/en/head/n', '/c/en/toilet/n', '/r/IsA'),\n",
       " ('/c/en/hold/v', '/c/en/cover/v', '/r/MannerOf'),\n",
       " ('/c/en/hold/v', '/c/en/have/v', '/r/Synonym'),\n",
       " ('/c/en/horse/n', '/c/en/animal/n', '/r/IsA'),\n",
       " ('/c/en/house/n', '/c/en/building/n', '/r/IsA'),\n",
       " ('/c/en/jacket/n', '/c/en/coat/n', '/r/IsA'),\n",
       " ('/c/en/kite/n', '/c/en/bird/n', '/r/IsA'),\n",
       " ('/c/en/lady/n', '/c/en/woman/n', '/r/IsA'),\n",
       " ('/c/en/lamp/n', '/c/en/light/n', '/r/RelatedTo'),\n",
       " ('/c/en/lamp/n', '/c/en/light/n', '/r/UsedFor'),\n",
       " ('/c/en/leg/n', '/c/en/branch/n', '/r/Synonym'),\n",
       " ('/c/en/leg/n', '/c/en/chair/n', '/r/PartOf'),\n",
       " ('/c/en/leg/n', '/c/en/hold/v', '/r/UsedFor'),\n",
       " ('/c/en/leg/n', '/c/en/table/n', '/r/PartOf'),\n",
       " ('/c/en/lie/v', '/c/en/with', '/r/RelatedTo'),\n",
       " ('/c/en/make/v', '/c/en/constitute/v', '/r/MannerOf'),\n",
       " ('/c/en/make/v', '/c/en/have/v', '/r/Synonym'),\n",
       " ('/c/en/make/v', '/c/en/hold/v', '/r/Synonym'),\n",
       " ('/c/en/make/v', '/c/en/look/v', '/r/MannerOf'),\n",
       " ('/c/en/man/n', '/c/en/person/n', '/r/IsA'),\n",
       " ('/c/en/motorcycle/n', '/c/en/ride/v', '/r/UsedFor'),\n",
       " ('/c/en/mount/v', '/c/en/attach/v', '/r/MannerOf'),\n",
       " ('/c/en/mount/v', '/c/en/ride/v', '/r/Synonym'),\n",
       " ('/c/en/mouth/n', '/c/en/bottle/n', '/r/PartOf'),\n",
       " ('/c/en/mouth/n', '/c/en/face/n', '/r/PartOf'),\n",
       " ('/c/en/nose/n', '/c/en/animal/n', '/r/HasContext'),\n",
       " ('/c/en/nose/n', '/c/en/face/n', '/r/PartOf'),\n",
       " ('/c/en/on', '/c/en/along', '/r/Synonym'),\n",
       " ('/c/en/paint/v', '/c/en/cover/v', '/r/MannerOf'),\n",
       " ('/c/en/paw/n', '/c/en/hand/n', '/r/Synonym'),\n",
       " ('/c/en/play/v', '/c/en/use/v', '/r/MannerOf'),\n",
       " ('/c/en/player/n', '/c/en/person/n', '/r/IsA'),\n",
       " ('/c/en/pot/n', '/c/en/toilet/n', '/r/Synonym'),\n",
       " ('/c/en/ride/v', '/c/en/lie/v', '/r/MannerOf'),\n",
       " ('/c/en/roof/n', '/c/en/building/n', '/r/PartOf'),\n",
       " ('/c/en/roof/n', '/c/en/bus/n', '/r/PartOf'),\n",
       " ('/c/en/roof/n', '/c/en/car/n', '/r/PartOf'),\n",
       " ('/c/en/roof/n', '/c/en/truck/n', '/r/PartOf'),\n",
       " ('/c/en/room/n', '/c/en/building/n', '/r/PartOf'),\n",
       " ('/c/en/room/n', '/c/en/to', '/r/RelatedTo'),\n",
       " ('/c/en/seat/n', '/c/en/airplane/n', '/r/HasContext'),\n",
       " ('/c/en/shelf/n', '/c/en/cabinet/n', '/r/PartOf'),\n",
       " ('/c/en/sit/v', '/c/en/ride/v', '/r/Synonym'),\n",
       " ('/c/en/skateboard/n', '/c/en/board/n', '/r/IsA'),\n",
       " ('/c/en/stand/n', '/c/en/table/n', '/r/IsA'),\n",
       " ('/c/en/surfboard/n', '/c/en/board/n', '/r/IsA'),\n",
       " ('/c/en/table/n', '/c/en/board/n', '/r/Synonym'),\n",
       " ('/c/en/tile/n', '/c/en/man/n', '/r/IsA'),\n",
       " ('/c/en/to', '/c/en/at', '/r/RelatedTo'),\n",
       " ('/c/en/toilet/n', '/c/en/room/n', '/r/IsA'),\n",
       " ('/c/en/trunk/n', '/c/en/boot/n', '/r/Synonym'),\n",
       " ('/c/en/trunk/n', '/c/en/nose/n', '/r/IsA'),\n",
       " ('/c/en/trunk/n', '/c/en/tree/n', '/r/PartOf'),\n",
       " ('/c/en/walk/v', '/c/en/play/v', '/r/MannerOf'),\n",
       " ('/c/en/watch/v', '/c/en/look/v', '/r/Entails'),\n",
       " ('/c/en/wave/n', '/c/en/woman/n', '/r/IsA'),\n",
       " ('/c/en/wear/v', '/c/en/have/v', '/r/MannerOf'),\n",
       " ('/c/en/wheel/n', '/c/en/bicycle/n', '/r/Synonym'),\n",
       " ('/c/en/window/n', '/c/en/building/n', '/r/PartOf'),\n",
       " ('/c/en/window/n', '/c/en/bus/n', '/r/PartOf'),\n",
       " ('/c/en/window/n', '/c/en/car/n', '/r/PartOf'),\n",
       " ('/c/en/windshield/n', '/c/en/airplane/n', '/r/PartOf'),\n",
       " ('/c/en/windshield/n', '/c/en/screen/n', '/r/IsA'),\n",
       " ('/c/en/wing/n', '/c/en/airplane/n', '/r/PartOf'),\n",
       " ('/c/en/wing/n', '/c/en/bird/n', '/r/PartOf'),\n",
       " ('/c/en/with', '/c/en/against', '/r/Antonym'),\n",
       " ('/c/en/with', '/c/en/against', '/r/RelatedTo'),\n",
       " ('/c/en/with', '/c/en/along', '/r/RelatedTo'),\n",
       " ('/c/en/with', '/c/en/from', '/r/RelatedTo')]"
      ]
     },
     "execution_count": 164,
     "metadata": {},
     "output_type": "execute_result"
    }
   ],
   "source": [
    "sorted(list(set(edges_test)))"
   ]
  },
  {
   "cell_type": "markdown",
   "metadata": {},
   "source": [
    "# Need to add preds"
   ]
  },
  {
   "cell_type": "code",
   "execution_count": 104,
   "metadata": {},
   "outputs": [],
   "source": [
    "# edges_zareian_unique = sorted(list(set(edges_zareian)))"
   ]
  },
  {
   "cell_type": "code",
   "execution_count": 105,
   "metadata": {},
   "outputs": [],
   "source": [
    "# edges_zareian_unique"
   ]
  },
  {
   "cell_type": "code",
   "execution_count": 80,
   "metadata": {},
   "outputs": [
    {
     "data": {
      "text/plain": [
       "144"
      ]
     },
     "execution_count": 80,
     "metadata": {},
     "output_type": "execute_result"
    }
   ],
   "source": [
    "len(edges_zareian_unique)"
   ]
  },
  {
   "cell_type": "code",
   "execution_count": 81,
   "metadata": {},
   "outputs": [
    {
     "data": {
      "text/plain": [
       "182"
      ]
     },
     "execution_count": 81,
     "metadata": {},
     "output_type": "execute_result"
    }
   ],
   "source": [
    "len(new_edges)"
   ]
  }
 ],
 "metadata": {
  "kernelspec": {
   "display_name": "Python 3 (ipykernel)",
   "language": "python",
   "name": "python3"
  },
  "language_info": {
   "codemirror_mode": {
    "name": "ipython",
    "version": 3
   },
   "file_extension": ".py",
   "mimetype": "text/x-python",
   "name": "python",
   "nbconvert_exporter": "python",
   "pygments_lexer": "ipython3",
   "version": "3.8.2"
  }
 },
 "nbformat": 4,
 "nbformat_minor": 4
}
