{
 "cells": [
  {
   "cell_type": "code",
   "execution_count": 7,
   "metadata": {},
   "outputs": [],
   "source": [
    "import numpy as np"
   ]
  },
  {
   "cell_type": "code",
   "execution_count": 8,
   "metadata": {},
   "outputs": [],
   "source": [
    "import pandas as pd\n",
    "df_edges = pd.read_csv('edges_h1p0_less_2_20211121.csv')\n",
    "edges = df_edges.values.tolist()"
   ]
  },
  {
   "cell_type": "code",
   "execution_count": 27,
   "metadata": {},
   "outputs": [
    {
     "data": {
      "text/plain": [
       "102"
      ]
     },
     "execution_count": 27,
     "metadata": {},
     "output_type": "execute_result"
    }
   ],
   "source": [
    "len(edges)"
   ]
  },
  {
   "cell_type": "code",
   "execution_count": 15,
   "metadata": {},
   "outputs": [],
   "source": [
    "import json\n",
    "with open('VG-SGG-dicts.json', 'r') as fin:\n",
    "    scene_graph_meta = json.load(fin)"
   ]
  },
  {
   "cell_type": "code",
   "execution_count": 10,
   "metadata": {},
   "outputs": [],
   "source": [
    "from utils import load_obj\n",
    "label2id = load_obj('label2id_150_zareian_code_20211017')\n",
    "pred2id = load_obj('pred2id_old')\n",
    "id2label = {}\n",
    "for l, i in label2id.items():\n",
    "    if i not in id2label:\n",
    "        id2label[i] = []\n",
    "    id2label[i].append(l) \n",
    "id2pred = {}\n",
    "for l, i in pred2id.items():\n",
    "    if i not in id2pred:\n",
    "        id2pred[i] = []\n",
    "    id2pred[i].append(l) \n"
   ]
  },
  {
   "cell_type": "code",
   "execution_count": 11,
   "metadata": {
    "scrolled": true
   },
   "outputs": [
    {
     "name": "stdout",
     "output_type": "stream",
     "text": [
      "(5, 151, 151)\n",
      "(3, 51, 51)\n",
      "(1, 151, 51)\n",
      "(1, 51, 151)\n"
     ]
    }
   ],
   "source": [
    "import numpy as np\n",
    "edges_ent2ent = np.zeros((5, 151, 151))\n",
    "edges_pred2pred = np.zeros((3, 51, 51))\n",
    "edges_ent2pred = np.zeros((1, 151, 51))\n",
    "edges_pred2ent = np.zeros((1, 51, 151))\n",
    "# edges_ent2ent = np.zeros((5, len(label2synset_combined), len(label2synset_combined)))\n",
    "# edges_pred2pred = np.zeros((3, len(preds_old), len(preds_old)))\n",
    "# edges_ent2pred = np.zeros((1, len(label2synset_combined), len(preds_old)))\n",
    "# edges_pred2ent = np.zeros((1, len(preds_old), len(label2synset_combined)))\n",
    "print(edges_ent2ent.shape)\n",
    "print(edges_pred2pred.shape)\n",
    "print(edges_ent2pred.shape)\n",
    "print(edges_pred2ent.shape)"
   ]
  },
  {
   "cell_type": "code",
   "execution_count": 18,
   "metadata": {},
   "outputs": [],
   "source": [
    "for edge in edges:\n",
    "    if edge[2] != '/r/IsA':\n",
    "        continue\n",
    "    if edge[0] not in id2label or edge[1] not in id2label:\n",
    "        raise\n",
    "    for n1 in id2label[edge[0]]:\n",
    "        for n2 in id2label[edge[1]]:\n",
    "            edges_ent2ent[0, scene_graph_meta['label_to_idx'][n1], scene_graph_meta['label_to_idx'][n2]] = 1\n",
    "            edges_ent2ent[1, scene_graph_meta['label_to_idx'][n2], scene_graph_meta['label_to_idx'][n1]] = 1\n",
    "        "
   ]
  },
  {
   "cell_type": "code",
   "execution_count": 19,
   "metadata": {},
   "outputs": [],
   "source": [
    "for edge in edges:\n",
    "    if edge[2] != '/r/PartOf':\n",
    "        continue\n",
    "    if edge[0] not in id2label or edge[1] not in id2label:\n",
    "        raise\n",
    "    for n1 in id2label[edge[0]]:\n",
    "        for n2 in id2label[edge[1]]:\n",
    "            edges_ent2ent[2, scene_graph_meta['label_to_idx'][n1], scene_graph_meta['label_to_idx'][n2]] = 1\n",
    "            edges_ent2ent[3, scene_graph_meta['label_to_idx'][n2], scene_graph_meta['label_to_idx'][n1]] = 1\n"
   ]
  },
  {
   "cell_type": "code",
   "execution_count": 20,
   "metadata": {},
   "outputs": [],
   "source": [
    "for edge in edges:\n",
    "    if edge[2] != '/r/RelatedTo':\n",
    "        continue\n",
    "    if edge[0] not in id2label or edge[1] not in id2label:\n",
    "        if edge[0] not in id2pred or edge[1] not in id2pred:\n",
    "            print(edge)\n",
    "            raise\n",
    "        continue\n",
    "    for n1 in id2label[edge[0]]:\n",
    "        for n2 in id2label[edge[1]]:\n",
    "            edges_ent2ent[4, scene_graph_meta['label_to_idx'][n1], scene_graph_meta['label_to_idx'][n2]] = 1\n",
    "            edges_ent2ent[4, scene_graph_meta['label_to_idx'][n2], scene_graph_meta['label_to_idx'][n1]] = 1\n"
   ]
  },
  {
   "cell_type": "code",
   "execution_count": 21,
   "metadata": {},
   "outputs": [],
   "source": [
    "for edge in edges:\n",
    "    if edge[2] != '/r/MannerOf':\n",
    "        continue\n",
    "    if edge[0] not in id2pred or edge[1] not in id2pred:\n",
    "        raise\n",
    "    for n1 in id2pred[edge[0]]:\n",
    "        for n2 in id2pred[edge[1]]:\n",
    "            edges_pred2pred[0, scene_graph_meta['predicate_to_idx'][n1], scene_graph_meta['predicate_to_idx'][n2]] = 1\n",
    "            edges_pred2pred[1, scene_graph_meta['predicate_to_idx'][n2], scene_graph_meta['predicate_to_idx'][n1]] = 1\n",
    "        "
   ]
  },
  {
   "cell_type": "code",
   "execution_count": 23,
   "metadata": {},
   "outputs": [],
   "source": [
    "for edge in edges:\n",
    "    if edge[2] != '/r/RelatedTo':\n",
    "        continue\n",
    "    if edge[0] not in id2pred or edge[1] not in id2pred:\n",
    "        if edge[0] not in id2label or edge[1] not in id2label:\n",
    "            raise\n",
    "        continue\n",
    "    for n1 in id2pred[edge[0]]:\n",
    "        for n2 in id2pred[edge[1]]:\n",
    "            edges_pred2pred[2, scene_graph_meta['predicate_to_idx'][n1], scene_graph_meta['predicate_to_idx'][n2]] = 1\n",
    "            edges_pred2pred[2, scene_graph_meta['predicate_to_idx'][n2], scene_graph_meta['predicate_to_idx'][n1]] = 1\n"
   ]
  },
  {
   "cell_type": "code",
   "execution_count": 24,
   "metadata": {},
   "outputs": [],
   "source": [
    "for edge in edges:\n",
    "    if edge[2] != '/r/UsedFor':\n",
    "        continue\n",
    "    if edge[0] not in id2label or edge[1] not in id2pred:\n",
    "        print(edge)\n",
    "        continue\n",
    "    for n1 in id2label[edge[0]]:\n",
    "        for n2 in id2pred[edge[1]]:\n",
    "            edges_ent2pred[0, scene_graph_meta['label_to_idx'][n1], scene_graph_meta['predicate_to_idx'][n2]] = 1\n",
    "            edges_pred2ent[0, scene_graph_meta['predicate_to_idx'][n2], scene_graph_meta['label_to_idx'][n1]] = 1\n",
    "        "
   ]
  },
  {
   "cell_type": "code",
   "execution_count": 25,
   "metadata": {},
   "outputs": [
    {
     "name": "stdout",
     "output_type": "stream",
     "text": [
      "[30. 30. 37. 37. 14.]\n",
      "[13. 13. 10.]\n",
      "[16.]\n",
      "[16.]\n"
     ]
    }
   ],
   "source": [
    "print(edges_ent2ent.sum(axis=(1,2)))\n",
    "print(edges_pred2pred.sum(axis=(1,2)))\n",
    "print(edges_ent2pred.sum(axis=(1,2)))\n",
    "print(edges_pred2ent.sum(axis=(1,2)))\n"
   ]
  },
  {
   "cell_type": "code",
   "execution_count": 32,
   "metadata": {},
   "outputs": [],
   "source": [
    "# edge_dict_conceptnet = {\n",
    "#     'conceptnet_ent2ent': edges_ent2ent,\n",
    "#     'conceptnet_pred2pred': edges_pred2pred,\n",
    "#     'conceptnet_ent2pred': edges_ent2pred,\n",
    "#     'conceptnet_pred2ent': edges_pred2ent,\n",
    "# }\n",
    "edge_dict_conceptnet = {\n",
    "    'edges_ent2ent': edges_ent2ent,\n",
    "    'edges_pred2pred': edges_pred2pred,\n",
    "    'edges_ent2pred': edges_ent2pred,\n",
    "    'edges_pred2ent': edges_pred2ent,\n",
    "}"
   ]
  },
  {
   "cell_type": "code",
   "execution_count": 33,
   "metadata": {},
   "outputs": [],
   "source": [
    "import os, pickle\n",
    "with open(os.path.join('conceptnet_edges_h1p0_less_2_102_20211017.pkl'), 'wb') as fout:\n",
    "    pickle.dump(edge_dict_conceptnet, fout)"
   ]
  },
  {
   "cell_type": "code",
   "execution_count": 21,
   "metadata": {},
   "outputs": [],
   "source": [
    "# with open(os.path.join('conceptnet_edges_h1p0_less_2_20211017.pkl'), 'rb') as fout:\n",
    "#     edge_dict_conceptnet = pickle.load(fout)"
   ]
  },
  {
   "cell_type": "code",
   "execution_count": 22,
   "metadata": {},
   "outputs": [],
   "source": [
    "edges_ent2ent = edge_dict_conceptnet['conceptnet_ent2ent']\n",
    "edges_pred2pred = edge_dict_conceptnet['conceptnet_pred2pred']\n",
    "edges_ent2pred = edge_dict_conceptnet['conceptnet_ent2pred']\n",
    "edges_pred2ent = edge_dict_conceptnet['conceptnet_pred2ent']"
   ]
  },
  {
   "cell_type": "code",
   "execution_count": 23,
   "metadata": {},
   "outputs": [
    {
     "name": "stdout",
     "output_type": "stream",
     "text": [
      "[30. 30. 37. 37. 14.]\n",
      "[13. 13. 14.]\n",
      "[16.]\n",
      "[16.]\n"
     ]
    }
   ],
   "source": [
    "print(edges_ent2ent.sum(axis=(1,2)))\n",
    "print(edges_pred2pred.sum(axis=(1,2)))\n",
    "print(edges_ent2pred.sum(axis=(1,2)))\n",
    "print(edges_pred2ent.sum(axis=(1,2)))"
   ]
  }
 ],
 "metadata": {
  "kernelspec": {
   "display_name": "Python 3 (ipykernel)",
   "language": "python",
   "name": "python3"
  },
  "language_info": {
   "codemirror_mode": {
    "name": "ipython",
    "version": 3
   },
   "file_extension": ".py",
   "mimetype": "text/x-python",
   "name": "python",
   "nbconvert_exporter": "python",
   "pygments_lexer": "ipython3",
   "version": "3.8.2"
  }
 },
 "nbformat": 4,
 "nbformat_minor": 4
}
