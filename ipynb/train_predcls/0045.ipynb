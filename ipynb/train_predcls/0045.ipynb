{
 "cells": [
  {
   "cell_type": "code",
   "execution_count": 1,
   "metadata": {},
   "outputs": [],
   "source": [
    "%load_ext autoreload\n",
    "%autoreload 2\n",
    "import sys\n",
    "import os\n",
    "codebase = '../../'\n",
    "sys.path.append(codebase)"
   ]
  },
  {
   "cell_type": "code",
   "execution_count": 2,
   "metadata": {},
   "outputs": [
    {
     "data": {
      "text/plain": [
       "'1.8.2'"
      ]
     },
     "execution_count": 2,
     "metadata": {},
     "output_type": "execute_result"
    }
   ],
   "source": [
    "import torch\n",
    "torch.__version__"
   ]
  },
  {
   "cell_type": "code",
   "execution_count": 3,
   "metadata": {},
   "outputs": [],
   "source": [
    "exp_name = 'exp_045_rep'\n",
    "os.environ[\"CUDA_VISIBLE_DEVICES\"]=\"0\""
   ]
  },
  {
   "cell_type": "code",
   "execution_count": 4,
   "metadata": {},
   "outputs": [],
   "source": [
    "from dataloaders.visual_genome import VGDataLoader, VG\n",
    "import numpy as np\n",
    "from torch import optim\n",
    "import torch\n",
    "import pandas as pd\n",
    "import time\n",
    "import os\n",
    "\n",
    "from config import ModelConfig, BOX_SCALE, IM_SCALE\n",
    "from torch.nn import functional as F\n",
    "from lib.pytorch_misc import optimistic_restore, de_chunkize, clip_grad_norm\n",
    "from lib.evaluation.sg_eval import BasicSceneGraphEvaluator, calculate_mR_from_evaluator_list, eval_entry\n",
    "from lib.pytorch_misc import print_para\n",
    "from torch.optim.lr_scheduler import ReduceLROnPlateau\n",
    "\n",
    "from lib.my_model_24_bpl import KERN\n"
   ]
  },
  {
   "cell_type": "code",
   "execution_count": 5,
   "metadata": {},
   "outputs": [
    {
     "name": "stdout",
     "output_type": "stream",
     "text": [
      "~~~~~~~~ Hyperparameters used: ~~~~~~~\n",
      "ckpt : checkpoints/vgdet/vg-24.tar\n",
      "save_dir : checkpoints/kern_predcls/exp_045_rep\n",
      "num_gpus : 1\n",
      "num_workers : 1\n",
      "lr : 0.0001\n",
      "batch_size : 4\n",
      "val_size : 5000\n",
      "l2 : 0.0001\n",
      "adamwd : 0.0\n",
      "clip : 5.0\n",
      "print_interval : 1000\n",
      "mode : predcls\n",
      "cache : \n",
      "adam : True\n",
      "test : False\n",
      "num_epochs : 50\n",
      "use_resnet : False\n",
      "use_proposals : False\n",
      "pooling_dim : 4096\n",
      "use_ggnn_obj : False\n",
      "ggnn_obj_time_step_num : 3\n",
      "ggnn_obj_hidden_dim : 512\n",
      "ggnn_obj_output_dim : 512\n",
      "use_obj_knowledge : False\n",
      "obj_knowledge : \n",
      "use_ggnn_rel : False\n",
      "ggnn_rel_time_step_num : 3\n",
      "ggnn_rel_hidden_dim : 512\n",
      "ggnn_rel_output_dim : 512\n",
      "use_rel_knowledge : False\n",
      "rel_knowledge : \n",
      "tb_log_dir : summaries/kern_predcls/exp_045_rep\n",
      "save_rel_recall : \n"
     ]
    }
   ],
   "source": [
    "conf = ModelConfig(f'''\n",
    "-m predcls -p 1000 -clip 5 \n",
    "-tb_log_dir summaries/kern_predcls/{exp_name} \n",
    "-save_dir checkpoints/kern_predcls/{exp_name}\n",
    "-ckpt checkpoints/vgdet/vg-24.tar \n",
    "-val_size 5000 \n",
    "-adam \n",
    "-b 4\n",
    "-ngpu 1\n",
    "-lr 1e-4 \n",
    "''')"
   ]
  },
  {
   "cell_type": "code",
   "execution_count": 6,
   "metadata": {},
   "outputs": [
    {
     "data": {
      "text/plain": [
       "'/home/zhanwen/gbnet/ipynb/train_predcls'"
      ]
     },
     "execution_count": 6,
     "metadata": {},
     "output_type": "execute_result"
    }
   ],
   "source": [
    "os.getcwd()"
   ]
  },
  {
   "cell_type": "code",
   "execution_count": 7,
   "metadata": {},
   "outputs": [
    {
     "name": "stdout",
     "output_type": "stream",
     "text": [
      "mode:  train\n",
      "root_classes_count:  {}\n",
      "mean root class number:  0.0\n",
      "sum root class number:  0\n",
      "leaf_classes_count:  {}\n",
      "mean leaf class number:  0.0\n",
      "sum leaf class number:  0\n",
      "all_classes_count:  {}\n",
      "mean all class number:  0.0\n",
      "sum all class number:  0\n",
      "number images:  57723\n",
      "mode:  val\n",
      "root_classes_count:  {}\n",
      "mean root class number:  0.0\n",
      "sum root class number:  0\n",
      "leaf_classes_count:  {}\n",
      "mean leaf class number:  0.0\n",
      "sum leaf class number:  0\n",
      "all_classes_count:  {}\n",
      "mean all class number:  0.0\n",
      "sum all class number:  0\n",
      "number images:  5000\n",
      "mode:  test\n",
      "root_classes_count:  {}\n",
      "mean root class number:  0.0\n",
      "sum root class number:  0\n",
      "leaf_classes_count:  {}\n",
      "mean leaf class number:  0.0\n",
      "sum leaf class number:  0\n",
      "all_classes_count:  {}\n",
      "mean all class number:  0.0\n",
      "sum all class number:  0\n",
      "number images:  26446\n"
     ]
    }
   ],
   "source": [
    "train, val, _ = VG.splits(num_val_im=conf.val_size, filter_duplicate_rels=True,\n",
    "                          use_proposals=conf.use_proposals,\n",
    "                          filter_non_overlap=conf.mode == 'sgdet', with_clean_classifier=False, get_state=False)\n"
   ]
  },
  {
   "cell_type": "code",
   "execution_count": 8,
   "metadata": {},
   "outputs": [],
   "source": [
    "ind_to_predicates = train.ind_to_predicates # ind_to_predicates[0] means no relationship"
   ]
  },
  {
   "cell_type": "code",
   "execution_count": 9,
   "metadata": {},
   "outputs": [],
   "source": [
    "train_loader, val_loader = VGDataLoader.splits(train, val, mode='rel',\n",
    "                                               batch_size=conf.batch_size,\n",
    "                                               num_workers=conf.num_workers,\n",
    "                                               num_gpus=conf.num_gpus)\n"
   ]
  },
  {
   "cell_type": "code",
   "execution_count": 10,
   "metadata": {},
   "outputs": [
    {
     "ename": "RuntimeError",
     "evalue": "CUDA unknown error - this may be due to an incorrectly set up environment, e.g. changing env variable CUDA_VISIBLE_DEVICES after program start. Setting the available devices to be zero.",
     "output_type": "error",
     "traceback": [
      "\u001b[0;31m---------------------------------------------------------------------------\u001b[0m",
      "\u001b[0;31mRuntimeError\u001b[0m                              Traceback (most recent call last)",
      "\u001b[0;32m/tmp/ipykernel_479663/339316445.py\u001b[0m in \u001b[0;36m<module>\u001b[0;34m\u001b[0m\n\u001b[0;32m----> 1\u001b[0;31m detector = KERN(classes=train.ind_to_classes, rel_classes=train.ind_to_predicates,\n\u001b[0m\u001b[1;32m      2\u001b[0m                 \u001b[0mnum_gpus\u001b[0m\u001b[0;34m=\u001b[0m\u001b[0mconf\u001b[0m\u001b[0;34m.\u001b[0m\u001b[0mnum_gpus\u001b[0m\u001b[0;34m,\u001b[0m \u001b[0mmode\u001b[0m\u001b[0;34m=\u001b[0m\u001b[0mconf\u001b[0m\u001b[0;34m.\u001b[0m\u001b[0mmode\u001b[0m\u001b[0;34m,\u001b[0m \u001b[0mrequire_overlap_det\u001b[0m\u001b[0;34m=\u001b[0m\u001b[0;32mTrue\u001b[0m\u001b[0;34m,\u001b[0m\u001b[0;34m\u001b[0m\u001b[0;34m\u001b[0m\u001b[0m\n\u001b[1;32m      3\u001b[0m                 \u001b[0muse_resnet\u001b[0m\u001b[0;34m=\u001b[0m\u001b[0mconf\u001b[0m\u001b[0;34m.\u001b[0m\u001b[0muse_resnet\u001b[0m\u001b[0;34m,\u001b[0m \u001b[0muse_proposals\u001b[0m\u001b[0;34m=\u001b[0m\u001b[0mconf\u001b[0m\u001b[0;34m.\u001b[0m\u001b[0muse_proposals\u001b[0m\u001b[0;34m,\u001b[0m \u001b[0mpooling_dim\u001b[0m\u001b[0;34m=\u001b[0m\u001b[0mconf\u001b[0m\u001b[0;34m.\u001b[0m\u001b[0mpooling_dim\u001b[0m\u001b[0;34m,\u001b[0m\u001b[0;34m\u001b[0m\u001b[0;34m\u001b[0m\u001b[0m\n\u001b[1;32m      4\u001b[0m                 \u001b[0mggnn_rel_time_step_num\u001b[0m\u001b[0;34m=\u001b[0m\u001b[0;36m3\u001b[0m\u001b[0;34m,\u001b[0m \u001b[0mggnn_rel_hidden_dim\u001b[0m\u001b[0;34m=\u001b[0m\u001b[0;36m1024\u001b[0m\u001b[0;34m,\u001b[0m \u001b[0mggnn_rel_output_dim\u001b[0m\u001b[0;34m=\u001b[0m\u001b[0;32mNone\u001b[0m\u001b[0;34m,\u001b[0m\u001b[0;34m\u001b[0m\u001b[0;34m\u001b[0m\u001b[0m\n\u001b[1;32m      5\u001b[0m                 \u001b[0mgraph_path\u001b[0m\u001b[0;34m=\u001b[0m\u001b[0mos\u001b[0m\u001b[0;34m.\u001b[0m\u001b[0mpath\u001b[0m\u001b[0;34m.\u001b[0m\u001b[0mjoin\u001b[0m\u001b[0;34m(\u001b[0m\u001b[0mcodebase\u001b[0m\u001b[0;34m,\u001b[0m \u001b[0;34m'graphs/005/all_edges.pkl'\u001b[0m\u001b[0;34m)\u001b[0m\u001b[0;34m,\u001b[0m\u001b[0;34m\u001b[0m\u001b[0;34m\u001b[0m\u001b[0m\n",
      "\u001b[0;32m~/gbnet/lib/my_model_24_bpl.py\u001b[0m in \u001b[0;36m__init__\u001b[0;34m(self, classes, rel_classes, graph_path, emb_path, mode, num_gpus, require_overlap_det, pooling_dim, use_resnet, thresh, use_proposals, ggnn_rel_time_step_num, ggnn_rel_hidden_dim, ggnn_rel_output_dim, use_knowledge, use_embedding, refine_obj_cls, rel_counts_path, class_volume, with_clean_classifier, with_transfer)\u001b[0m\n\u001b[1;32m    175\u001b[0m             \u001b[0mself\u001b[0m\u001b[0;34m.\u001b[0m\u001b[0mroi_fmap_obj\u001b[0m \u001b[0;34m=\u001b[0m \u001b[0mload_vgg\u001b[0m\u001b[0;34m(\u001b[0m\u001b[0mpretrained\u001b[0m\u001b[0;34m=\u001b[0m\u001b[0;32mFalse\u001b[0m\u001b[0;34m)\u001b[0m\u001b[0;34m.\u001b[0m\u001b[0mclassifier\u001b[0m\u001b[0;34m\u001b[0m\u001b[0;34m\u001b[0m\u001b[0m\n\u001b[1;32m    176\u001b[0m \u001b[0;34m\u001b[0m\u001b[0m\n\u001b[0;32m--> 177\u001b[0;31m         self.ggnn_rel_reason = GGNNRelReason(mode=self.mode,\n\u001b[0m\u001b[1;32m    178\u001b[0m                                              \u001b[0mnum_obj_cls\u001b[0m\u001b[0;34m=\u001b[0m\u001b[0mlen\u001b[0m\u001b[0;34m(\u001b[0m\u001b[0mself\u001b[0m\u001b[0;34m.\u001b[0m\u001b[0mclasses\u001b[0m\u001b[0;34m)\u001b[0m\u001b[0;34m,\u001b[0m\u001b[0;34m\u001b[0m\u001b[0;34m\u001b[0m\u001b[0m\n\u001b[1;32m    179\u001b[0m                                              \u001b[0mnum_rel_cls\u001b[0m\u001b[0;34m=\u001b[0m\u001b[0mlen\u001b[0m\u001b[0;34m(\u001b[0m\u001b[0mrel_classes\u001b[0m\u001b[0;34m)\u001b[0m\u001b[0;34m,\u001b[0m\u001b[0;34m\u001b[0m\u001b[0;34m\u001b[0m\u001b[0m\n",
      "\u001b[0;32m~/gbnet/lib/my_model_24_bpl.py\u001b[0m in \u001b[0;36m__init__\u001b[0;34m(self, graph_path, emb_path, mode, num_obj_cls, num_rel_cls, obj_dim, rel_dim, time_step_num, hidden_dim, output_dim, use_knowledge, use_embedding, refine_obj_cls, with_clean_classifier, with_transfer)\u001b[0m\n\u001b[1;32m     50\u001b[0m         \u001b[0;32massert\u001b[0m \u001b[0;32mnot\u001b[0m \u001b[0;34m(\u001b[0m\u001b[0mrefine_obj_cls\u001b[0m \u001b[0;32mand\u001b[0m \u001b[0mmode\u001b[0m \u001b[0;34m==\u001b[0m \u001b[0;34m'predcls'\u001b[0m\u001b[0;34m)\u001b[0m\u001b[0;34m\u001b[0m\u001b[0;34m\u001b[0m\u001b[0m\n\u001b[1;32m     51\u001b[0m \u001b[0;34m\u001b[0m\u001b[0m\n\u001b[0;32m---> 52\u001b[0;31m         self.ggnn = GGNN(time_step_num=time_step_num, hidden_dim=hidden_dim, output_dim=output_dim,\n\u001b[0m\u001b[1;32m     53\u001b[0m                          \u001b[0memb_path\u001b[0m\u001b[0;34m=\u001b[0m\u001b[0memb_path\u001b[0m\u001b[0;34m,\u001b[0m \u001b[0mgraph_path\u001b[0m\u001b[0;34m=\u001b[0m\u001b[0mgraph_path\u001b[0m\u001b[0;34m,\u001b[0m \u001b[0mrefine_obj_cls\u001b[0m\u001b[0;34m=\u001b[0m\u001b[0mrefine_obj_cls\u001b[0m\u001b[0;34m,\u001b[0m\u001b[0;34m\u001b[0m\u001b[0;34m\u001b[0m\u001b[0m\n\u001b[1;32m     54\u001b[0m                          use_knowledge=use_knowledge, use_embedding=use_embedding)\n",
      "\u001b[0;32m~/gbnet/lib/my_ggnn_10.py\u001b[0m in \u001b[0;36m__init__\u001b[0;34m(self, emb_path, graph_path, time_step_num, hidden_dim, output_dim, use_embedding, use_knowledge, refine_obj_cls, num_ents, num_preds, config)\u001b[0m\n\u001b[1;32m     33\u001b[0m             \u001b[0;32mwith\u001b[0m \u001b[0mopen\u001b[0m\u001b[0;34m(\u001b[0m\u001b[0memb_path\u001b[0m\u001b[0;34m,\u001b[0m \u001b[0;34m'rb'\u001b[0m\u001b[0;34m)\u001b[0m \u001b[0;32mas\u001b[0m \u001b[0mfin\u001b[0m\u001b[0;34m:\u001b[0m\u001b[0;34m\u001b[0m\u001b[0;34m\u001b[0m\u001b[0m\n\u001b[1;32m     34\u001b[0m                 \u001b[0mself\u001b[0m\u001b[0;34m.\u001b[0m\u001b[0memb_ent\u001b[0m\u001b[0;34m,\u001b[0m \u001b[0mself\u001b[0m\u001b[0;34m.\u001b[0m\u001b[0memb_pred\u001b[0m \u001b[0;34m=\u001b[0m \u001b[0mpickle\u001b[0m\u001b[0;34m.\u001b[0m\u001b[0mload\u001b[0m\u001b[0;34m(\u001b[0m\u001b[0mfin\u001b[0m\u001b[0;34m)\u001b[0m\u001b[0;34m\u001b[0m\u001b[0;34m\u001b[0m\u001b[0m\n\u001b[0;32m---> 35\u001b[0;31m             \u001b[0mself\u001b[0m\u001b[0;34m.\u001b[0m\u001b[0memb_ent\u001b[0m \u001b[0;34m=\u001b[0m \u001b[0mwrap\u001b[0m\u001b[0;34m(\u001b[0m\u001b[0mself\u001b[0m\u001b[0;34m.\u001b[0m\u001b[0memb_ent\u001b[0m\u001b[0;34m)\u001b[0m\u001b[0;34m\u001b[0m\u001b[0;34m\u001b[0m\u001b[0m\n\u001b[0m\u001b[1;32m     36\u001b[0m             \u001b[0mself\u001b[0m\u001b[0;34m.\u001b[0m\u001b[0memb_pred\u001b[0m \u001b[0;34m=\u001b[0m \u001b[0mwrap\u001b[0m\u001b[0;34m(\u001b[0m\u001b[0mself\u001b[0m\u001b[0;34m.\u001b[0m\u001b[0memb_pred\u001b[0m\u001b[0;34m)\u001b[0m\u001b[0;34m\u001b[0m\u001b[0;34m\u001b[0m\u001b[0m\n\u001b[1;32m     37\u001b[0m         \u001b[0;32melse\u001b[0m\u001b[0;34m:\u001b[0m\u001b[0;34m\u001b[0m\u001b[0;34m\u001b[0m\u001b[0m\n",
      "\u001b[0;32m~/gbnet/lib/my_ggnn_10.py\u001b[0m in \u001b[0;36mwrap\u001b[0;34m(nparr)\u001b[0m\n\u001b[1;32m     19\u001b[0m \u001b[0;34m\u001b[0m\u001b[0m\n\u001b[1;32m     20\u001b[0m \u001b[0;32mdef\u001b[0m \u001b[0mwrap\u001b[0m\u001b[0;34m(\u001b[0m\u001b[0mnparr\u001b[0m\u001b[0;34m)\u001b[0m\u001b[0;34m:\u001b[0m\u001b[0;34m\u001b[0m\u001b[0;34m\u001b[0m\u001b[0m\n\u001b[0;32m---> 21\u001b[0;31m     \u001b[0;32mreturn\u001b[0m \u001b[0mtorch_tensor\u001b[0m\u001b[0;34m(\u001b[0m\u001b[0mnparr\u001b[0m\u001b[0;34m,\u001b[0m \u001b[0mdtype\u001b[0m\u001b[0;34m=\u001b[0m\u001b[0mtorch_float32\u001b[0m\u001b[0;34m,\u001b[0m \u001b[0mdevice\u001b[0m\u001b[0;34m=\u001b[0m\u001b[0mint\u001b[0m\u001b[0;34m(\u001b[0m\u001b[0mos_environ\u001b[0m\u001b[0;34m[\u001b[0m\u001b[0;34m'CUDA_VISIBLE_DEVICES'\u001b[0m\u001b[0;34m]\u001b[0m\u001b[0;34m)\u001b[0m\u001b[0;34m,\u001b[0m \u001b[0mrequires_grad\u001b[0m\u001b[0;34m=\u001b[0m\u001b[0;32mFalse\u001b[0m\u001b[0;34m)\u001b[0m\u001b[0;34m\u001b[0m\u001b[0;34m\u001b[0m\u001b[0m\n\u001b[0m\u001b[1;32m     22\u001b[0m \u001b[0;34m\u001b[0m\u001b[0m\n\u001b[1;32m     23\u001b[0m \u001b[0;32mdef\u001b[0m \u001b[0marange\u001b[0m\u001b[0;34m(\u001b[0m\u001b[0mnum\u001b[0m\u001b[0;34m)\u001b[0m\u001b[0;34m:\u001b[0m\u001b[0;34m\u001b[0m\u001b[0;34m\u001b[0m\u001b[0m\n",
      "\u001b[0;32m~/anaconda3/envs/gbnet/lib/python3.8/site-packages/torch/cuda/__init__.py\u001b[0m in \u001b[0;36m_lazy_init\u001b[0;34m()\u001b[0m\n\u001b[1;32m    168\u001b[0m         \u001b[0;31m# This function throws if there's a driver initialization error, no GPUs\u001b[0m\u001b[0;34m\u001b[0m\u001b[0;34m\u001b[0m\u001b[0;34m\u001b[0m\u001b[0m\n\u001b[1;32m    169\u001b[0m         \u001b[0;31m# are found or any other error occurs\u001b[0m\u001b[0;34m\u001b[0m\u001b[0;34m\u001b[0m\u001b[0;34m\u001b[0m\u001b[0m\n\u001b[0;32m--> 170\u001b[0;31m         \u001b[0mtorch\u001b[0m\u001b[0;34m.\u001b[0m\u001b[0m_C\u001b[0m\u001b[0;34m.\u001b[0m\u001b[0m_cuda_init\u001b[0m\u001b[0;34m(\u001b[0m\u001b[0;34m)\u001b[0m\u001b[0;34m\u001b[0m\u001b[0;34m\u001b[0m\u001b[0m\n\u001b[0m\u001b[1;32m    171\u001b[0m         \u001b[0;31m# Some of the queued calls may reentrantly call _lazy_init();\u001b[0m\u001b[0;34m\u001b[0m\u001b[0;34m\u001b[0m\u001b[0;34m\u001b[0m\u001b[0m\n\u001b[1;32m    172\u001b[0m         \u001b[0;31m# we need to just return without initializing in that case.\u001b[0m\u001b[0;34m\u001b[0m\u001b[0;34m\u001b[0m\u001b[0;34m\u001b[0m\u001b[0m\n",
      "\u001b[0;31mRuntimeError\u001b[0m: CUDA unknown error - this may be due to an incorrectly set up environment, e.g. changing env variable CUDA_VISIBLE_DEVICES after program start. Setting the available devices to be zero."
     ]
    }
   ],
   "source": [
    "detector = KERN(classes=train.ind_to_classes, rel_classes=train.ind_to_predicates,\n",
    "                num_gpus=conf.num_gpus, mode=conf.mode, require_overlap_det=True,\n",
    "                use_resnet=conf.use_resnet, use_proposals=conf.use_proposals, pooling_dim=conf.pooling_dim,\n",
    "                ggnn_rel_time_step_num=3, ggnn_rel_hidden_dim=1024, ggnn_rel_output_dim=None,\n",
    "                graph_path=os.path.join(codebase, 'graphs/005/all_edges.pkl'), \n",
    "                emb_path=os.path.join(codebase, 'graphs/001/emb_mtx.pkl'), \n",
    "                rel_counts_path=os.path.join(codebase, 'graphs/001/pred_counts.pkl'), \n",
    "                use_knowledge=True, use_embedding=True, refine_obj_cls=False,\n",
    "                class_volume=1.0, with_clean_classifier=False, with_transfer=False,\n",
    "               )\n",
    "\n"
   ]
  },
  {
   "cell_type": "code",
   "execution_count": null,
   "metadata": {},
   "outputs": [],
   "source": [
    "# Freeze the detector\n",
    "for n, param in detector.detector.named_parameters():\n",
    "    param.requires_grad = False"
   ]
  },
  {
   "cell_type": "code",
   "execution_count": null,
   "metadata": {
    "scrolled": true
   },
   "outputs": [],
   "source": [
    "print(print_para(detector), flush=True)"
   ]
  },
  {
   "cell_type": "code",
   "execution_count": null,
   "metadata": {},
   "outputs": [],
   "source": [
    "def get_optim(lr):\n",
    "    # Lower the learning rate on the VGG fully connected layers by 1/10th. It's a hack, but it helps\n",
    "    # stabilize the models.\n",
    "    fc_params = [p for n,p in detector.named_parameters() if n.startswith('roi_fmap') and p.requires_grad]\n",
    "    non_fc_params = [p for n,p in detector.named_parameters() if not n.startswith('roi_fmap') and p.requires_grad]\n",
    "    params = [{'params': fc_params, 'lr': lr / 10.0}, {'params': non_fc_params}]\n",
    "    # params = [p for n,p in detector.named_parameters() if p.requires_grad]\n",
    "\n",
    "    if conf.adam:\n",
    "        optimizer = optim.Adam(params, weight_decay=conf.adamwd, lr=lr, eps=1e-3)\n",
    "    else:\n",
    "        optimizer = optim.SGD(params, weight_decay=conf.l2, lr=lr, momentum=0.9)\n",
    "\n",
    "    # scheduler = ReduceLROnPlateau(optimizer, 'max', patience=3, factor=0.1,\n",
    "    #                               verbose=True, threshold=0.0001, threshold_mode='abs', cooldown=1)\n",
    "    return optimizer #, scheduler\n",
    "\n"
   ]
  },
  {
   "cell_type": "code",
   "execution_count": null,
   "metadata": {},
   "outputs": [],
   "source": [
    "ckpt = torch.load(conf.ckpt)\n"
   ]
  },
  {
   "cell_type": "code",
   "execution_count": null,
   "metadata": {
    "tags": []
   },
   "outputs": [],
   "source": [
    "if conf.ckpt.split('-')[-2].split('/')[-1] == 'vgrel':\n",
    "    print(\"Loading EVERYTHING\")\n",
    "    start_epoch = ckpt['epoch']\n",
    "\n",
    "    if not optimistic_restore(detector, ckpt['state_dict']):\n",
    "        start_epoch = -1\n",
    "        # optimistic_restore(detector.detector, torch.load('checkpoints/vgdet/vg-28.tar')['state_dict'])\n",
    "else:\n",
    "    start_epoch = -1\n",
    "    optimistic_restore(detector.detector, ckpt['state_dict'])\n",
    "\n",
    "    detector.roi_fmap[1][0].weight.data.copy_(ckpt['state_dict']['roi_fmap.0.weight'])\n",
    "    detector.roi_fmap[1][3].weight.data.copy_(ckpt['state_dict']['roi_fmap.3.weight'])\n",
    "    detector.roi_fmap[1][0].bias.data.copy_(ckpt['state_dict']['roi_fmap.0.bias'])\n",
    "    detector.roi_fmap[1][3].bias.data.copy_(ckpt['state_dict']['roi_fmap.3.bias'])\n",
    "\n",
    "    detector.roi_fmap_obj[0].weight.data.copy_(ckpt['state_dict']['roi_fmap.0.weight'])\n",
    "    detector.roi_fmap_obj[3].weight.data.copy_(ckpt['state_dict']['roi_fmap.3.weight'])\n",
    "    detector.roi_fmap_obj[0].bias.data.copy_(ckpt['state_dict']['roi_fmap.0.bias'])\n",
    "    detector.roi_fmap_obj[3].bias.data.copy_(ckpt['state_dict']['roi_fmap.3.bias'])\n"
   ]
  },
  {
   "cell_type": "code",
   "execution_count": null,
   "metadata": {},
   "outputs": [],
   "source": [
    "detector.cuda();\n"
   ]
  },
  {
   "cell_type": "code",
   "execution_count": null,
   "metadata": {},
   "outputs": [],
   "source": []
  },
  {
   "cell_type": "code",
   "execution_count": null,
   "metadata": {},
   "outputs": [],
   "source": [
    "def train_epoch(epoch_num):\n",
    "    detector.train()\n",
    "    tr = []\n",
    "    start = time.time()\n",
    "    for b, batch in enumerate(train_loader):\n",
    "        result, loss_pd = train_batch(batch, verbose=b % (conf.print_interval*10) == 0)\n",
    "        tr.append(loss_pd)\n",
    "        '''\n",
    "        if b % 100 == 0:\n",
    "            print(loss_pd)\n",
    "            gt = result.rel_labels[:,3].data.cpu().numpy()\n",
    "            out = result.rel_dists.data.cpu().numpy()\n",
    "            ind = np.where(gt)[0]\n",
    "            print(gt[ind])\n",
    "            print(np.argmax(out[ind], 1))\n",
    "            print(np.argmax(out[ind, 1:], 1) + 1)\n",
    "        '''\n",
    "\n",
    "        if b % conf.print_interval == 0 and b >= conf.print_interval:\n",
    "            mn = pd.concat(tr[-conf.print_interval:], axis=1).mean(1)\n",
    "            time_per_batch = (time.time() - start) / conf.print_interval\n",
    "            print(\"\\ne{:2d}b{:5d}/{:5d} {:.3f}s/batch, {:.1f}m/epoch\".format(\n",
    "                epoch_num, b, len(train_loader), time_per_batch, len(train_loader) * time_per_batch / 60))\n",
    "            print(mn)\n",
    "            print('-----------', flush=True)\n",
    "            start = time.time()\n",
    "    return pd.concat(tr, axis=1)\n"
   ]
  },
  {
   "cell_type": "code",
   "execution_count": null,
   "metadata": {},
   "outputs": [],
   "source": [
    "def train_batch(b, verbose=False):\n",
    "    \"\"\"\n",
    "    :param b: contains:\n",
    "          :param imgs: the image, [batch_size, 3, IM_SIZE, IM_SIZE]\n",
    "          :param all_anchors: [num_anchors, 4] the boxes of all anchors that we'll be using\n",
    "          :param all_anchor_inds: [num_anchors, 2] array of the indices into the concatenated\n",
    "                                  RPN feature vector that give us all_anchors,\n",
    "                                  each one (img_ind, fpn_idx)\n",
    "          :param im_sizes: a [batch_size, 4] numpy array of (h, w, scale, num_good_anchors) for each image.\n",
    "\n",
    "          :param num_anchors_per_img: int, number of anchors in total over the feature pyramid per img\n",
    "\n",
    "          Training parameters:\n",
    "          :param train_anchor_inds: a [num_train, 5] array of indices for the anchors that will\n",
    "                                    be used to compute the training loss (img_ind, fpn_idx)\n",
    "          :param gt_boxes: [num_gt, 4] GT boxes over the batch.\n",
    "          :param gt_classes: [num_gt, 2] gt boxes where each one is (img_id, class)\n",
    "    :return:\n",
    "    \"\"\"\n",
    "    result = detector[b]\n",
    "    import pdb; pdb.set_trace()\n",
    "    losses = {}\n",
    "    losses['class_loss'] = detector.obj_loss(result)\n",
    "    losses['rel_loss'] = detector.rel_loss(result)\n",
    "    loss = sum(losses.values())\n",
    "\n",
    "    optimizer.zero_grad()\n",
    "    loss.backward()\n",
    "    clip_grad_norm(\n",
    "        [(n, p) for n, p in detector.named_parameters() if p.grad is not None],\n",
    "        max_norm=conf.clip, verbose=verbose, clip=True)\n",
    "    losses['total'] = loss\n",
    "    optimizer.step()\n",
    "    loss_pd = pd.Series({x: y.data.item() for x, y in losses.items()})\n",
    "    return result, loss_pd\n"
   ]
  },
  {
   "cell_type": "code",
   "execution_count": null,
   "metadata": {},
   "outputs": [],
   "source": [
    "def val_epoch():\n",
    "    detector.eval()\n",
    "    evaluator_list = [] # for calculating recall of each relationship except no relationship\n",
    "    evaluator_multiple_preds_list = []\n",
    "    for index, name in enumerate(ind_to_predicates):\n",
    "        if index == 0:\n",
    "            continue\n",
    "        evaluator_list.append((index, name, BasicSceneGraphEvaluator.all_modes()))\n",
    "        evaluator_multiple_preds_list.append((index, name, BasicSceneGraphEvaluator.all_modes(multiple_preds=True)))\n",
    "    evaluator = BasicSceneGraphEvaluator.all_modes() # for calculating recall\n",
    "    evaluator_multiple_preds = BasicSceneGraphEvaluator.all_modes(multiple_preds=True)\n",
    "    for val_b, batch in enumerate(val_loader):\n",
    "        val_batch(conf.num_gpus * val_b, batch, evaluator, evaluator_multiple_preds, evaluator_list, evaluator_multiple_preds_list)\n",
    "\n",
    "    recall = evaluator[conf.mode].print_stats()\n",
    "    recall_mp = evaluator_multiple_preds[conf.mode].print_stats()\n",
    "    \n",
    "    mean_recall = calculate_mR_from_evaluator_list(evaluator_list, conf.mode)\n",
    "    mean_recall_mp = calculate_mR_from_evaluator_list(evaluator_multiple_preds_list, conf.mode, multiple_preds=True)\n",
    "    \n",
    "    detector.train()\n",
    "    return recall, recall_mp, mean_recall, mean_recall_mp\n"
   ]
  },
  {
   "cell_type": "code",
   "execution_count": null,
   "metadata": {},
   "outputs": [],
   "source": [
    "def val_batch(batch_num, b, evaluator, evaluator_multiple_preds, evaluator_list, evaluator_multiple_preds_list):\n",
    "    det_res = detector[b]\n",
    "    if conf.num_gpus == 1:\n",
    "        det_res = [det_res]\n",
    "\n",
    "    for i, (boxes_i, objs_i, obj_scores_i, rels_i, pred_scores_i) in enumerate(det_res):\n",
    "        gt_entry = {\n",
    "            'gt_classes': val.gt_classes[batch_num + i].copy(),\n",
    "            'gt_relations': val.relationships[batch_num + i].copy(),\n",
    "            'gt_boxes': val.gt_boxes[batch_num + i].copy(),\n",
    "        }\n",
    "        assert np.all(objs_i[rels_i[:, 0]] > 0) and np.all(objs_i[rels_i[:, 1]] > 0)\n",
    "\n",
    "        pred_entry = {\n",
    "            'pred_boxes': boxes_i * BOX_SCALE/IM_SCALE,\n",
    "            'pred_classes': objs_i,\n",
    "            'pred_rel_inds': rels_i,\n",
    "            'obj_scores': obj_scores_i,\n",
    "            'rel_scores': pred_scores_i,  # hack for now.\n",
    "        }\n",
    "\n",
    "        eval_entry(conf.mode, gt_entry, pred_entry, evaluator, evaluator_multiple_preds, \n",
    "                   evaluator_list, evaluator_multiple_preds_list)\n",
    "\n"
   ]
  },
  {
   "cell_type": "code",
   "execution_count": null,
   "metadata": {},
   "outputs": [],
   "source": [
    "if conf.tb_log_dir is not None:\n",
    "    from tensorboardX import SummaryWriter\n",
    "    if not os.path.exists(conf.tb_log_dir):\n",
    "        os.makedirs(conf.tb_log_dir) \n",
    "    writer = SummaryWriter(log_dir=conf.tb_log_dir)\n",
    "    use_tb = True\n",
    "else:\n",
    "    use_tb = False\n"
   ]
  },
  {
   "cell_type": "code",
   "execution_count": null,
   "metadata": {
    "scrolled": false
   },
   "outputs": [],
   "source": [
    "# print(\"Training starts now!\")\n",
    "optimizer = get_optim(conf.lr * conf.num_gpus * conf.batch_size)\n",
    "\n",
    "for epoch in range(0, 30):\n",
    "    print('epoch =', epoch)\n",
    "    if epoch == 10 or epoch == 20:\n",
    "        for param_group in optimizer.param_groups:\n",
    "            param_group['lr'] /= 10\n",
    "    \n",
    "    rez = train_epoch(epoch)\n",
    "    print(\"overall{:2d}: ({:.3f})\\n{}\".format(epoch, rez.mean(1)['total'], rez.mean(1)), flush=True)\n",
    "\n",
    "    if use_tb:\n",
    "        writer.add_scalar('loss/rel_loss', rez.mean(1)['rel_loss'], epoch)\n",
    "        writer.add_scalar('loss/class_loss', rez.mean(1)['class_loss'], epoch)\n",
    "        writer.add_scalar('loss/total', rez.mean(1)['total'], epoch)\n",
    "\n",
    "    if conf.save_dir is not None:\n",
    "        torch.save({\n",
    "            'epoch': epoch,\n",
    "            'state_dict': detector.state_dict(), #{k:v for k,v in detector.state_dict().items() if not k.startswith('detector.')},\n",
    "            # 'optimizer': optimizer.state_dict(),\n",
    "        }, os.path.join(conf.save_dir, '{}-{}.tar'.format('vgrel', epoch)))\n",
    "\n",
    "    recall, recall_mp, mean_recall, mean_recall_mp = val_epoch()\n",
    "    if use_tb:\n",
    "        for key, value in recall.items():\n",
    "            writer.add_scalar('eval_' + conf.mode + '_with_constraint/' + key, value, epoch)\n",
    "        for key, value in recall_mp.items():\n",
    "            writer.add_scalar('eval_' + conf.mode + '_without_constraint/' + key, value, epoch)\n",
    "        for key, value in mean_recall.items():\n",
    "            writer.add_scalar('eval_' + conf.mode + '_with_constraint/mean ' + key, value, epoch)\n",
    "        for key, value in mean_recall_mp.items():\n",
    "            writer.add_scalar('eval_' + conf.mode + '_without_constraint/mean ' + key, value, epoch)\n",
    "\n"
   ]
  },
  {
   "cell_type": "code",
   "execution_count": null,
   "metadata": {},
   "outputs": [],
   "source": []
  }
 ],
 "metadata": {
  "kernelspec": {
   "display_name": "Python [conda env:gbnet]",
   "language": "python",
   "name": "conda-env-gbnet-py"
  },
  "language_info": {
   "codemirror_mode": {
    "name": "ipython",
    "version": 3
   },
   "file_extension": ".py",
   "mimetype": "text/x-python",
   "name": "python",
   "nbconvert_exporter": "python",
   "pygments_lexer": "ipython3",
   "version": "3.8.2"
  }
 },
 "nbformat": 4,
 "nbformat_minor": 4
}
